{
 "cells": [
  {
   "cell_type": "markdown",
   "metadata": {},
   "source": [
    "# Working with Stimuli\n",
    "\n",
    "So far we have learned how to load and handle spikes. Now we want to look at the stimuli eliciting the spikes to be able to investige the stimulus-response relationship of the recordings.\n",
    "\n",
    "**You will learn to:**\n",
    " - Align spike times to stimuli\n",
    " - Split spike times into multiple trials\n",
    " - Plot peristimulus time histogram (PSTH)\n",
    " - Compute and compare ON-OFF index among several cells\n",
    " \n",
    "Let's start again by importing relevant packages."
   ]
  },
  {
   "cell_type": "code",
   "execution_count": null,
   "metadata": {},
   "outputs": [],
   "source": [
    "from matplotlib import pyplot as plt\n",
    "import numpy as np\n",
    "import os\n",
    "\n",
    "%matplotlib inline"
   ]
  },
  {
   "cell_type": "code",
   "execution_count": null,
   "metadata": {},
   "outputs": [],
   "source": [
    "plt.rcParams['figure.figsize'] = (15.0, 6.0) # set default size of plots"
   ]
  },
  {
   "cell_type": "markdown",
   "metadata": {},
   "source": [
    "## 1 - On-Off Stimulus\n",
    "\n",
    "We will take a look at a stimulus consisting of on-off steps in light intensity. This is roughly how the stimulus looks like.\n",
    "\n",
    "<img src=\"onoffsteps.gif\" width=\"200\">\n",
    "\n",
    "The information about the stimulus is stored in a text file. For this stimulus, the times of each step transition is provided in the file."
   ]
  },
  {
   "cell_type": "markdown",
   "metadata": {},
   "source": [
    "**Exercise:** Load the stimulus step times from the file `filepath` in to the variable `stimulus`, like we have learned yesterday with the spike trains."
   ]
  },
  {
   "cell_type": "code",
   "execution_count": null,
   "metadata": {},
   "outputs": [],
   "source": [
    "filepath = os.path.join('data_on_off_steps', 'stimulus.txt')\n",
    "\n",
    "### START CODE HERE ###\n",
    "stimulus = np.loadtxt(filepath)\n",
    "### END CODE HERE ###"
   ]
  },
  {
   "cell_type": "markdown",
   "metadata": {},
   "source": [
    "To understand the loaded data, we will visualize them here with time versus light intensity."
   ]
  },
  {
   "cell_type": "code",
   "execution_count": null,
   "metadata": {},
   "outputs": [],
   "source": [
    "# Create a list of cylcling intensities: 0.5, 1, 0.5, 0, 0.5, 1, 0.5, 0, ...\n",
    "intensities = np.tile([0.5, 1, 0.5, 0], len(stimulus)//4)\n",
    "\n",
    "plt.step(stimulus, intensities, where='post')\n",
    "plt.xlabel('Time (s)')\n",
    "plt.ylabel('Light intesity')\n",
    "plt.xlim([0, 20]);"
   ]
  },
  {
   "cell_type": "markdown",
   "metadata": {},
   "source": [
    "We now load the spike times."
   ]
  },
  {
   "cell_type": "code",
   "execution_count": null,
   "metadata": {},
   "outputs": [],
   "source": [
    "# Load the spike timings from file\n",
    "filepath = os.path.join('data_on_off_steps', '3_SP_C1001.txt')\n",
    "spike_times = np.loadtxt(filepath)"
   ]
  },
  {
   "cell_type": "markdown",
   "metadata": {},
   "source": [
    "## 3 - Alignment\n",
    "\n",
    "A typical problem when handling data is the alignment of stimulus and recorded data, since it is not easy to start the stimulus and the recording at exactly the same time. Fortunately, we have the timings of both stimulus and spikes, such that we can simply cut off any spikes occuring beyond the first and last stimulus time."
   ]
  },
  {
   "cell_type": "code",
   "execution_count": null,
   "metadata": {},
   "outputs": [],
   "source": [
    "spike_times = spike_times[spike_times > stimulus[0]]  # Remove spikes before\n",
    "spike_times = spike_times[spike_times < stimulus[-1]]  # Remove spikes after"
   ]
  },
  {
   "cell_type": "markdown",
   "metadata": {},
   "source": [
    "## 2 - Trials\n",
    "\n",
    "Since we are dealing with a repeating stimulus, we will treat each stimulus cycle as a trial. To do so, we want to split the list of spike times into separate lists for each trial.\n",
    "\n",
    "Each trial in the stimulus consists of four parts:\n",
    " 1. Mean grey step\n",
    " 1. On step\n",
    " 1. Mean grey step\n",
    " 1. Off step\n",
    "\n",
    "Since we designed the stimulus, we know the length and start/end of each period (in seconds)"
   ]
  },
  {
   "cell_type": "code",
   "execution_count": null,
   "metadata": {},
   "outputs": [],
   "source": [
    "on_onset = 1.5\n",
    "on_offset = 2.0\n",
    "off_onset = 3.5\n",
    "off_offset = 4.0\n",
    "trial_length = 4.0"
   ]
  },
  {
   "cell_type": "markdown",
   "metadata": {},
   "source": [
    "`stimulus` can thus be split in individuals trials by groups of four elements. Every fourth list element (starting with the first) indicates the time onset of that trial."
   ]
  },
  {
   "cell_type": "code",
   "execution_count": null,
   "metadata": {},
   "outputs": [],
   "source": [
    "stimulus[::4]"
   ]
  },
  {
   "cell_type": "code",
   "execution_count": null,
   "metadata": {},
   "outputs": [],
   "source": [
    "num_trials = len(stimulus[::4])  # Total number of trials"
   ]
  },
  {
   "cell_type": "markdown",
   "metadata": {},
   "source": [
    "**Exercise:** Using the function `np.digitize` you know from binning spikes, create a list `trial_idx` that contains the trial indices for all spikes, i.e. each element is a trial number that the corresponding spike belongs to. For later indexing start with trial 0."
   ]
  },
  {
   "cell_type": "code",
   "execution_count": null,
   "metadata": {},
   "outputs": [],
   "source": [
    "### START CODE HERE ###\n",
    "trial_idx = np.digitize(spike_times, stimulus[::4])\n",
    "trial_idx -= 1  # Start with trial 0\n",
    "### END CODE HERE ###"
   ]
  },
  {
   "cell_type": "markdown",
   "metadata": {},
   "source": [
    "To find all spike times that belong the same trial we use the function `np.where`. The code below, for example, returns all spike times that happend during the first trial (remember indexing starts at 0)."
   ]
  },
  {
   "cell_type": "code",
   "execution_count": null,
   "metadata": {},
   "outputs": [],
   "source": [
    "spike_times[np.where(trial_idx == 0)]"
   ]
  },
  {
   "cell_type": "markdown",
   "metadata": {},
   "source": [
    "For each trial, we create a list like the one above and collect all these lists in a list `trials`."
   ]
  },
  {
   "cell_type": "code",
   "execution_count": null,
   "metadata": {},
   "outputs": [],
   "source": [
    "trials = []\n",
    "for trial in range(num_trials):\n",
    "    trials.append(spike_times[np.where(trial_idx == trial)])"
   ]
  },
  {
   "cell_type": "markdown",
   "metadata": {},
   "source": [
    "Let's remind ourselves: The recording was done continuously and the spike times are steadily increasing. However, we want every trial to start at zero.\n",
    "\n",
    "**Exercise:** Change the content of the loop above to align all trials at zero. **Hint:** Subtract the trial offset from  the spike_times."
   ]
  },
  {
   "cell_type": "code",
   "execution_count": null,
   "metadata": {},
   "outputs": [],
   "source": [
    "trials = []\n",
    "for trial in range(num_trials):\n",
    "    ### CHANGE CODE HERE ###\n",
    "    trials.append(spike_times[np.where(trial_idx == trial)]\n",
    "                  - stimulus[::4][trial])\n",
    "    ### END CODE HERE ###"
   ]
  },
  {
   "cell_type": "markdown",
   "metadata": {},
   "source": [
    "Now plot the raster for the multiple trials like learned previously."
   ]
  },
  {
   "cell_type": "code",
   "execution_count": null,
   "metadata": {},
   "outputs": [],
   "source": [
    "### START CODE HERE ###\n",
    "plt.eventplot(trials)\n",
    "plt.xlabel('Time (s)')\n",
    "plt.ylabel('Trial');\n",
    "### END CODE HERE ###"
   ]
  },
  {
   "cell_type": "markdown",
   "metadata": {},
   "source": [
    "## 4 - Plot PSTH\n",
    "\n",
    "A peristimulus time histogram (PSTH) is a histogram indicating how often a neuron spikes. It is useful to investigate the firing rate response of a neuron to a stimulus."
   ]
  },
  {
   "cell_type": "code",
   "execution_count": null,
   "metadata": {},
   "outputs": [],
   "source": [
    "# Bin size\n",
    "dt = 0.01\n",
    "\n",
    "# Divide trial into bins of length dt\n",
    "bins = np.arange(0, trial_length, dt)\n",
    "\n",
    "# Appoint bin indices to each spike\n",
    "indices = np.digitize(np.concatenate(trials), bins)\n",
    "\n",
    "# Count spikes in each bin\n",
    "rate = np.bincount(indices, minlength=len(bins))\n",
    "\n",
    "# Normalize to spikes per seconds\n",
    "rate = rate / (num_trials*dt)"
   ]
  },
  {
   "cell_type": "markdown",
   "metadata": {},
   "source": [
    "Now let's plot the PSTH!\n",
    "\n",
    "Only the first three lines are really necessary. The code below makes the plot more pretty and adds indicators of the stimulus."
   ]
  },
  {
   "cell_type": "code",
   "execution_count": null,
   "metadata": {},
   "outputs": [],
   "source": [
    "plt.plot(bins, rate, 'k')\n",
    "plt.xlabel('Time (s)')\n",
    "plt.ylabel('Firing rate (Hz)')\n",
    "\n",
    "\n",
    "# Make the plot pretty (you may inspect this code if you are interested)\n",
    "\n",
    "# Create rectangles for the stimulus period in the respective color\n",
    "from matplotlib.patches import Rectangle\n",
    "rect = []\n",
    "rect.append(Rectangle((0, -7), width=on_onset, height=3,\n",
    "                      facecolor='lightgray'))\n",
    "rect.append(Rectangle((on_offset, -7), width=off_onset-on_offset, height=3,\n",
    "                      facecolor='lightgray'))\n",
    "rect.append(Rectangle((off_onset, -7), width=off_offset-off_onset, height=3,\n",
    "                      facecolor='black'))\n",
    "\n",
    "# Add the rectangles to the plot\n",
    "ax = plt.gca()\n",
    "for r in rect:\n",
    "    ax.add_patch(r)\n",
    "\n",
    "# Remove the top and right axes\n",
    "ax.spines['bottom'].set_smart_bounds(True)\n",
    "ax.spines['left'].set_smart_bounds(True)\n",
    "ax.spines['right'].set_color('none')\n",
    "ax.spines['top'].set_color('none')\n",
    "ax.margins(x=0.03, y=0.07)\n",
    "\n",
    "# Only show integers on x-axis\n",
    "loc = ax.xaxis.get_major_locator()\n",
    "loc.set_params(integer=True)\n",
    "\n",
    "# Limit y-axis length\n",
    "loc = ax.yaxis.get_major_locator()\n",
    "loc.set_params(steps=[3])\n",
    "ax.spines['left'].set_bounds(0, 90)\n",
    "for i in [0, -1]:\n",
    "    ax.get_yticklabels()[i].set_visible(False)\n",
    "for i in [0, -2]:\n",
    "    ax.get_yticklines()[i].set_visible(False)"
   ]
  },
  {
   "cell_type": "markdown",
   "metadata": {},
   "source": [
    "## 5 - Calculate On-Off Index\n",
    "\n",
    "..."
   ]
  },
  {
   "cell_type": "markdown",
   "metadata": {},
   "source": [
    "## 6 - Compare Multiple Cells\n",
    "\n",
    "..."
   ]
  }
 ],
 "metadata": {
  "language_info": {
   "name": "python",
   "pygments_lexer": "ipython3"
  }
 },
 "nbformat": 4,
 "nbformat_minor": 2
}
