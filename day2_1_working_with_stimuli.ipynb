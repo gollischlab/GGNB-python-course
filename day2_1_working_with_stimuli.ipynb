{
 "cells": [
  {
   "cell_type": "markdown",
   "metadata": {},
   "source": [
    "# Working with Stimuli\n",
    "\n",
    "So far we have learned how to load and handle spikes. Now we want to look at the stimuli eliciting the spikes to be able to investige the stimulus-response relationship of the recordings.\n",
    "\n",
    "**You will learn to:**\n",
    " - Connect stimuli to spiking responses\n",
    " - Analyse multiple trials\n",
    " - Plot peristimulus time histogram (PSTH)\n",
    " \n",
    "Let's start again by importing relevant packages."
   ]
  },
  {
   "cell_type": "code",
   "execution_count": null,
   "metadata": {},
   "outputs": [],
   "source": [
    "# import packages\n",
    "from matplotlib import pyplot as plt\n",
    "import numpy as np\n",
    "\n",
    "%matplotlib inline\n",
    "plt.rcParams['figure.figsize'] = (15.0, 6.0) # set default size of plots"
   ]
  },
  {
   "cell_type": "markdown",
   "metadata": {},
   "source": [
    "## 1 - On-Off Stimulus\n",
    "\n",
    "We will take a look at a stimulus consisting of on-off steps in light intensity. This is roughly how the stimulus looks like.\n",
    "\n",
    "<img src=\"onoffsteps.gif\" width=\"200\">\n",
    "\n",
    "The information about the stimulus is stored in a text file. For this stimulus, the times of each step transition is provided in the file."
   ]
  },
  {
   "cell_type": "markdown",
   "metadata": {},
   "source": [
    "**Exercise:** Load the stimulus step times from the file `filepath` in to the variable `stimulus`, like we have learned yesterday with the spike trains."
   ]
  },
  {
   "cell_type": "code",
   "execution_count": null,
   "metadata": {},
   "outputs": [],
   "source": [
    "filepath = ''  # TODO: Provide file\n",
    "\n",
    "### START CODE HERE ###\n",
    "# stimulus = np.loadtxt(filepath)\n",
    "stimulus = np.linspace(0, 14, 21)  # TEMPORARY\n",
    "### END CODE HERE ###"
   ]
  },
  {
   "cell_type": "markdown",
   "metadata": {},
   "source": [
    "To understand the loaded data, we will visualize them here with time versus light intensity."
   ]
  },
  {
   "cell_type": "code",
   "execution_count": null,
   "metadata": {},
   "outputs": [],
   "source": [
    "# Create a list with alternating 0, 0.5 and 1\n",
    "intensity = np.zeros(stimulus.shape)\n",
    "intensity[0::2] = 0.5\n",
    "intensity[1::4] = 1\n",
    "\n",
    "plt.step(stimulus, intensity, where='post')\n",
    "plt.xlabel('Time (s)');\n",
    "plt.ylabel('Intesity');"
   ]
  },
  {
   "cell_type": "markdown",
   "metadata": {},
   "source": [
    "We now load the spike times."
   ]
  },
  {
   "cell_type": "code",
   "execution_count": null,
   "metadata": {},
   "outputs": [],
   "source": [
    "# Load the spike timings from file\n",
    "filepath = ''\n",
    "spike_times = np.loadtxt(filepath)"
   ]
  },
  {
   "cell_type": "markdown",
   "metadata": {},
   "source": [
    "## 3 - Alignment\n",
    "\n",
    "A typical problem when handling data is the alignment of stimulus and recorded data, since it is not easy to start the stimulus and the recording at exactly the same time. Fortunately, we have the timings of both stimulus and spikes, such that we can simply cut off any spikes occuring beyond the first and last stimulus time."
   ]
  },
  {
   "cell_type": "code",
   "execution_count": null,
   "metadata": {},
   "outputs": [],
   "source": [
    "spike_times = spike_times[spike_times > stimulus[0]]  # Remove spikes before\n",
    "spike_times = spike_times[spike_times < stimulus[-1]]  # Remove spikes after"
   ]
  },
  {
   "cell_type": "code",
   "execution_count": null,
   "metadata": {},
   "outputs": [],
   "source": [
    "# Bin spike times\n",
    "\n",
    "# TODO: Is there a function that is introduced before to do this?\n",
    "# bin_size = ...\n",
    "# spike_bins = ..."
   ]
  },
  {
   "cell_type": "markdown",
   "metadata": {},
   "source": [
    "## 2 - Trials\n",
    "\n",
    "Since we are are dealing with a repeating stimulus, we treat each stimulus cycle as a trial. The responses for each trial can then be stacked to obtain statistics.\n",
    "\n",
    "To do this we'll have to define the time onset of each trial and reshape the spike times into a matrix with the dimensions `trial length 🞨 number of trials`. The trial (i.e. stimulus) consists of four parts:\n",
    " 1. Mean grey step\n",
    " 1. On step\n",
    " 1. Mean grey step\n",
    " 1. Off step\n",
    "\n",
    "**Exercise:** Assuming that all trials were presented at same length, how do we obtain the length of one trial? Store the trial length into the variable `trial_length`. **Hint:** Remeber that indexing starts at zero in python."
   ]
  },
  {
   "cell_type": "code",
   "execution_count": null,
   "metadata": {},
   "outputs": [],
   "source": [
    "### START CODE HERE ###\n",
    "trial_length = stimulus[4]\n",
    "### END CODE HERE ###"
   ]
  },
  {
   "cell_type": "markdown",
   "metadata": {},
   "source": [
    "Given the `trial_length` and the `bin_size`, we reshape the spikes into trials."
   ]
  },
  {
   "cell_type": "code",
   "execution_count": null,
   "metadata": {},
   "outputs": [],
   "source": [
    "spike_bins = spike_bins.reshape((-1, trial_length * bin_size))"
   ]
  },
  {
   "cell_type": "markdown",
   "metadata": {},
   "source": [
    "The binned spikes now have the following dimensions."
   ]
  },
  {
   "cell_type": "code",
   "execution_count": null,
   "metadata": {},
   "outputs": [],
   "source": [
    "print(spike_bins.shape)"
   ]
  },
  {
   "cell_type": "markdown",
   "metadata": {},
   "source": [
    "## 3 - Plot Trials"
   ]
  },
  {
   "cell_type": "markdown",
   "metadata": {},
   "source": [
    "## 4 - Plot PSTH\n",
    "\n",
    "A peristimulus time histogram (PSTH) ..."
   ]
  }
 ],
 "metadata": {
  "language_info": {
   "name": "python",
   "pygments_lexer": "ipython3"
  }
 },
 "nbformat": 4,
 "nbformat_minor": 2
}
