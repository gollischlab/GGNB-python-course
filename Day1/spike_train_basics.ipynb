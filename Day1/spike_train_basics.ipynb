{
 "cells": [
  {
   "cell_type": "markdown",
   "metadata": {},
   "source": [
    "# Basics of spike train analysis\n",
    "\n",
    "This is the first part of the course. \n",
    "\n",
    "**You will learn to:** \n",
    "- Explore spike trains and analyze their statistics.\n",
    "- Plot stuff.\n",
    "\n",
    "Let's first import the packages we are going to use, and set up some plotting parameters."
   ]
  },
  {
   "cell_type": "code",
   "execution_count": 1,
   "metadata": {},
   "outputs": [],
   "source": [
    "# import packages\n",
    "import numpy as np\n",
    "import matplotlib.pyplot as plt\n",
    "import spkbasic\n",
    "from os import listdir\n",
    "from os.path import isfile, join\n",
    "\n",
    "%matplotlib inline\n",
    "plt.rcParams['figure.figsize'] = (15.0, 6.0) # set default size of plots"
   ]
  },
  {
   "cell_type": "markdown",
   "metadata": {},
   "source": [
    "## 1 - Loading and plotting spike trains"
   ]
  },
  {
   "cell_type": "markdown",
   "metadata": {},
   "source": [
    "Let's begin by loading"
   ]
  },
  {
   "cell_type": "markdown",
   "metadata": {},
   "source": [
    "### Loading single and multiple spike trains"
   ]
  },
  {
   "cell_type": "code",
   "execution_count": 2,
   "metadata": {},
   "outputs": [],
   "source": [
    "spike_file = open('example_spikes.txt')\n",
    "spike_times = np.array([float(line) for line in spike_file])\n",
    "spike_file.close()"
   ]
  },
  {
   "cell_type": "markdown",
   "metadata": {},
   "source": [
    "The file above contains the spike train of a single neuron in s."
   ]
  },
  {
   "cell_type": "code",
   "execution_count": 3,
   "metadata": {
    "scrolled": true
   },
   "outputs": [
    {
     "name": "stdout",
     "output_type": "stream",
     "text": [
      "[  0.6788   0.6822   0.692  ... 487.7582 487.7666 487.7752]\n"
     ]
    }
   ],
   "source": [
    "print(spike_times)"
   ]
  },
  {
   "cell_type": "markdown",
   "metadata": {},
   "source": [
    "**Exercise:** Since we are going to use loading of spike trains often, we will make a function out of it. This exercise should also test your basic understanding of functions. Try to fill `loadSpikeTrain()`:"
   ]
  },
  {
   "cell_type": "code",
   "execution_count": 4,
   "metadata": {},
   "outputs": [],
   "source": [
    "def loadSpikeTrain(pathToSpikeTrain):\n",
    "    '''\n",
    "    Inputs:\n",
    "            pathToSpikeTrain: string\n",
    "    Outputs: \n",
    "            spike_times: numpy array\n",
    "    '''\n",
    "    \n",
    "    ### START CODE HERE ### (approx. 3 lines)\n",
    "    spike_file = open(pathToSpikeTrain)\n",
    "    spike_times = np.array([float(line) for line in spike_file])\n",
    "    spike_file.close()\n",
    "    ### END CODE HERE ###\n",
    "    \n",
    "    return spike_times;"
   ]
  },
  {
   "cell_type": "code",
   "execution_count": 50,
   "metadata": {},
   "outputs": [
    {
     "name": "stdout",
     "output_type": "stream",
     "text": [
      "[  0.5766   2.8239   4.5523 ... 481.387  482.4371 482.4677]\n"
     ]
    }
   ],
   "source": [
    "print(loadSpikeTrain('spike_trains/18_SP_C203.txt'))"
   ]
  },
  {
   "cell_type": "markdown",
   "metadata": {},
   "source": [
    "Expected output: \n",
    "[  0.5766   2.8239   4.5523 ... 481.387  482.4371 482.4677]"
   ]
  },
  {
   "cell_type": "markdown",
   "metadata": {},
   "source": [
    "It is also useful to load multiple spike trains in our workspace. One can stack them in a list, or numpy array."
   ]
  },
  {
   "cell_type": "code",
   "execution_count": null,
   "metadata": {},
   "outputs": [],
   "source": []
  },
  {
   "cell_type": "markdown",
   "metadata": {},
   "source": [
    "**Exercise:** \n",
    "\n",
    "*Hint:* Make use of `loadSpikeTrain()` that we defined above!"
   ]
  },
  {
   "cell_type": "markdown",
   "metadata": {},
   "source": [
    "### Raster plots for spike train visualization"
   ]
  },
  {
   "cell_type": "markdown",
   "metadata": {},
   "source": [
    "An useful function for plotting spike trains is eventplot"
   ]
  },
  {
   "cell_type": "code",
   "execution_count": 42,
   "metadata": {},
   "outputs": [
    {
     "data": {
      "image/png": "[encoded data removed]",
      "text/plain": [
       "<Figure size 432x288 with 1 Axes>"
      ]
     },
     "metadata": {
      "needs_background": "light"
     },
     "output_type": "display_data"
    }
   ],
   "source": [
    "plt.eventplot(spike_times);\n",
    "plt.xlim([0,15]);\n",
    "plt.xlabel('Time (s)');"
   ]
  },
  {
   "cell_type": "markdown",
   "metadata": {},
   "source": [
    "It is possible to use eventplot to stack spike trains on top of one another. Can you plot the spike trains of five neurons?"
   ]
  },
  {
   "cell_type": "code",
   "execution_count": 36,
   "metadata": {},
   "outputs": [],
   "source": [
    "mypath='spike_trains/';\n",
    "onlyfiles = [f for f in listdir(mypath) if isfile(join(mypath, f))];\n",
    "\n",
    "spks=loadSpikeTrain(mypath+onlyfiles[0]);\n",
    "ii=0;\n",
    "all_trains=[];\n",
    "for pathfile in onlyfiles[:5]:\n",
    "    spks=loadSpikeTrain(mypath+pathfile);\n",
    "    all_trains.append(spks)\n"
   ]
  },
  {
   "cell_type": "code",
   "execution_count": 37,
   "metadata": {},
   "outputs": [],
   "source": [
    "def plotMultipleTrains(spkTrainList):\n",
    "    ### START CODE HERE ### (approx. 4 lines)\n",
    "    \n",
    "    plt.eventplot(np.array(all_trains));\n",
    "    plt.xlim([0,25]);\n",
    "    ### END CODE HERE ###\n",
    "    return;"
   ]
  },
  {
   "cell_type": "code",
   "execution_count": 38,
   "metadata": {},
   "outputs": [
    {
     "data": {
      "image/png": "[encoded data removed]",
      "text/plain": [
       "<Figure size 432x288 with 1 Axes>"
      ]
     },
     "metadata": {
      "needs_background": "light"
     },
     "output_type": "display_data"
    }
   ],
   "source": [
    "plotMultipleTrains(all_trains)"
   ]
  },
  {
   "cell_type": "markdown",
   "metadata": {},
   "source": [
    "Although spike times are very intuitive and easy to handle, we can run to problems. For that reason, we will introduce an alternative representation of spike trains."
   ]
  },
  {
   "cell_type": "markdown",
   "metadata": {},
   "source": [
    "## 2 - Binning spike trains"
   ]
  },
  {
   "cell_type": "markdown",
   "metadata": {},
   "source": [
    "Spike trains almost never contain the same number of events. This fact makes their manipulation for plotting and analysis harder."
   ]
  },
  {
   "cell_type": "markdown",
   "metadata": {},
   "source": [
    "### Spike trains as discrete events"
   ]
  },
  {
   "cell_type": "markdown",
   "metadata": {},
   "source": [
    "You can bin the spike trains of multiple neurons at once."
   ]
  },
  {
   "cell_type": "code",
   "execution_count": 47,
   "metadata": {},
   "outputs": [
    {
     "data": {
      "text/plain": [
       "array([  68,   69,   70, ..., 1500, 1500, 1500], dtype=int64)"
      ]
     },
     "execution_count": 47,
     "metadata": {},
     "output_type": "execute_result"
    }
   ],
   "source": [
    "bins=np.arange(0,15,0.01)\n",
    "finds=np.digitize(spike_times,bins);\n",
    "frate = [spike_times[finds == i].sum() for i in range(1, len(bins))]\n",
    "finds\n"
   ]
  },
  {
   "cell_type": "markdown",
   "metadata": {},
   "source": [
    "### Firing rates"
   ]
  },
  {
   "cell_type": "markdown",
   "metadata": {},
   "source": [
    "**Exercise:** Bin the spike times in 10 ms bins."
   ]
  },
  {
   "cell_type": "markdown",
   "metadata": {},
   "source": [
    "**Exercise:** Did the drug significantly alter the firing rate?"
   ]
  },
  {
   "cell_type": "markdown",
   "metadata": {},
   "source": [
    "## 3 - Spike train statistics"
   ]
  },
  {
   "cell_type": "markdown",
   "metadata": {},
   "source": [
    "By looking at statistical properties of spike trains, we can extract useful information."
   ]
  },
  {
   "cell_type": "markdown",
   "metadata": {},
   "source": [
    "### Interspike interval histogram"
   ]
  },
  {
   "cell_type": "markdown",
   "metadata": {},
   "source": [
    "Below, you see the interspike interval histogram of a single neuron:"
   ]
  },
  {
   "cell_type": "code",
   "execution_count": 46,
   "metadata": {},
   "outputs": [
    {
     "data": {
      "image/png": "[encoded data removed]",
      "text/plain": [
       "<Figure size 1080x432 with 1 Axes>"
      ]
     },
     "metadata": {
      "needs_background": "light"
     },
     "output_type": "display_data"
    }
   ],
   "source": [
    "plt.hist(np.diff(spike_times)*1e3,np.linspace(0,30,100));"
   ]
  },
  {
   "cell_type": "markdown",
   "metadata": {},
   "source": [
    "**Exercise:** Try to reproduce such a histogram by filling `plotIsiHistogram()` below. The functions `np.diff` and `plt.hist` might help you"
   ]
  },
  {
   "cell_type": "code",
   "execution_count": 65,
   "metadata": {},
   "outputs": [],
   "source": [
    "def plotIsiHistogram(spiketrain):\n",
    "    ### START CODE HERE ### (approx. 2 lines)\n",
    "    plt.hist(np.diff(spiketrain)*1e3,np.linspace(0,30,100));\n",
    "    ### END CODE HERE ###"
   ]
  },
  {
   "cell_type": "code",
   "execution_count": 66,
   "metadata": {},
   "outputs": [
    {
     "data": {
      "image/png": "[encoded data removed]",
      "text/plain": [
       "<Figure size 1080x432 with 1 Axes>"
      ]
     },
     "metadata": {
      "needs_background": "light"
     },
     "output_type": "display_data"
    }
   ],
   "source": [
    "plotIsiHistogram(spike_times)"
   ]
  },
  {
   "cell_type": "markdown",
   "metadata": {},
   "source": [
    "**Exercise:** Estimate the % of intervals that are below 2 ms by filling in `percentIntervals(spike_train)`"
   ]
  },
  {
   "cell_type": "code",
   "execution_count": 58,
   "metadata": {},
   "outputs": [],
   "source": [
    "def percentIntervals(spiketrain,timeval):\n",
    "    ### START CODE HERE ### (approx. 2 lines)\n",
    "    spdiffs=np.diff(spiketrain)*1e3;\n",
    "    pint=np.sum(spdiffs<timeval)/np.size(spiketrain)\n",
    "    ### END CODE HERE ###\n",
    "    return pint"
   ]
  },
  {
   "cell_type": "code",
   "execution_count": 61,
   "metadata": {},
   "outputs": [
    {
     "name": "stdout",
     "output_type": "stream",
     "text": [
      "ISIs below 2 ms are 1.1500649230198479%\n"
     ]
    }
   ],
   "source": [
    "print(\"ISIs below 2 ms are \" + str(100*percentIntervals(spike_times,2)) + \"%\")"
   ]
  },
  {
   "cell_type": "markdown",
   "metadata": {},
   "source": [
    "**Expected output:**\n",
    "1.15 %"
   ]
  },
  {
   "cell_type": "markdown",
   "metadata": {},
   "source": [
    "### Autocorrelogram"
   ]
  },
  {
   "cell_type": "code",
   "execution_count": 25,
   "metadata": {},
   "outputs": [
    {
     "data": {
      "text/plain": [
       "[<matplotlib.lines.Line2D at 0x1f3aec8b390>]"
      ]
     },
     "execution_count": 25,
     "metadata": {},
     "output_type": "execute_result"
    },
    {
     "data": {
      "image/png": "[encoded data removed]",
      "text/plain": [
       "<Figure size 432x288 with 1 Axes>"
      ]
     },
     "metadata": {
      "needs_background": "light"
     },
     "output_type": "display_data"
    }
   ],
   "source": [
    "cres=np.correlate(spike_times,spike_times,mode='full')\n",
    "plt.plot(cres)"
   ]
  },
  {
   "cell_type": "markdown",
   "metadata": {},
   "source": [
    "### Crosscorrelogram"
   ]
  },
  {
   "cell_type": "code",
   "execution_count": null,
   "metadata": {},
   "outputs": [],
   "source": []
  }
 ],
 "metadata": {
  "kernelspec": {
   "display_name": "Python 3",
   "language": "python",
   "name": "python3"
  },
  "language_info": {
   "codemirror_mode": {
    "name": "ipython",
    "version": 3
   },
   "file_extension": ".py",
   "mimetype": "text/x-python",
   "name": "python",
   "nbconvert_exporter": "python",
   "pygments_lexer": "ipython3",
   "version": "3.7.1"
  }
 },
 "nbformat": 4,
 "nbformat_minor": 2
}
