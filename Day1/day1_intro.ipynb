{
 "cells": [
  {
   "cell_type": "markdown",
   "metadata": {},
   "source": [
    "# Introduction to Python\n",
    "\n",
    "We will look at the basic structure and commands of Python.\n",
    "\n",
    "0. How to use iPython Notebook\n",
    "1. Data types\n",
    "2. \n",
    "\n",
    "Python is super awesome!\n"
   ]
  },
  {
   "cell_type": "markdown",
   "metadata": {},
   "source": [
    "# 0. How to use iPython Notebook"
   ]
  },
  {
   "cell_type": "markdown",
   "metadata": {},
   "source": [
    "You can run a cell by pressing `Ctrl + Enter`, you can run and move onto the next cell with `Shift + Enter`. Press `H` for a full list of shortcuts."
   ]
  },
  {
   "cell_type": "markdown",
   "metadata": {},
   "source": [
    "# 1. Data types"
   ]
  },
  {
   "cell_type": "markdown",
   "metadata": {},
   "source": [
    "Data type is a very important property of variables. Let's start by defining two variable `a` and `b`."
   ]
  },
  {
   "cell_type": "code",
   "execution_count": null,
   "metadata": {},
   "outputs": [],
   "source": [
    "a = 3\n",
    "b = '3'\n",
    "print(a)\n",
    "print(b)"
   ]
  },
  {
   "cell_type": "markdown",
   "metadata": {},
   "source": [
    "They look similar, but they are very different!"
   ]
  },
  {
   "cell_type": "code",
   "execution_count": null,
   "metadata": {},
   "outputs": [],
   "source": [
    "a + a"
   ]
  },
  {
   "cell_type": "code",
   "execution_count": null,
   "metadata": {},
   "outputs": [],
   "source": [
    "b + b"
   ]
  },
  {
   "cell_type": "code",
   "execution_count": null,
   "metadata": {},
   "outputs": [],
   "source": [
    "a + b"
   ]
  },
  {
   "cell_type": "code",
   "execution_count": null,
   "metadata": {},
   "outputs": [],
   "source": [
    "type(a)"
   ]
  },
  {
   "cell_type": "code",
   "execution_count": null,
   "metadata": {},
   "outputs": [],
   "source": [
    "type(b)"
   ]
  },
  {
   "cell_type": "code",
   "execution_count": null,
   "metadata": {},
   "outputs": [],
   "source": [
    "a/2"
   ]
  },
  {
   "cell_type": "code",
   "execution_count": null,
   "metadata": {},
   "outputs": [],
   "source": [
    "a = 2\n",
    "print(a+9) # <- this symbol denotes a comment, which will be ignored by Python"
   ]
  },
  {
   "cell_type": "code",
   "execution_count": null,
   "metadata": {},
   "outputs": [],
   "source": [
    "nrs = [1, 2, 3, 4, 5, 6] # This is a list\n",
    "print(nrs[1])\n",
    "print(nrs[4])\n",
    "print(nrs[-1])"
   ]
  },
  {
   "cell_type": "markdown",
   "metadata": {},
   "source": [
    "Comma separated values in square brackets denotes a **list**, square brackets next to a variable name are **indexes**."
   ]
  },
  {
   "cell_type": "markdown",
   "metadata": {},
   "source": [
    "#### a bit fancier indexing"
   ]
  },
  {
   "cell_type": "code",
   "execution_count": null,
   "metadata": {},
   "outputs": [],
   "source": [
    "print(nrs)\n",
    "print(nrs[2:])      # Starting from index 2, until the end\n",
    "print(nrs[:-2])     # until the second-to-last element\n",
    "print(nrs[4:-1])    # from fourth to last element\n",
    "print(nrs[::2])     # every second element\n",
    "print(nrs[::-1])    # inverse order"
   ]
  },
  {
   "cell_type": "code",
   "execution_count": null,
   "metadata": {},
   "outputs": [],
   "source": [
    "\n",
    "name = input('Enter your name: ')\n",
    "print('Nice to meet you', name, '!')\n",
    "\n",
    "if name.startswith('y'):\n",
    "    print('What a coincidence')"
   ]
  },
  {
   "cell_type": "markdown",
   "metadata": {},
   "source": [
    "### The most commonly encountered data types are"
   ]
  },
  {
   "cell_type": "markdown",
   "metadata": {},
   "source": [
    "\n",
    "- integers\n",
    "- floats\n",
    "- strings\n",
    "- lists\n",
    "- dictionaries\n",
    "- booleans"
   ]
  },
  {
   "cell_type": "code",
   "execution_count": null,
   "metadata": {},
   "outputs": [],
   "source": [
    "mybooks = ['lotr', 'hgtg', 'hp']\n",
    "print(mybooks)\n",
    "\n",
    "mybooks.append('intro to python')\n",
    "print(mybooks)"
   ]
  },
  {
   "cell_type": "markdown",
   "metadata": {},
   "source": [
    "##### Hint: pressing `Tab` while writing a command or variable's namewill autocomplete it. Try len(mybo `TAB`"
   ]
  },
  {
   "cell_type": "markdown",
   "metadata": {},
   "source": [
    "We can directly access elements and modify them by using their indices."
   ]
  },
  {
   "cell_type": "code",
   "execution_count": null,
   "metadata": {},
   "outputs": [],
   "source": [
    "mybooks[0] = 'lord of the rings'\n",
    "print(mybooks)\n",
    "\n",
    "for book in mybooks:\n",
    "    print(book)\n",
    "    \n"
   ]
  },
  {
   "cell_type": "code",
   "execution_count": null,
   "metadata": {},
   "outputs": [],
   "source": [
    "'hp' in mybooks"
   ]
  },
  {
   "cell_type": "markdown",
   "metadata": {},
   "source": [
    "### Operators"
   ]
  },
  {
   "cell_type": "markdown",
   "metadata": {},
   "source": [
    "`+`, `-`, `*`, `/`\n",
    "\n",
    "`<`, `>`,`<=`, `>=`, `==`\n",
    "\n",
    "`**`, `%`\n",
    "\n",
    "`and`, `or`"
   ]
  },
  {
   "cell_type": "markdown",
   "metadata": {},
   "source": [
    "# Using libraries\n",
    "\n",
    "There are thousands of Python libraries that can be used. After installing them (conda can be used), it's easy to start using them:"
   ]
  },
  {
   "cell_type": "code",
   "execution_count": null,
   "metadata": {},
   "outputs": [],
   "source": [
    "import numpy as np\n",
    "a = np.random.randint(10)\n",
    "print(a)"
   ]
  },
  {
   "cell_type": "code",
   "execution_count": null,
   "metadata": {},
   "outputs": [],
   "source": [
    "np.arange(10)**2"
   ]
  },
  {
   "cell_type": "code",
   "execution_count": null,
   "metadata": {},
   "outputs": [],
   "source": [
    "import matplotlib.pyplot as plt\n",
    "\n",
    "\n",
    "x = np.arange(20)\n",
    "plt.figure(figsize=(10,5))\n",
    "ax1 = plt.subplot(121)\n",
    "ax1.plot(x, x**2)\n",
    "ax2 = plt.subplot(122)\n",
    "ax2.plot(np.random.random(200))\n",
    "\n",
    "plt.show()"
   ]
  },
  {
   "cell_type": "markdown",
   "metadata": {},
   "source": [
    "# Loops"
   ]
  },
  {
   "cell_type": "code",
   "execution_count": null,
   "metadata": {},
   "outputs": [],
   "source": [
    "for i in range(10):\n",
    "    print(i)"
   ]
  },
  {
   "cell_type": "code",
   "execution_count": null,
   "metadata": {},
   "outputs": [],
   "source": [
    "sum = 0\n",
    "for i in range(10):\n",
    "    sum += i**2\n",
    "    print(i**2, sum)\n"
   ]
  },
  {
   "cell_type": "markdown",
   "metadata": {},
   "source": [
    "You don't have to use indexes, you also can iterate over the lists directly."
   ]
  },
  {
   "cell_type": "code",
   "execution_count": null,
   "metadata": {},
   "outputs": [],
   "source": [
    "mylist = [1, 1, 2, 3, 5, 8, 13]\n",
    "\n",
    "for element in mylist:\n",
    "    print(element)"
   ]
  },
  {
   "cell_type": "markdown",
   "metadata": {},
   "source": [
    "## while loops"
   ]
  },
  {
   "cell_type": "markdown",
   "metadata": {},
   "source": [
    "A more general form of loops is the `while` loop. It continues _while_ the condition is satisfied."
   ]
  },
  {
   "cell_type": "code",
   "execution_count": null,
   "metadata": {},
   "outputs": [],
   "source": [
    "mynr = 0\n",
    "text = 'no'\n",
    "while text != 'yes':\n",
    "    text = input('Would you like me to stop asking this question? ')"
   ]
  },
  {
   "cell_type": "markdown",
   "metadata": {},
   "source": [
    "Use with caution! It's very easy to get stuck in an infinite loop if you are not careful. You can stop the loop by `Kernel>Interrupt`."
   ]
  },
  {
   "cell_type": "markdown",
   "metadata": {},
   "source": [
    "Actually, a for loop is just a fancy while loop!"
   ]
  },
  {
   "cell_type": "code",
   "execution_count": null,
   "metadata": {},
   "outputs": [],
   "source": [
    "start = 0\n",
    "end = 10\n",
    "index = start\n",
    "while index<end:\n",
    "    #do things\n",
    "    print(index)\n",
    "    index = index + 1\n",
    "    "
   ]
  },
  {
   "cell_type": "markdown",
   "metadata": {},
   "source": [
    "# Conditionals"
   ]
  },
  {
   "cell_type": "code",
   "execution_count": null,
   "metadata": {},
   "outputs": [],
   "source": [
    "age = 14\n",
    "\n",
    "if age < 16:\n",
    "    print('not allowed to drink in Germany')\n",
    "elif age < 18:\n",
    "    print('can drink beer and wine in Germany')\n",
    "elif age < 21:\n",
    "    print('party time (anywhere except US)')\n",
    "else:\n",
    "    print('')"
   ]
  },
  {
   "cell_type": "markdown",
   "metadata": {},
   "source": [
    "Booleans can be used directly."
   ]
  },
  {
   "cell_type": "code",
   "execution_count": null,
   "metadata": {},
   "outputs": [],
   "source": [
    "speaks_spanish = False\n",
    "\n",
    "if speaks_spanish:\n",
    "    print('¡Hola!')\n",
    "else:\n",
    "    print('Hello!')"
   ]
  },
  {
   "cell_type": "markdown",
   "metadata": {},
   "source": [
    "We can combine loops and conditionals to do more useful things."
   ]
  },
  {
   "cell_type": "code",
   "execution_count": null,
   "metadata": {},
   "outputs": [],
   "source": [
    "for i in range(20):\n",
    "    if i % 5 == 0:\n",
    "        print(i, ' is a multiple of five.')"
   ]
  },
  {
   "cell_type": "markdown",
   "metadata": {},
   "source": [
    "Note that 20 is not in the list because `range(20)` will generate numbers starting from `0` up to `19`."
   ]
  },
  {
   "cell_type": "markdown",
   "metadata": {},
   "source": [
    "##### Exercise"
   ]
  },
  {
   "cell_type": "markdown",
   "metadata": {},
   "source": [
    "Write a program that prints numbers until 45. If a number is a multiple of **3**, print `fizz` instead of the number and `buzz` for multiples of **5**. Print `fizzbuzz` for multiples of both.\n",
    "\n",
    "_If you're done before everyone else, try to do it without having to explicitly checking for `fizzbuzz`_"
   ]
  },
  {
   "cell_type": "code",
   "execution_count": null,
   "metadata": {},
   "outputs": [],
   "source": [
    "# Your code goes here:\n"
   ]
  }
 ],
 "metadata": {
  "kernelspec": {
   "display_name": "Python3.6",
   "language": "python",
   "name": "base"
  },
  "language_info": {
   "codemirror_mode": {
    "name": "ipython",
    "version": 3
   },
   "file_extension": ".py",
   "mimetype": "text/x-python",
   "name": "python",
   "nbconvert_exporter": "python",
   "pygments_lexer": "ipython3",
   "version": "3.6.7"
  }
 },
 "nbformat": 4,
 "nbformat_minor": 2
}
