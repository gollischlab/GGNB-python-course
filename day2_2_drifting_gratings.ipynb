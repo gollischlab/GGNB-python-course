{
 "cells": [
  {
   "cell_type": "markdown",
   "metadata": {},
   "source": [
    "# Project 1: Probing direction selectivity in the mouse retina"
   ]
  },
  {
   "cell_type": "markdown",
   "metadata": {},
   "source": [
    "Welcome to the first project of the class. \n",
    "\n",
    "**You will learn to:** \n",
    "- Construct direction tuning curves from grating data.\n",
    "- Quantify direction selectivity.\n",
    "- Perform statistical comparison of paired samples.\n",
    "\n",
    "Let's first import the packages we are going to use, and set up some plotting parameters."
   ]
  },
  {
   "cell_type": "code",
   "execution_count": null,
   "metadata": {},
   "outputs": [],
   "source": [
    "# import packages\n",
    "import numpy as np\n",
    "import matplotlib.pyplot as plt\n",
    "import spkbasic\n",
    "from os import listdir\n",
    "from os.path import isfile, join\n",
    "from scipy import stats\n",
    "\n",
    "%matplotlib inline\n",
    "plt.rcParams['figure.figsize'] = (15.0, 6.0) # set default size of plots"
   ]
  },
  {
   "cell_type": "markdown",
   "metadata": {},
   "source": [
    "## 1 - Creating tuning curves"
   ]
  },
  {
   "cell_type": "code",
   "execution_count": null,
   "metadata": {},
   "outputs": [],
   "source": [
    "stimulus = np.loadtxt('data_drifting_grating/stimulus.txt')"
   ]
  },
  {
   "cell_type": "markdown",
   "metadata": {},
   "source": [
    "Each cycle contains the presentations of gratings drifting in one of 8 directions, for 400 frames, with a period of 100 frames. There is a pulse in the beginning of each period, except for the first one (as it's usually ignored in the analysis). In between the directions, there is a gray screen of 300 frames."
   ]
  },
  {
   "cell_type": "code",
   "execution_count": null,
   "metadata": {},
   "outputs": [],
   "source": [
    "duration=400\n",
    "period=100\n",
    "Nangles=8\n",
    "Ncycles=4\n",
    "angles=np.linspace(0,2*np.pi,num=8,endpoint=False)\n",
    "NanglePulses=int(np.floor(duration/period))-1\n",
    "NcyclePulses=NanglePulses*Nangles\n",
    "NstimPulses=NcyclePulses*Ncycles\n",
    "pulseTimes=stimulus[0:int(NstimPulses)]\n",
    "pulseTimes=np.reshape(pulseTimes,(Ncycles,Nangles,NanglePulses))\n",
    "periodDuration=np.mean(np.diff(pulseTimes,n=1,axis=2))"
   ]
  },
  {
   "cell_type": "markdown",
   "metadata": {},
   "source": [
    "Having set up the stimulus times, now we can count spikes! Let's load the spikes an example cell"
   ]
  },
  {
   "cell_type": "code",
   "execution_count": null,
   "metadata": {},
   "outputs": [],
   "source": [
    "def calculateSpikeCounts(pulseTimes,spikeTimes):\n",
    "    periodDuration=np.mean(np.diff(pulseTimes,n=1,axis=2)) # get period duration\n",
    "    pulseTimesShape=np.shape(pulseTimes)\n",
    "    spikeCounts=np.zeros(pulseTimesShape[:2]) # pre-allocate the array\n",
    "    \n",
    "    for iCycle in range(0,pulseTimesShape[0]):\n",
    "        for iDirection in range(0,pulseTimesShape[1]):\n",
    "            dirSpikes=spikeTimes[spikeTimes>=pulseTimes[iCycle,iDirection,0]]\n",
    "            dirSpikes=dirSpikes[dirSpikes<pulseTimes[iCycle,iDirection,-1]+periodDuration]\n",
    "            spikeCounts[iCycle,iDirection]=np.size(dirSpikes)\n",
    "    return spikeCounts"
   ]
  },
  {
   "cell_type": "code",
   "execution_count": null,
   "metadata": {},
   "outputs": [],
   "source": [
    "exampleSpikeTimes=np.loadtxt('data_drifting_grating/5_SP_C3601.txt')\n",
    "exampleSpikeCounts=calculateSpikeCounts(pulseTimes,exampleSpikeTimes)\n",
    "print(exampleSpikeCounts)\n",
    "tuningCurve=np.mean(exampleSpikeCounts,axis=0)\n",
    "plt.plot(angles,tuningCurve)\n",
    "plt.title('Tuning Curve')\n",
    "plt.ylabel('spike count');"
   ]
  },
  {
   "cell_type": "markdown",
   "metadata": {},
   "source": [
    "**Exercise:** Plot the tuning curve in a polar plot by filling in ```plotTuningCurvePolar(angles, responses)```, as above:"
   ]
  },
  {
   "cell_type": "code",
   "execution_count": null,
   "metadata": {},
   "outputs": [],
   "source": [
    "plt.polar(angles,tuningCurve)"
   ]
  },
  {
   "cell_type": "markdown",
   "metadata": {},
   "source": [
    "By running the following cell, examine the tuning curve of another cell. What do you observe?"
   ]
  },
  {
   "cell_type": "markdown",
   "metadata": {},
   "source": [
    "Bonus: try to add 95% confidence intervals to your plot as well"
   ]
  },
  {
   "cell_type": "markdown",
   "metadata": {},
   "source": [
    "## 2 - Quantification of direction selectivity"
   ]
  },
  {
   "cell_type": "markdown",
   "metadata": {},
   "source": [
    "### The direction selectivity index (DSI)"
   ]
  },
  {
   "cell_type": "markdown",
   "metadata": {},
   "source": [
    "$$ DSI = \\frac{1}{\\sum_{k=1}^{N}{r_{k}}} \\sum_{k=1}^{N}{r_{k}e^{i\\phi_{k}}} $$"
   ]
  },
  {
   "cell_type": "markdown",
   "metadata": {},
   "source": [
    "**Exercise:** Fill in ```calculateDSI(angles,responses)```:"
   ]
  },
  {
   "cell_type": "code",
   "execution_count": null,
   "metadata": {},
   "outputs": [],
   "source": [
    "def calculateDSI(angles,responses):\n",
    "    return dsi"
   ]
  },
  {
   "cell_type": "code",
   "execution_count": null,
   "metadata": {
    "scrolled": true
   },
   "outputs": [],
   "source": [
    "print('DSI is ')"
   ]
  },
  {
   "cell_type": "markdown",
   "metadata": {},
   "source": [
    "Expected output: 0.25"
   ]
  },
  {
   "cell_type": "markdown",
   "metadata": {},
   "source": [
    "Maybe you have done it already, but it is possible to vectorize the function above. "
   ]
  },
  {
   "cell_type": "markdown",
   "metadata": {},
   "source": [
    "**Exercise:** Calculate the DSIs for all cells provided, and plot a histogram"
   ]
  },
  {
   "cell_type": "markdown",
   "metadata": {},
   "source": [
    "### Monte Carlo permutation for creating DSI confidence intervals"
   ]
  },
  {
   "cell_type": "markdown",
   "metadata": {},
   "source": [
    "Examine the tuning curve of the following cell. Although the DSI value is above 0.2, the cell barely responded to the stimulus"
   ]
  },
  {
   "cell_type": "markdown",
   "metadata": {},
   "source": [
    "**Exercise:** Calculate a permutation distribution of dsis for cell 1. Now, the vectorized version of ```calculateDSI()``` will be definitely useful!"
   ]
  },
  {
   "cell_type": "markdown",
   "metadata": {},
   "source": [
    "Calculate the p-values of all DSIs observed, and plot them versus the DSI value:"
   ]
  },
  {
   "cell_type": "code",
   "execution_count": null,
   "metadata": {},
   "outputs": [],
   "source": []
  },
  {
   "cell_type": "markdown",
   "metadata": {},
   "source": [
    "**Exercise (bonus):** It is possible to vectorize the p-value calculation as well. Can you think how to do it?"
   ]
  },
  {
   "cell_type": "markdown",
   "metadata": {},
   "source": [
    "## 3 - Comparing direction selectivity between different stimuli"
   ]
  },
  {
   "cell_type": "markdown",
   "metadata": {},
   "source": [
    "Instead of a paired t-test, that assumes normality of the underlying data, we will perform a Wilcoxon signed-rank test."
   ]
  },
  {
   "cell_type": "code",
   "execution_count": null,
   "metadata": {},
   "outputs": [],
   "source": [
    "stats.wilcoxon(dsi1,dsi2)"
   ]
  }
 ],
 "metadata": {
  "kernelspec": {
   "display_name": "Python 3",
   "language": "python",
   "name": "python3"
  },
  "language_info": {
   "codemirror_mode": {
    "name": "ipython",
    "version": 3
   },
   "file_extension": ".py",
   "mimetype": "text/x-python",
   "name": "python",
   "nbconvert_exporter": "python",
   "pygments_lexer": "ipython3",
   "version": "3.7.1"
  }
 },
 "nbformat": 4,
 "nbformat_minor": 2
}
