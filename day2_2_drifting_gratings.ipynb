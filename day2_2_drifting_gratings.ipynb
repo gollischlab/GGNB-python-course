{
 "cells": [
  {
   "cell_type": "markdown",
   "metadata": {},
   "source": [
    "# Project 1: Probing direction selectivity in the mouse retina"
   ]
  },
  {
   "cell_type": "markdown",
   "metadata": {},
   "source": [
    "Welcome to the first project of the class. \n",
    "\n",
    "**You will learn to:** \n",
    "- Construct direction tuning curves from grating data.\n",
    "- Quantify direction selectivity.\n",
    "- Perform statistical comparison of paired samples.\n",
    "\n",
    "Let's first import the packages we are going to use, and set up some plotting parameters."
   ]
  },
  {
   "cell_type": "code",
   "execution_count": null,
   "metadata": {},
   "outputs": [],
   "source": [
    "%matplotlib inline\n",
    "%config InlineBackend.rc={'figure.figsize': (12, 6), 'font.size': 14 }\n",
    "import matplotlib.pyplot as plt\n",
    "import numpy as np\n",
    "from os import listdir\n",
    "from pathlib import Path\n",
    "from scipy import stats"
   ]
  },
  {
   "cell_type": "markdown",
   "metadata": {},
   "source": [
    "## 1 - Creating tuning curves"
   ]
  },
  {
   "cell_type": "markdown",
   "metadata": {},
   "source": [
    "The stimulus times, as well as the spikes of 20 cells are in the folder `data_drifting_grating`. Let's first start by loading the stimulus times contained in the file `stimulus.txt`."
   ]
  },
  {
   "cell_type": "code",
   "execution_count": null,
   "metadata": {},
   "outputs": [],
   "source": [
    "datapath = 'data_drifting_grating/'\n",
    "stimulus = np.loadtxt(datapath + 'stimulus.txt')"
   ]
  },
  {
   "cell_type": "markdown",
   "metadata": {},
   "source": [
    "The stimulus consists of drifting gratings at different angles in eight different directions. For each cycle of the stimulus, the eight different directional gratings are presented after one another (400 frames each) with a gray screen in between (300 frames). In total one cycle has a duration of `8 * (400 + 300) = 5600` frames.\n",
    "\n",
    "From the stimulus timestamps (i.e. pulses) provided by the stimulus file, we can match the gratings and their speed to the spike recordings. Each grating has a spation period of 100 frames. Each period is marked by a pulse except for the start of the grating as it's usually ignored in the analysis. This is because of the transition from the gray screen. This results in three pules per grating presentation.\n",
    "\n",
    "The stimulus consists of four cycles.\n",
    "\n",
    "Let's first define these properties."
   ]
  },
  {
   "cell_type": "code",
   "execution_count": null,
   "metadata": {},
   "outputs": [],
   "source": [
    "duration = 400  # Duration of one grating presentation\n",
    "period = 100  # Duration of one spatial period\n",
    "num_angles = 8  # Number of grating direction angles\n",
    "num_cycles = 4  # Number of stimulus repetitions"
   ]
  },
  {
   "cell_type": "markdown",
   "metadata": {},
   "source": [
    "Now we can calculate some important values that will help sort out the spikes relative to the stimulus times."
   ]
  },
  {
   "cell_type": "code",
   "execution_count": null,
   "metadata": {},
   "outputs": [],
   "source": [
    "# The angles of the drifting grating in radians\n",
    "angles = np.linspace(0, 2*np.pi, num=num_angles, endpoint=False)\n",
    "\n",
    "# Number of pulses per angle, cycle and the entire stimulus\n",
    "num_periods = int(np.floor(duration / period)) - 1\n",
    "num_cycle_pulses = num_periods * num_angles\n",
    "num_stim_pulses = num_cycle_pulses * num_cycles\n",
    "\n",
    "# Obtain stimulus times by cycles: num_cycles x num_directions x num_periods\n",
    "pulse_times = stimulus[:num_stim_pulses]\n",
    "pulse_times = pulse_times.reshape(num_cycles, num_angles, num_periods)\n",
    "\n",
    "# Calculate the duration of one spatial grating period from the average\n",
    "period_duration = np.mean(np.diff(pulse_times, axis=2))"
   ]
  },
  {
   "cell_type": "markdown",
   "metadata": {},
   "source": [
    "To get a better picture of how we extracted the stimulus structure, let's look at the `pulse_times`. This is now a three dimensional array: `cycles x directions x periods`, so `4 x 8 x 3`."
   ]
  },
  {
   "cell_type": "code",
   "execution_count": null,
   "metadata": {},
   "outputs": [],
   "source": [
    "pulse_times"
   ]
  },
  {
   "cell_type": "markdown",
   "metadata": {},
   "source": [
    "Having set up the stimulus times, now we can count spikes! Let's write a function that loads the spikes of an example cell:"
   ]
  },
  {
   "cell_type": "code",
   "execution_count": null,
   "metadata": {},
   "outputs": [],
   "source": [
    "def get_spike_counts(pulses, spikes):\n",
    "    \"\"\"\n",
    "    Calculate the number of spikes per grating direction\n",
    "    \n",
    "    Parameters\n",
    "    ----------\n",
    "    pulses : (c, a, p) numpy.ndarray\n",
    "        Stimulus times, where c is the number of cycles, a is the number of\n",
    "        angles and p is the number of periods per angle\n",
    "    \n",
    "    spikes : numpy.ndarray\n",
    "        One dimensional list containing the spike times of a cell    \n",
    "    \n",
    "    Returns\n",
    "    -------\n",
    "    spike_counts : (c, d) numpy.ndarray\n",
    "        Number of spikes for each duration of each stimuls cycle\n",
    "    \"\"\"\n",
    "    # Recover some information\n",
    "    num_cycles, num_angles, num_periods = pulses.shape\n",
    "    period_duration = np.mean(np.diff(pulses, axis=2))\n",
    "\n",
    "    # Pre-allocate array\n",
    "    spike_counts = np.zeros((num_cycles, num_angles))\n",
    "    \n",
    "    # Iterate over all cycles and all angles\n",
    "    for cyc in range(num_cycles):\n",
    "        for ang in range(num_angles):\n",
    "            # Obtain the spikes that fall within the presentation duration\n",
    "            spk = spikes[spikes >= pulses[cyc, ang, 0]]\n",
    "            spk = spk[spk < pulses[cyc, ang, -1] + period_duration]\n",
    "            \n",
    "            # Count the number of spikes in this duration\n",
    "            spike_counts[cyc, ang] = spk.size\n",
    "\n",
    "    return spike_counts"
   ]
  },
  {
   "cell_type": "markdown",
   "metadata": {},
   "source": [
    "Let's test our function below. Our goal is to obtain a matrix `num_cycles x num_directions`, which we will use for most of our calculations."
   ]
  },
  {
   "cell_type": "code",
   "execution_count": null,
   "metadata": {},
   "outputs": [],
   "source": [
    "example_spike_times = np.loadtxt('data_drifting_grating/5_SP_C3601.txt')\n",
    "example_spike_counts = get_spike_counts(pulse_times, example_spike_times)\n",
    "print(example_spike_counts)"
   ]
  },
  {
   "cell_type": "markdown",
   "metadata": {},
   "source": [
    "The first thing we can do is plot a tuning curve. We plot the spike count vs the direction."
   ]
  },
  {
   "cell_type": "code",
   "execution_count": null,
   "metadata": {},
   "outputs": [],
   "source": [
    "tuning_curve = np.mean(example_spike_counts, axis=0)\n",
    "plt.plot(np.rad2deg(angles), tuning_curve)\n",
    "plt.title('Tuning Curve')\n",
    "plt.ylabel('Spike count');\n",
    "plt.xlabel('Direction (deg)');"
   ]
  },
  {
   "cell_type": "markdown",
   "metadata": {},
   "source": [
    "It is also customary to plot tuning curve in a polar plot."
   ]
  },
  {
   "cell_type": "markdown",
   "metadata": {},
   "source": [
    "**Exercise:** Plot the tuning curve in a polar plot by filling in `plot_tuning_curve_polar(angles, responses)`. Consider using `plt.polar`, and try to make your plot pretty.\n",
    "\n",
    "*Hint*: Make sure that your final curve is closed!"
   ]
  },
  {
   "cell_type": "code",
   "execution_count": null,
   "metadata": {},
   "outputs": [],
   "source": [
    "def plot_tuning_curve_polar(angles, responses):\n",
    "    \"\"\"\n",
    "    Create a polar figure showing the turning curve of a cell\n",
    "    \n",
    "    Parameters\n",
    "    ---------\n",
    "    angles : (a,) numpy.ndarray\n",
    "        One dimensional list of angles, where a is the number of angles\n",
    "        \n",
    "    responses : (a,) numpy.ndarray\n",
    "        Average number of spikes for each angle a\n",
    "    \"\"\"\n",
    "    \n",
    "    ### START CODE HERE ###\n",
    "    \n",
    "    # Append the first element to the end of the list\n",
    "    angles = np.append(angles, angles[0])\n",
    "    responses = np.append(responses, responses[0])\n",
    "    \n",
    "    plt.polar(angles, responses)\n",
    "    ### END CODE HERE ###"
   ]
  },
  {
   "cell_type": "code",
   "execution_count": null,
   "metadata": {},
   "outputs": [],
   "source": [
    "plot_tuning_curve_polar(angles, tuning_curve)"
   ]
  },
  {
   "cell_type": "markdown",
   "metadata": {},
   "source": [
    "We now want to look at all of our data. We will load the spike trains of all cells in the dataset in a list, and you will have to figure out how to properly get structured spike counts for all cells."
   ]
  },
  {
   "cell_type": "code",
   "execution_count": null,
   "metadata": {},
   "outputs": [],
   "source": [
    "filenames = sorted([i.name for i in Path(datapath).glob('5_SP_C*.txt')])\n",
    "\n",
    "# List of all spike times\n",
    "spike_trains = [np.loadtxt(Path(datapath, fpath)) for fpath in filenames]"
   ]
  },
  {
   "cell_type": "markdown",
   "metadata": {},
   "source": [
    "`spike_trains` is a list of one dimensional numpy arrays. Each numpy array contains the spike times of one cell. Here is we display the number of spikes for each cell in `spike_trains`."
   ]
  },
  {
   "cell_type": "code",
   "execution_count": null,
   "metadata": {},
   "outputs": [],
   "source": [
    "for i in spike_trains:\n",
    "    print(i.shape)"
   ]
  },
  {
   "cell_type": "markdown",
   "metadata": {},
   "source": [
    "**Exercise:** Let's now calculate the tuning curves for all cells in our dataset. First, we need to sort the spikes of all cells in spike counts. Fill in the function that does that.\n",
    "\n",
    "*Hint:* You can iterate over cells using the function `get_spike_counts` from above, but you can also start over!"
   ]
  },
  {
   "cell_type": "code",
   "execution_count": null,
   "metadata": {},
   "outputs": [],
   "source": [
    "def get_spike_counts_multi(pulses, spikes):\n",
    "    \"\"\"\n",
    "    Calculate the number of spikes per grating direction for multiple\n",
    "    cells\n",
    "    \n",
    "    Parameters\n",
    "    ----------\n",
    "    pulses : (c, a, p) numpy.ndarray\n",
    "        Stimulus times, where c is the number of cycles, a is the number of\n",
    "        angles and p is the number of periods per angle\n",
    "    \n",
    "    spikes : list of x numpy.ndarrays\n",
    "        List of spike trains (one dimensinal numpy arrays) for all cells x\n",
    "\n",
    "    Returns\n",
    "    -------\n",
    "    spike_counts : (x, c, d) numpy.ndarray\n",
    "        Number of spikes for each duration of each stimuls cycle for all\n",
    "        cells x\n",
    "    \"\"\"\n",
    "\n",
    "    ### START CODE HERE ###\n",
    "\n",
    "    # Recover some information\n",
    "    num_cells = len(spikes)\n",
    "    num_cycles, num_angles, num_periods = pulses.shape\n",
    "    period_duration = np.mean(np.diff(pulses, axis=2))\n",
    "\n",
    "    # Pre-allocate array\n",
    "    spike_counts = np.zeros((num_cells, num_cycles, num_angles))\n",
    "    \n",
    "    # Iterate over all cycles and all angles\n",
    "    for cyc in range(num_cycles):\n",
    "        for ang in range(num_angles):\n",
    "            for cell in range(num_cells):\n",
    "                spk = spikes[cell]\n",
    "\n",
    "                # Obtain the spikes that fall within the presentation duration\n",
    "                spk = spk[spk >= pulses[cyc, ang, 0]]\n",
    "                spk = spk[spk < pulses[cyc, ang, -1] + period_duration]\n",
    "\n",
    "                # Count the number of spikes in this duration\n",
    "                spike_counts[cell, cyc, ang] = spk.size\n",
    "\n",
    "    ### END CODE HERE ###\n",
    "    \n",
    "    return spike_counts"
   ]
  },
  {
   "cell_type": "code",
   "execution_count": null,
   "metadata": {},
   "outputs": [],
   "source": [
    "all_spike_counts = get_spike_counts_multi(pulse_times, spike_trains)\n",
    "print(all_spike_counts[10, :, :])"
   ]
  },
  {
   "cell_type": "markdown",
   "metadata": {},
   "source": [
    "Expected output: \n",
    "\n",
    "```python\n",
    "[[13. 31. 50. 41. 39. 34. 17. 12.]\n",
    " [12. 27. 20. 26. 28. 15. 20. 20.]\n",
    " [ 9. 17. 29. 30. 30. 22.  8.  5.]\n",
    " [ 3. 12. 21. 24. 23. 27. 17.  9.]]\n",
    "```"
   ]
  },
  {
   "cell_type": "markdown",
   "metadata": {},
   "source": [
    "Ok, now use the ```np.mean``` function in the right dimension, to get all the tuning curves!"
   ]
  },
  {
   "cell_type": "code",
   "execution_count": null,
   "metadata": {},
   "outputs": [],
   "source": [
    "all_tuning_curves = np.mean(all_spike_counts, axis=1)"
   ]
  },
  {
   "cell_type": "markdown",
   "metadata": {},
   "source": [
    "By running the following cell, you can examine the tuning curve of the second cell. Change the indices to examine the tuning curves for different cells. Can you understand what all of them mean?"
   ]
  },
  {
   "cell_type": "code",
   "execution_count": null,
   "metadata": {},
   "outputs": [],
   "source": [
    "plot_tuning_curve_polar(angles, all_tuning_curves[13, :])"
   ]
  },
  {
   "cell_type": "markdown",
   "metadata": {},
   "source": [
    "## 2 - Quantification of direction selectivity"
   ]
  },
  {
   "cell_type": "markdown",
   "metadata": {},
   "source": [
    "### The direction selectivity index (DSI)"
   ]
  },
  {
   "cell_type": "markdown",
   "metadata": {},
   "source": [
    "The direction selectivity index (DSI) is a common quantification of direction tuning. One of the ways to calculate it is the following:\n",
    "\n",
    "$$\n",
    "DSI = \\frac{1}{\\sum_{k=1}^{N}{r_{k}}} \\left|\\sum_{k=1}^{N}{r_{k}e^{i\\phi_{k}}}\\right|\\,,\n",
    "$$\n",
    "\n",
    "where $r$ are the responses (i.e. the average number of spikes per angle), $N$ is the number of responses or angles, and $\\phi$ is are the angles.\n",
    "\n",
    "**Exercise:** Fill in ```get_dsi(angles, responses)```. To help you, a complex number is given as 1j, 2j, 3j... You can calculate the maginude of a complex number with ```np.abs()```."
   ]
  },
  {
   "cell_type": "code",
   "execution_count": null,
   "metadata": {},
   "outputs": [],
   "source": [
    "def get_dsi(angles, responses):\n",
    "    \"\"\"\n",
    "    Calculate the direction selectivity index (DSI) of a cell\n",
    "    \n",
    "    Parameters\n",
    "    ---------\n",
    "    angles : (a,) numpy.ndarray\n",
    "        One dimensional list of angles a in radians\n",
    "        \n",
    "    responses : (a,) numpy.ndarray\n",
    "        One dimensional list of average number of spikes per angle a\n",
    "    \n",
    "    Returns\n",
    "    -------\n",
    "    dsi : float\n",
    "        DSI for the cell\n",
    "    \"\"\"\n",
    "    \n",
    "    ### START CODE HERE ###\n",
    "    vsum = np.sum(responses * np.exp(1j * angles))\n",
    "    vsum /= np.sum(responses)\n",
    "    dsi = np.abs(vsum)\n",
    "    ### END CODE HERE ###\n",
    "\n",
    "    return dsi"
   ]
  },
  {
   "cell_type": "code",
   "execution_count": null,
   "metadata": {},
   "outputs": [],
   "source": [
    "print('DSI = ' + str(get_dsi(angles, tuning_curve)))"
   ]
  },
  {
   "cell_type": "markdown",
   "metadata": {},
   "source": [
    "Expected output:\n",
    "\n",
    "```python\n",
    "0.31383540910149094\n",
    "```"
   ]
  },
  {
   "cell_type": "markdown",
   "metadata": {},
   "source": [
    "Good job! Now let's try to find the DSI values for all the cells we provided for you."
   ]
  },
  {
   "cell_type": "markdown",
   "metadata": {},
   "source": [
    "**Exercise:** Calculate the DSIs for all cells provided. Then run the cell below, and examine the histogram. \n",
    "\n",
    "*Hint:* Instead of using a for loop, you can use linear algebra to calculate the responses for all cells simultaneously!"
   ]
  },
  {
   "cell_type": "code",
   "execution_count": null,
   "metadata": {},
   "outputs": [],
   "source": [
    "def get_dsi_multi(angles, responses):\n",
    "    \"\"\"\n",
    "    Calculate the direction selectivity index (DSI) of multiple cells\n",
    "    \n",
    "    Parameters\n",
    "    ---------\n",
    "    angles : (a,) numpy.ndarray\n",
    "        One dimensional list of angles a in radians\n",
    "        \n",
    "    responses : (x, a) numpy.ndarray\n",
    "        Array of average number of spikes per angle a for all cells x\n",
    "    \n",
    "    Returns\n",
    "    -------\n",
    "    dsi : (x,) numpy.ndarray\n",
    "        DSI for all cells x\n",
    "    \"\"\"\n",
    "    \n",
    "    ### START CODE HERE ###\n",
    "    vsums = responses @ np.exp(1j * angles)\n",
    "    vsums /= np.sum(responses, axis=1)\n",
    "    dsi = np.abs(vsums)\n",
    "    ### END CODE HERE ###\n",
    "\n",
    "    return dsi"
   ]
  },
  {
   "cell_type": "code",
   "execution_count": null,
   "metadata": {},
   "outputs": [],
   "source": [
    "plt.hist(get_dsi_multi(angles, all_tuning_curves), num_angles)\n",
    "plt.xlabel('DSI')\n",
    "plt.ylabel('Cells');"
   ]
  },
  {
   "cell_type": "markdown",
   "metadata": {},
   "source": [
    "### Monte Carlo permutation for creating DSI confidence intervals"
   ]
  },
  {
   "cell_type": "markdown",
   "metadata": {},
   "source": [
    "Examine the tuning curve of the following cell. What about its DSI value?"
   ]
  },
  {
   "cell_type": "code",
   "execution_count": null,
   "metadata": {},
   "outputs": [],
   "source": [
    "plot_tuning_curve_polar(angles, all_tuning_curves[11, :])\n",
    "print('DSI is ' + str(get_dsi(angles, all_tuning_curves[11, :])))"
   ]
  },
  {
   "cell_type": "markdown",
   "metadata": {},
   "source": [
    "Although the DSI value is above 0.2, the cell barely responded to the stimulus"
   ]
  },
  {
   "cell_type": "markdown",
   "metadata": {},
   "source": [
    "**Exercise:** Calculate a permutation distribution of DSIs for cell 1. Now, the vectorized version of ```get_dsi``` will be definitely useful!\n",
    "\n",
    "*Hint:* The function `np.random.permutation` may be useful to suffle the spike counts in conjunction with flattening `spike_counts` (see `np.ravel`) and then reshaping it to its original dimensions (see `reshape`)."
   ]
  },
  {
   "cell_type": "code",
   "execution_count": null,
   "metadata": {},
   "outputs": [],
   "source": [
    "spike_counts = all_spike_counts[11, :, :]"
   ]
  },
  {
   "cell_type": "code",
   "execution_count": null,
   "metadata": {},
   "outputs": [],
   "source": [
    "def get_pval(angles, spike_counts, num_perturb):\n",
    "    \"\"\"\n",
    "    Calculate the permutation distributation of the dsi along with\n",
    "    the p-value\n",
    "    \n",
    "    Paramters\n",
    "    ---------\n",
    "    angles : (a,) numpy.ndarray\n",
    "        One dimensional list of angles a in radians\n",
    "    \n",
    "    spike_counts : (s, a) numpy.ndarray\n",
    "        Number of spikes s for each angle a\n",
    "    \n",
    "    num_perturb : int\n",
    "        Number of perturbations\n",
    "\n",
    "    Returns\n",
    "    -------\n",
    "    pval : float\n",
    "        P-value\n",
    "    \n",
    "    dsi_rand : float\n",
    "        Random DSI distro\n",
    "    \"\"\"\n",
    "    \n",
    "    ### START CODE HERE ###\n",
    "    \n",
    "    dsi_true = get_dsi(angles, spike_counts)\n",
    "    \n",
    "    # Pre-allocate the array\n",
    "    dsi_rand = np.zeros(num_perturb)\n",
    "    \n",
    "    # Perform num_perturb perturbations\n",
    "    for p in range(num_perturb):\n",
    "        # Randomize spike counts\n",
    "        rand_counts = np.random.permutation(spike_counts.ravel())\n",
    "        rand_counts = rand_counts.reshape(spike_counts.shape)\n",
    "        dsi_rand[p] = get_dsi(angles, rand_counts)\n",
    "\n",
    "    # Compute the p-value\n",
    "    pval = 1 - np.sum(dsi_true > np.sort(dsi_rand)) / num_perturb\n",
    "    if pval == 0:\n",
    "        pval = 1 / num_perturb\n",
    "    ### END CODE HERE ###\n",
    "\n",
    "    return pval, dsi_rand"
   ]
  },
  {
   "cell_type": "code",
   "execution_count": null,
   "metadata": {},
   "outputs": [],
   "source": [
    "pval, dsi_rand = get_pval(angles, all_spike_counts[11, :, :], 1000)\n",
    "print('P-value is ' + str(pval))"
   ]
  },
  {
   "cell_type": "markdown",
   "metadata": {},
   "source": [
    "Expected output: 0.001"
   ]
  },
  {
   "cell_type": "markdown",
   "metadata": {},
   "source": [
    "We can plot the distribution we generated"
   ]
  },
  {
   "cell_type": "code",
   "execution_count": null,
   "metadata": {},
   "outputs": [],
   "source": [
    "plt.hist(dsi_rand, 25)\n",
    "plt.xlim(0, 0.5)\n",
    "plt.xlabel('Permuted DSI');"
   ]
  },
  {
   "cell_type": "markdown",
   "metadata": {},
   "source": [
    "Calculate the p-values of all DSIs observed, and plot them versus the DSI value:"
   ]
  },
  {
   "cell_type": "code",
   "execution_count": null,
   "metadata": {},
   "outputs": [],
   "source": [
    "def get_pval_multi(angles, spike_counts, num_perturb):\n",
    "    \"\"\"\n",
    "    Parameters\n",
    "    ----------\n",
    "    angles : numpy.ndarray\n",
    "        One dimensional list of angles in radians\n",
    "    \n",
    "    multiTuningCurve : (Ncells, Nangles) numpy.ndarray\n",
    "\n",
    "    Returns\n",
    "    -------\n",
    "    dsiAll : (Ncells, 1) numpy.ndarray\n",
    "        List of DSI values for each cell\n",
    "    \"\"\"\n",
    "    \n",
    "    ### START CODE HERE ### (approx. 1-2 lines)\n",
    "    num_cells = np.size(spike_counts, 0)\n",
    "    pvalAll = np.zeros(num_cells)\n",
    "    \n",
    "    for cell in range(num_cells):\n",
    "        pv, _ = calculatePval(angles, spike_counts[cell, :, :], num_perturb)\n",
    "        pvalAll[cell] = pv\n",
    "    ### END CODE HERE ###\n",
    "\n",
    "    return pvalAll"
   ]
  },
  {
   "cell_type": "code",
   "execution_count": null,
   "metadata": {},
   "outputs": [],
   "source": [
    "allpvals = get_pval_multi(angles, all_spike_counts, 1000)\n",
    "alldsis = get_dsi_multi(angles, all_tuning_curves)\n",
    "plt.plot(alldsis, np.log10(allpvals), 'o')\n",
    "plt.xlabel('DSI')\n",
    "plt.ylabel('log(pval)');"
   ]
  },
  {
   "cell_type": "markdown",
   "metadata": {},
   "source": [
    "## 3 - Comparing direction selectivity between different stimuli"
   ]
  },
  {
   "cell_type": "markdown",
   "metadata": {},
   "source": [
    "The data we gave you contain gratings with different parameters as well."
   ]
  },
  {
   "cell_type": "code",
   "execution_count": null,
   "metadata": {},
   "outputs": [],
   "source": [
    "duration = 180\n",
    "period = 15\n",
    "Nangles = 8\n",
    "Ncycles = 4"
   ]
  },
  {
   "cell_type": "markdown",
   "metadata": {},
   "source": [
    "Starting from those parameters, try to extract the spike counts and dsi values for the two stimuli. \n",
    "\n",
    "*Hint:* Make sure to start counting pulses from the end of the previous stimulus..."
   ]
  },
  {
   "cell_type": "code",
   "execution_count": null,
   "metadata": {},
   "outputs": [],
   "source": [
    "NanglePulses2 = int(np.floor(duration / period)) - 1\n",
    "NcyclePulses2 = NanglePulses2 * Nangles\n",
    "NstimPulses2 = NcyclePulses2 * Ncycles\n",
    "\n",
    "# Using NstimPulses as a starting point...\n",
    "pulseTimes2 = stimulus[NstimPulses:int(NstimPulses + NstimPulses2)]\n",
    "pulseTimes2 = np.reshape(pulseTimes2, (Ncycles, Nangles, NanglePulses2))\n",
    "periodDuration2 = np.mean(np.diff(pulseTimes2, n=1, axis=2))"
   ]
  },
  {
   "cell_type": "code",
   "execution_count": null,
   "metadata": {},
   "outputs": [],
   "source": [
    "allSpikeCounts2 = calculateAllSpikeCounts(pulseTimes2, allSpikeTrains)\n",
    "alldsis2 = calculateDSIall(angles, np.mean(allSpikeCounts2, axis=1))\n",
    "plt.plot(alldsis, alldsis2, 'o');"
   ]
  },
  {
   "cell_type": "markdown",
   "metadata": {},
   "source": [
    "Does the stimulus change the magnitude of direction selectivity?\n",
    "Instead of a paired t-test, that assumes normality of the underlying data, we will perform a Wilcoxon signed-rank test."
   ]
  },
  {
   "cell_type": "code",
   "execution_count": null,
   "metadata": {},
   "outputs": [],
   "source": [
    "stats.wilcoxon(alldsis,alldsis2)"
   ]
  }
 ],
 "metadata": {
  "language_info": {
   "name": "python",
   "pygments_lexer": "ipython3"
  }
 },
 "nbformat": 4,
 "nbformat_minor": 2
}
