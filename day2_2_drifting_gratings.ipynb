{
 "cells": [
  {
   "cell_type": "markdown",
   "metadata": {},
   "source": [
    "# Project 1: Probing direction selectivity in the mouse retina"
   ]
  },
  {
   "cell_type": "markdown",
   "metadata": {},
   "source": [
    "Welcome to the first project of the class. \n",
    "\n",
    "**You will learn to:** \n",
    "- Construct direction tuning curves from grating data.\n",
    "- Quantify direction selectivity.\n",
    "- Perform statistical comparison of paired samples.\n",
    "\n",
    "Let's first import the packages we are going to use, and set up some plotting parameters."
   ]
  },
  {
   "cell_type": "code",
   "execution_count": null,
   "metadata": {},
   "outputs": [],
   "source": [
    "%matplotlib inline\n",
    "%config InlineBackend.rc={'figure.figsize': (12, 6), 'font.size': 14 }\n",
    "import matplotlib.pyplot as plt\n",
    "import numpy as np\n",
    "from os import listdir\n",
    "from pathlib import Path\n",
    "from scipy import stats"
   ]
  },
  {
   "cell_type": "markdown",
   "metadata": {},
   "source": [
    "## 1 - Creating tuning curves"
   ]
  },
  {
   "cell_type": "markdown",
   "metadata": {},
   "source": [
    "The stimulus times, as well as the spikes of 19 cells are in the folder `data_drifting_grating`. Let's first start by loading the stimulus times contained in the file `stimulus.txt`."
   ]
  },
  {
   "cell_type": "code",
   "execution_count": null,
   "metadata": {},
   "outputs": [],
   "source": [
    "datapath = 'data_drifting_grating/'\n",
    "stimulus = np.loadtxt(datapath + 'stimulus.txt')"
   ]
  },
  {
   "cell_type": "markdown",
   "metadata": {},
   "source": [
    "The stimulus consists of gratings drifting in eight different directions (or angles). For each cycle of the stimulus, the eight different directional gratings are presented after one another with a gray screen in between.\n",
    "\n",
    "<img src=\"driftinggrating.gif\" width=\"200px\">\n",
    "\n",
    "We can match the gratings and their presentation times to the spike recordings from the stimulus timestamps (i.e. pulses) provided by the stimulus file.  Each grating is shown for four temporal periods. Each period is marked by a pulse except for the first period (as it's usually ignored in the analysis). This is because of the transition from the gray screen. This results in three pulses per grating presentation.\n",
    "\n",
    "The stimulus consists of four cycles, as the sequence of eight directions is repeated four times.\n",
    "\n",
    "Let's first define these properties."
   ]
  },
  {
   "cell_type": "code",
   "execution_count": null,
   "metadata": {},
   "outputs": [],
   "source": [
    "num_angles = 8  # Number of grating direction angles\n",
    "num_periods = 4 - 1  # Number of grating periods (-1 because first period does not give a pulse)\n",
    "num_cycles = 4  # Number of stimulus repetitions"
   ]
  },
  {
   "cell_type": "markdown",
   "metadata": {},
   "source": [
    "Now we can calculate some important values that will help sort out the spikes relative to the stimulus times."
   ]
  },
  {
   "cell_type": "code",
   "execution_count": null,
   "metadata": {},
   "outputs": [],
   "source": [
    "# The angles of the drifting grating in radians\n",
    "angles = np.linspace(0, 2*np.pi, num=num_angles, endpoint=False)\n",
    "\n",
    "# Number of cycle and the entire stimulus\n",
    "num_cycle_pulses = num_periods * num_angles\n",
    "num_stim_pulses = num_cycle_pulses * num_cycles\n",
    "\n",
    "# Obtain stimulus times by cycles: num_cycles x num_angles x num_periods\n",
    "pulse_times = stimulus[:num_stim_pulses]\n",
    "pulse_times = pulse_times.reshape(num_cycles, num_angles, num_periods)\n",
    "\n",
    "# Calculate the duration of one spatial grating period from the average\n",
    "period_duration = np.mean(np.diff(pulse_times, axis=2))"
   ]
  },
  {
   "cell_type": "markdown",
   "metadata": {},
   "source": [
    "To get a better picture of how we extracted the stimulus structure, let's look at the `pulse_times`. This is now a three dimensional array: `cycles x directions x periods`, so `4 x 8 x 3`."
   ]
  },
  {
   "cell_type": "code",
   "execution_count": null,
   "metadata": {},
   "outputs": [],
   "source": [
    "pulse_times"
   ]
  },
  {
   "cell_type": "markdown",
   "metadata": {},
   "source": [
    "Having set up the stimulus times, we can now count spikes! Below you can find a function that loads the spikes of a single cell:"
   ]
  },
  {
   "cell_type": "code",
   "execution_count": null,
   "metadata": {},
   "outputs": [],
   "source": [
    "def get_spike_counts(pulses, spikes):\n",
    "    \"\"\"\n",
    "    Calculate the number of spikes per grating direction\n",
    "    \n",
    "    Parameters\n",
    "    ----------\n",
    "    pulses : (nc, nd, np) numpy.ndarray\n",
    "        Stimulus times, where nc is the number of cycles, nd is the number of\n",
    "        directions and np is the number of periods per angle\n",
    "    \n",
    "    spikes : numpy.ndarray\n",
    "        One dimensional list containing the spike times of a cell    \n",
    "    \n",
    "    Returns\n",
    "    -------\n",
    "    spike_counts : (nc, nd) numpy.ndarray\n",
    "        Number of spikes for each direction of each stimuls cycle\n",
    "    \"\"\"\n",
    "    # Recover some information\n",
    "    num_cycles, num_angles, num_periods = pulses.shape\n",
    "    period_duration = np.mean(np.diff(pulses, axis=2))\n",
    "\n",
    "    # Pre-allocate array\n",
    "    spike_counts = np.zeros((num_cycles, num_angles))\n",
    "    \n",
    "    # Iterate over all cycles and all angles\n",
    "    for cyc in range(num_cycles):\n",
    "        for ang in range(num_angles):\n",
    "            # Obtain the spikes that fall within the presentation duration\n",
    "            spk = spikes[spikes >= pulses[cyc, ang, 0]]\n",
    "            spk = spk[spk < pulses[cyc, ang, -1] + period_duration]\n",
    "            \n",
    "            # Count the number of spikes in this duration\n",
    "            spike_counts[cyc, ang] = spk.size\n",
    "\n",
    "    return spike_counts"
   ]
  },
  {
   "cell_type": "markdown",
   "metadata": {},
   "source": [
    "Let's look at what our function did below. It should return a 2-dimensional array of shape `(num_cycles, num_angles)`, which we will use for most of our calculations."
   ]
  },
  {
   "cell_type": "code",
   "execution_count": null,
   "metadata": {},
   "outputs": [],
   "source": [
    "example_spike_times = np.loadtxt('data_drifting_grating/5_SP_C3601.txt')\n",
    "example_spike_counts = get_spike_counts(pulse_times, example_spike_times)\n",
    "print(example_spike_counts)"
   ]
  },
  {
   "cell_type": "markdown",
   "metadata": {},
   "source": [
    "The first thing we can do with such an array is plot a tuning curve. A tuning curve shows neuronal responses as a function of a continuous stimulus attribute, such as orientation, wavelength, or frequency. "
   ]
  },
  {
   "cell_type": "markdown",
   "metadata": {},
   "source": [
    "**Exercise:** Calculate a tuning curve by averaging spike counts over the different cycles."
   ]
  },
  {
   "cell_type": "code",
   "execution_count": null,
   "metadata": {
    "scrolled": true
   },
   "outputs": [],
   "source": [
    "### START CODE HERE ###\n",
    "example_tuning_curve = None\n",
    "example_tuning_curve = example_spike_counts.mean(axis=0)\n",
    "### END CODE HERE ###"
   ]
  },
  {
   "cell_type": "code",
   "execution_count": null,
   "metadata": {},
   "outputs": [],
   "source": [
    "print(example_tuning_curve)"
   ]
  },
  {
   "cell_type": "markdown",
   "metadata": {},
   "source": [
    "Expected output: \n",
    "```python \n",
    "[ 74.75  90.25 177.5  166.   158.    74.5   51.75  52.5 ]\n",
    "```"
   ]
  },
  {
   "cell_type": "markdown",
   "metadata": {},
   "source": [
    "Good job! Now we can plot the mean spike count vs the drifting grating direction. Since our ```angles``` variable is in radians, we transform it to degrees just before plotting."
   ]
  },
  {
   "cell_type": "code",
   "execution_count": null,
   "metadata": {},
   "outputs": [],
   "source": [
    "plt.plot(np.rad2deg(angles), example_tuning_curve)\n",
    "plt.title('Tuning Curve')\n",
    "plt.ylabel('Spike count');\n",
    "plt.xlabel('Direction (deg)');"
   ]
  },
  {
   "cell_type": "markdown",
   "metadata": {},
   "source": [
    "Can you understand this curve? Which directions did our neuron prefer?"
   ]
  },
  {
   "cell_type": "markdown",
   "metadata": {},
   "source": [
    "It is also customary to plot a tuning curve in a polar fashion, because it helps us visually relate the tuning curve to the underlying stimulus."
   ]
  },
  {
   "cell_type": "markdown",
   "metadata": {},
   "source": [
    "**Exercise:** Plot the tuning curve in a polar plot by filling in `plot_tuning_curve_polar(angles, responses)`. Consider using `plt.polar`, and try to make your plot pretty.\n",
    "\n",
    "*Hint*: Make sure that your final curve is closed! The function `np.append` may be usefull for that."
   ]
  },
  {
   "cell_type": "code",
   "execution_count": null,
   "metadata": {},
   "outputs": [],
   "source": [
    "def plot_tuning_curve_polar(angles, responses):\n",
    "    \"\"\"\n",
    "    Create a polar figure showing the turning curve of a cell\n",
    "    \n",
    "    Parameters\n",
    "    ---------\n",
    "    angles : (na,) numpy.ndarray\n",
    "        One dimensional list of angles, where na is the number of angles\n",
    "        \n",
    "    responses : (na,) numpy.ndarray\n",
    "        Average number of spikes for each angle\n",
    "    \"\"\"\n",
    "    \n",
    "    ### START CODE HERE ###\n",
    "    \n",
    "    # Append the first element to the end of the list\n",
    "    angles_to_plot = np.append(angles, angles[0])\n",
    "    responses_to_plot = np.append(responses, responses[0])\n",
    "    \n",
    "    # Plot\n",
    "    plt.polar(angles_to_plot, responses_to_plot)\n",
    "    \n",
    "    ### END CODE HERE ###"
   ]
  },
  {
   "cell_type": "code",
   "execution_count": null,
   "metadata": {},
   "outputs": [],
   "source": [
    "plot_tuning_curve_polar(angles, example_tuning_curve)"
   ]
  },
  {
   "cell_type": "markdown",
   "metadata": {},
   "source": [
    "We would also like to look at the tuning curves of other neurons. We will first load the spike trains of all the neurons in our dataset in a list, and you will have to figure out how to properly get structured spike counts for all cells."
   ]
  },
  {
   "cell_type": "code",
   "execution_count": null,
   "metadata": {},
   "outputs": [],
   "source": [
    "# Finding all data file names\n",
    "filenames = sorted([fpath for fpath in Path(datapath).glob('5_SP_C*.txt')])\n",
    "\n",
    "# List of all spike times\n",
    "spike_trains = [np.loadtxt(fpath) for fpath in filenames]"
   ]
  },
  {
   "cell_type": "markdown",
   "metadata": {},
   "source": [
    "`spike_trains` is a list of one dimensional numpy arrays. Each numpy array contains the spike times of one cell. Here we display the number of spikes for each cell in `spike_trains`."
   ]
  },
  {
   "cell_type": "code",
   "execution_count": null,
   "metadata": {},
   "outputs": [],
   "source": [
    "for i in spike_trains:\n",
    "    print(i.shape)"
   ]
  },
  {
   "cell_type": "markdown",
   "metadata": {},
   "source": [
    "We now want to calculate the tuning curves for all cells in our dataset."
   ]
  },
  {
   "cell_type": "markdown",
   "metadata": {},
   "source": [
    "**Exercise:**  First, we will need to sort the spikes of all cells in spike counts. Fill in the function ```get_spike_counts_multi(pulses, spikes)``` that does that.\n",
    "\n",
    "*Hint:* You can iterate over cells using the function `get_spike_counts` from above, but you can also start over!"
   ]
  },
  {
   "cell_type": "code",
   "execution_count": null,
   "metadata": {},
   "outputs": [],
   "source": [
    "def get_spike_counts_multi(pulses, spikes):\n",
    "    \"\"\"\n",
    "    Calculate the number of spikes per grating direction for multiple\n",
    "    cells\n",
    "    \n",
    "    Parameters\n",
    "    ----------\n",
    "    pulses : (nc, nd, np) numpy.ndarray\n",
    "        Stimulus times, where nc is the number of cycles, nd is the number of\n",
    "        directions and np is the number of periods per direction\n",
    "    \n",
    "    spikes : list of ncell numpy.ndarrays\n",
    "        List of spike trains (one dimensinal numpy arrays) for all cells\n",
    "\n",
    "    Returns\n",
    "    -------\n",
    "    spike_counts : (ncell, nc, nd) numpy.ndarray\n",
    "        Number of spikes for each direction of each stimuls cycle for all\n",
    "        cells\n",
    "    \"\"\"\n",
    "\n",
    "    ### START CODE HERE ###\n",
    "\n",
    "    # Recover some information\n",
    "    num_cells = len(spikes)\n",
    "    num_cycles, num_angles, num_periods = pulses.shape\n",
    "    period_duration = np.mean(np.diff(pulses, axis=2))\n",
    "\n",
    "    # Pre-allocate array\n",
    "    spike_counts = np.zeros((num_cells, num_cycles, num_angles))\n",
    "    \n",
    "    # Iterate over all cycles and all angles\n",
    "    for cyc in range(num_cycles):\n",
    "        for ang in range(num_angles):\n",
    "            for cell in range(num_cells):\n",
    "                spk = spikes[cell]\n",
    "\n",
    "                # Obtain the spikes that fall within the presentation duration\n",
    "                spk = spk[spk >= pulses[cyc, ang, 0]]\n",
    "                spk = spk[spk < pulses[cyc, ang, -1] + period_duration]\n",
    "\n",
    "                # Count the number of spikes in this duration\n",
    "                spike_counts[cell, cyc, ang] = spk.size\n",
    "\n",
    "    ### END CODE HERE ###\n",
    "    \n",
    "    return spike_counts"
   ]
  },
  {
   "cell_type": "code",
   "execution_count": null,
   "metadata": {},
   "outputs": [],
   "source": [
    "all_spike_counts = get_spike_counts_multi(pulse_times, spike_trains)\n",
    "print(all_spike_counts[10, :, :])"
   ]
  },
  {
   "cell_type": "markdown",
   "metadata": {},
   "source": [
    "Expected output: \n",
    "\n",
    "```python\n",
    "[[13. 31. 50. 41. 39. 34. 17. 12.]\n",
    " [12. 27. 20. 26. 28. 15. 20. 20.]\n",
    " [ 9. 17. 29. 30. 30. 22.  8.  5.]\n",
    " [ 3. 12. 21. 24. 23. 27. 17.  9.]]\n",
    "```"
   ]
  },
  {
   "cell_type": "markdown",
   "metadata": {},
   "source": [
    "**Exercise:** Now use the ```np.mean``` function in the right dimension, to get all the tuning curves!"
   ]
  },
  {
   "cell_type": "code",
   "execution_count": null,
   "metadata": {},
   "outputs": [],
   "source": [
    "### START CODE HERE ###\n",
    "all_tuning_curves = np.mean(all_spike_counts, axis=1)\n",
    "### END CODE HERE ###"
   ]
  },
  {
   "cell_type": "code",
   "execution_count": null,
   "metadata": {},
   "outputs": [],
   "source": [
    "print(all_tuning_curves[3, :])"
   ]
  },
  {
   "cell_type": "markdown",
   "metadata": {},
   "source": [
    "Expected output: \n",
    "\n",
    "```python\n",
    "[50.5  28.25 22.   20.75 22.75 35.25 54.   54.75]\n",
    "```"
   ]
  },
  {
   "cell_type": "markdown",
   "metadata": {},
   "source": [
    "By running the following cell, you can examine the tuning curve of the 14th cell. Change the index in ```all_tuning_curves``` to examine the tuning curves for different cells. Can you understand what all of them mean? Can you spot the direction selective cells?"
   ]
  },
  {
   "cell_type": "code",
   "execution_count": null,
   "metadata": {},
   "outputs": [],
   "source": [
    "plot_tuning_curve_polar(angles, all_tuning_curves[13, :])"
   ]
  },
  {
   "cell_type": "markdown",
   "metadata": {},
   "source": [
    "## 2 - Quantification of direction selectivity"
   ]
  },
  {
   "cell_type": "markdown",
   "metadata": {},
   "source": [
    "### The direction selectivity index (DSI)"
   ]
  },
  {
   "cell_type": "markdown",
   "metadata": {},
   "source": [
    "The direction selectivity index (DSI) is a common quantification of direction tuning. One of the ways to calculate it is the following:\n",
    "\n",
    "$$\n",
    "DSI = \\frac{1}{\\sum_{k=1}^{N}{r_{k}}} \\left|\\sum_{k=1}^{N}{r_{k}e^{i\\phi_{k}}}\\right|\\,,\n",
    "$$\n",
    "\n",
    "where $r$ are the responses (i.e. the average number of spikes per angle), $N$ is the number of responses or angles, and $\\phi$ is are the angles.\n",
    "\n",
    "**Exercise:** Fill in ```get_dsi(angles, responses)```. To help you, a complex number is given as 1j, 2j, 3j... You can calculate the maginude of a complex number with ```np.abs()```."
   ]
  },
  {
   "cell_type": "code",
   "execution_count": null,
   "metadata": {},
   "outputs": [],
   "source": [
    "def get_dsi(angles, responses):\n",
    "    \"\"\"\n",
    "    Calculate the direction selectivity index (DSI) of a cell\n",
    "    \n",
    "    Parameters\n",
    "    ---------\n",
    "    angles : (a,) numpy.ndarray\n",
    "        One dimensional list of angles a in radians\n",
    "        \n",
    "    responses : (a,) numpy.ndarray\n",
    "        One dimensional list of average number of spikes per angle a\n",
    "    \n",
    "    Returns\n",
    "    -------\n",
    "    dsi : float\n",
    "        DSI for the cell\n",
    "    \"\"\"\n",
    "    \n",
    "    ### START CODE HERE ###\n",
    "    vsum = np.sum(responses * np.exp(1j * angles))\n",
    "    vsum /= np.sum(responses)\n",
    "    dsi = np.abs(vsum)\n",
    "    ### END CODE HERE ###\n",
    "\n",
    "    return dsi"
   ]
  },
  {
   "cell_type": "code",
   "execution_count": null,
   "metadata": {},
   "outputs": [],
   "source": [
    "print('DSI =', get_dsi(angles, example_tuning_curve))"
   ]
  },
  {
   "cell_type": "markdown",
   "metadata": {},
   "source": [
    "Expected output:\n",
    "\n",
    "```python\n",
    "0.31383540910149094\n",
    "```"
   ]
  },
  {
   "cell_type": "markdown",
   "metadata": {},
   "source": [
    "Good job! Now let's try to find the DSI values for all the cells we provided for you."
   ]
  },
  {
   "cell_type": "markdown",
   "metadata": {},
   "source": [
    "**Exercise:** Calculate the DSIs for all cells provided. Then run the cell below, and examine the histogram. \n",
    "\n",
    "*Hint:* Instead of using a ```for``` loop, you can use linear algebra to calculate the responses for all cells simultaneously!"
   ]
  },
  {
   "cell_type": "code",
   "execution_count": null,
   "metadata": {},
   "outputs": [],
   "source": [
    "def get_dsi_multi(angles, responses):\n",
    "    \"\"\"\n",
    "    Calculate the direction selectivity index (DSI) of multiple cells\n",
    "    \n",
    "    Parameters\n",
    "    ---------\n",
    "    angles : (a,) numpy.ndarray\n",
    "        One dimensional list of angles a in radians\n",
    "        \n",
    "    responses : (x, a) numpy.ndarray\n",
    "        Array of average number of spikes per angle a for all cells x\n",
    "    \n",
    "    Returns\n",
    "    -------\n",
    "    dsi : (x,) numpy.ndarray\n",
    "        DSI for all cells x\n",
    "    \"\"\"\n",
    "    \n",
    "    ### START CODE HERE ###\n",
    "    vsums = responses @ np.exp(1j * angles)\n",
    "    vsums /= np.sum(responses, axis=1)\n",
    "    dsi = np.abs(vsums)\n",
    "    ### END CODE HERE ###\n",
    "\n",
    "    return dsi"
   ]
  },
  {
   "cell_type": "code",
   "execution_count": null,
   "metadata": {},
   "outputs": [],
   "source": [
    "plt.hist(get_dsi_multi(angles, all_tuning_curves), num_angles)\n",
    "plt.xlabel('DSI')\n",
    "plt.ylabel('# cells');"
   ]
  },
  {
   "cell_type": "markdown",
   "metadata": {},
   "source": [
    "A DSI value of >0.2 is usually a good indicator of whether a cell has increased selectivity of a stimulus direction. Do the DSI values for each cell match with the tuning curves you examined above?"
   ]
  },
  {
   "cell_type": "markdown",
   "metadata": {},
   "source": [
    "### Monte Carlo permutation for calculating DSI p-values"
   ]
  },
  {
   "cell_type": "markdown",
   "metadata": {},
   "source": [
    "Examine the tuning curve of the following cell. What does its DSI value suggest?"
   ]
  },
  {
   "cell_type": "code",
   "execution_count": null,
   "metadata": {},
   "outputs": [],
   "source": [
    "plot_tuning_curve_polar(angles, all_tuning_curves[11, :])\n",
    "print('DSI is', get_dsi(angles, all_tuning_curves[11, :]))"
   ]
  },
  {
   "cell_type": "markdown",
   "metadata": {},
   "source": [
    "Although the DSI value is above 0.2, the cell barely responded to the stimulus. For this reason, just looking at DSI values can be misleading. "
   ]
  },
  {
   "cell_type": "markdown",
   "metadata": {},
   "source": [
    "In many cases such as these, one can estimate p-values using resampling. In our case, we can compute the distribution of DSI values from shuffled the spike counts and calculate a p-value (one-sided) of the DSI. **The p-value is the probability that we find a permuted DSI larger than the observed one.** If the probability is high, it means that our observed DSI could have arised by chance..."
   ]
  },
  {
   "cell_type": "markdown",
   "metadata": {},
   "source": [
    "To get all possible permutations of values in our data, we would need (4 * 8)! = 32! permutations, which is a huge number. For that reason, we use Monte Carlo sampling, where we calculate the DSI values for a relative small number of permutations."
   ]
  },
  {
   "cell_type": "markdown",
   "metadata": {},
   "source": [
    "**Exercise (hard):** Calculate a permutation distribution of `num_perturb` DSIs, returned as `dsi_rand` and the p-value returned as `pval`. Your function ```get_dsi``` will definitely be useful!\n",
    "\n",
    "*Hint:* The function `np.random.permutation` may be useful to shuffle the spike counts in conjunction with flattening `spike_counts` (see `np.ravel`) and then reshaping it afterwards to its original dimensions (see `np.reshape`).\n",
    "\n",
    "*Hint:* Think of what the p-value should be if there is no permuted DSI larger than the observed one (given the number of permutations we performed).\n"
   ]
  },
  {
   "cell_type": "code",
   "execution_count": null,
   "metadata": {},
   "outputs": [],
   "source": [
    "def get_pval(angles, spike_counts, num_permutations):\n",
    "    \"\"\"\n",
    "    Calculate the permutation distributation of the dsi along with\n",
    "    the p-value\n",
    "    \n",
    "    Paramters\n",
    "    ---------\n",
    "    angles : (a,) numpy.ndarray\n",
    "        One dimensional list of angles a in radians\n",
    "    \n",
    "    spike_counts : (s, a) numpy.ndarray\n",
    "        Number of spikes s for each angle a\n",
    "    \n",
    "    num_permutations : int\n",
    "        Number of permutations\n",
    "\n",
    "    Returns\n",
    "    -------\n",
    "    pval : float\n",
    "        P-value\n",
    "    \n",
    "    dsi_rand : (num_perturb,) numpy.ndarray\n",
    "        Random DSI distribution\n",
    "    \"\"\"\n",
    "    dsi_true = get_dsi(angles, spike_counts.mean(axis=0))\n",
    "\n",
    "    ### START CODE HERE ###\n",
    "    \n",
    "    # Pre-allocate the array\n",
    "    dsi_rand = np.zeros(num_permutations)\n",
    "    \n",
    "    # Perform num_perturb perturbations\n",
    "    for p in range(num_permutations):\n",
    "        # Randomize spike counts\n",
    "        rand_counts = np.random.permutation(spike_counts.ravel())\n",
    "        rand_counts = rand_counts.reshape(spike_counts.shape)\n",
    "        dsi_rand[p] = get_dsi(angles, rand_counts.mean(axis=0))\n",
    "\n",
    "    # Compute the p-value\n",
    "    pval = np.sum(dsi_true < dsi_rand) / num_permutations\n",
    "    \n",
    "    \n",
    "    if pval == 0:\n",
    "        pval = 1 / num_permutations\n",
    "        \n",
    "    ### END CODE HERE ###\n",
    "\n",
    "    return pval, dsi_rand"
   ]
  },
  {
   "cell_type": "code",
   "execution_count": null,
   "metadata": {},
   "outputs": [],
   "source": [
    "pval, dsi_rand = get_pval(angles, all_spike_counts[2, :, :], 1000)\n",
    "print('P-value is', pval)"
   ]
  },
  {
   "cell_type": "markdown",
   "metadata": {},
   "source": [
    "Expected output:\n",
    "```python\n",
    "0.001\n",
    "```"
   ]
  },
  {
   "cell_type": "markdown",
   "metadata": {},
   "source": [
    "We can plot the distribution we generated."
   ]
  },
  {
   "cell_type": "code",
   "execution_count": null,
   "metadata": {},
   "outputs": [],
   "source": [
    "plt.hist(dsi_rand, 25)\n",
    "plt.xlim(0, 0.5)\n",
    "plt.xlabel('Permuted DSI')\n",
    "plt.ylabel('# permutations');"
   ]
  },
  {
   "cell_type": "markdown",
   "metadata": {},
   "source": [
    "**Exercise:** Calculate the p-values of all DSIs observed. Then we will plot them versus the DSI value."
   ]
  },
  {
   "cell_type": "code",
   "execution_count": null,
   "metadata": {},
   "outputs": [],
   "source": [
    "def get_pval_multi(angles, spike_counts, num_perturb):\n",
    "    \"\"\"\n",
    "    Parameters\n",
    "    ----------\n",
    "    angles : numpy.ndarray\n",
    "        One dimensional list of angles in radians\n",
    "    \n",
    "    multiTuningCurve : (Ncells, Nangles) numpy.ndarray\n",
    "\n",
    "    Returns\n",
    "    -------\n",
    "    dsiAll : (Ncells, 1) numpy.ndarray\n",
    "        List of DSI values for each cell\n",
    "    \"\"\"\n",
    "    num_cells = spike_counts.shape[0]\n",
    "    pvals = np.zeros(num_cells)\n",
    "\n",
    "    ### START CODE HERE ###  \n",
    "    for cell in range(num_cells):\n",
    "        pv = get_pval(angles, spike_counts[cell, :, :], num_perturb)[0]\n",
    "        pvals[cell] = pv\n",
    "    ### END CODE HERE ###\n",
    "\n",
    "    return pvals"
   ]
  },
  {
   "cell_type": "code",
   "execution_count": null,
   "metadata": {},
   "outputs": [],
   "source": [
    "all_pvals = get_pval_multi(angles, all_spike_counts, 1000)\n",
    "all_dsi = get_dsi_multi(angles, all_tuning_curves)\n",
    "plt.plot(all_dsi, np.log10(all_pvals), 'o')\n",
    "plt.xlabel('DSI')\n",
    "plt.ylabel('log(pval)');"
   ]
  },
  {
   "cell_type": "markdown",
   "metadata": {},
   "source": [
    "Can you understand the plot above? Where do the direction selective cells lie?"
   ]
  },
  {
   "cell_type": "markdown",
   "metadata": {},
   "source": [
    "## 3 - Comparing direction selectivity between different stimuli"
   ]
  },
  {
   "cell_type": "markdown",
   "metadata": {},
   "source": [
    "The data we gave you also contain a set of drifting gratings with different parameters. In particular, the other set of gratings was presented to the retina after the first set was over. The pulses for the second set are also included in the ```stimulus``` variable, and the following parameters will help you read them."
   ]
  },
  {
   "cell_type": "code",
   "execution_count": null,
   "metadata": {},
   "outputs": [],
   "source": [
    "num_angles_2 = 8\n",
    "num_periods_2 = 12 - 1\n",
    "num_cycles_2 = 4"
   ]
  },
  {
   "cell_type": "markdown",
   "metadata": {},
   "source": [
    "**Exercise:** Starting only from those parameters, try to extract the spike counts and DSI values for the new stimulus."
   ]
  },
  {
   "cell_type": "markdown",
   "metadata": {},
   "source": [
    "First, start off by retrieving the pulses and times.  \n",
    "*Hint:* Make sure to start counting pulses from the end of the previous stimulus."
   ]
  },
  {
   "cell_type": "code",
   "execution_count": null,
   "metadata": {},
   "outputs": [],
   "source": [
    "### START CODE HERE ###\n",
    "num_cycle_pulses_2 = num_periods_2 * num_angles_2\n",
    "num_stim_pulses_2 = num_cycle_pulses_2 * num_cycles_2\n",
    "\n",
    "# Using num_stim_pulses as a starting point\n",
    "pulse_times_2 = stimulus[num_stim_pulses:int(num_stim_pulses\n",
    "                                             + num_stim_pulses_2)]\n",
    "pulse_times_2 = pulse_times_2.reshape(num_cycles_2, num_angles_2,\n",
    "                                      num_periods_2)\n",
    "\n",
    "period_duration = np.mean(np.diff(pulse_times_2, axis=2))\n",
    "### END CODE HERE ###"
   ]
  },
  {
   "cell_type": "markdown",
   "metadata": {},
   "source": [
    "Now, obtain the spike counts and the DSI values, `all_spike_counts_2` and `all_dsi_2`."
   ]
  },
  {
   "cell_type": "code",
   "execution_count": null,
   "metadata": {},
   "outputs": [],
   "source": [
    "### START CODE HERE ###  \n",
    "all_spike_counts_2 = get_spike_counts_multi(pulse_times_2, spike_trains)\n",
    "angles_2 = np.linspace(0, 2*np.pi, num=num_angles_2, endpoint=False)\n",
    "all_dsi_2 = get_dsi_multi(angles_2, np.mean(all_spike_counts_2, axis=1))\n",
    "### END CODE HERE ###"
   ]
  },
  {
   "cell_type": "markdown",
   "metadata": {},
   "source": [
    "We can now plot the two DSI values against each other for all cells."
   ]
  },
  {
   "cell_type": "code",
   "execution_count": null,
   "metadata": {},
   "outputs": [],
   "source": [
    "# Draw diagonal\n",
    "plt.plot([0, np.max([all_dsi, all_dsi_2])],\n",
    "         [0, np.max([all_dsi, all_dsi_2])], 'gray')\n",
    "\n",
    "plt.plot(all_dsi, all_dsi_2, 'o')\n",
    "plt.xlabel('$DSI_1$')  # LaTeX label\n",
    "plt.ylabel('$DSI_2$')\n",
    "plt.gca().set_aspect('equal')"
   ]
  },
  {
   "cell_type": "markdown",
   "metadata": {},
   "source": [
    "Does the stimulus choice change the magnitude of direction selectivity?"
   ]
  },
  {
   "cell_type": "markdown",
   "metadata": {},
   "source": [
    "**Exercise:** Instead of a paired t-test, that assumes normality of the underlying data, we will perform a Wilcoxon signed-rank test. ```stats.wilcoxon``` should help"
   ]
  },
  {
   "cell_type": "code",
   "execution_count": null,
   "metadata": {},
   "outputs": [],
   "source": [
    "### START CODE HERE ###\n",
    "stats.wilcoxon(all_dsi, all_dsi_2)\n",
    "### END CODE HERE ###"
   ]
  },
  {
   "cell_type": "markdown",
   "metadata": {},
   "source": [
    "How do you interpret the result of the test? Which of the two stimuli would you prefer to probe direction selectivity?"
   ]
  }
 ],
 "metadata": {
  "kernelspec": {
   "display_name": "Python 3",
   "language": "python",
   "name": "python3"
  },
  "language_info": {
   "codemirror_mode": {
    "name": "ipython",
    "version": 3
   },
   "file_extension": ".py",
   "mimetype": "text/x-python",
   "name": "python",
   "nbconvert_exporter": "python",
   "pygments_lexer": "ipython3",
   "version": "3.7.1"
  }
 },
 "nbformat": 4,
 "nbformat_minor": 2
}
