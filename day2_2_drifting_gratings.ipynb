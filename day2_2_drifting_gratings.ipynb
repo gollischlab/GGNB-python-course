{
 "cells": [
  {
   "cell_type": "markdown",
   "metadata": {},
   "source": [
    "# Project 1: Probing direction selectivity in the mouse retina"
   ]
  },
  {
   "cell_type": "markdown",
   "metadata": {},
   "source": [
    "Welcome to the first project of the class. \n",
    "\n",
    "**You will learn to:** \n",
    "- Construct direction tuning curves from grating data.\n",
    "- Quantify direction selectivity.\n",
    "- Perform statistical comparison of paired samples.\n",
    "\n",
    "Let's first import the packages we are going to use, and set up some plotting parameters."
   ]
  },
  {
   "cell_type": "code",
   "execution_count": null,
   "metadata": {},
   "outputs": [],
   "source": [
    "# import packages\n",
    "import numpy as np\n",
    "import matplotlib.pyplot as plt\n",
    "import spkbasic\n",
    "from os import listdir\n",
    "from scipy import stats\n",
    "from pathlib import Path\n",
    "\n",
    "%matplotlib inline\n",
    "plt.rcParams['figure.figsize'] = (15.0, 6.0) # set default size of plots"
   ]
  },
  {
   "cell_type": "markdown",
   "metadata": {},
   "source": [
    "## 1 - Creating tuning curves"
   ]
  },
  {
   "cell_type": "markdown",
   "metadata": {},
   "source": [
    "The stimulus times, as well as the spikes of 20 cells are in the folder data_drifting_grating. Let's first start by loading the stimulus times."
   ]
  },
  {
   "cell_type": "code",
   "execution_count": null,
   "metadata": {},
   "outputs": [],
   "source": [
    "datapath='data_drifting_grating/'\n",
    "stimulus = np.loadtxt(datapath+'stimulus.txt')"
   ]
  },
  {
   "cell_type": "markdown",
   "metadata": {},
   "source": [
    "Each cycle contains the presentations of gratings drifting in one of 8 directions, for 400 frames, with a period of 100 frames. There is a pulse in the beginning of each period, except for the first one (as it's usually ignored in the analysis). In between the directions, there is a gray screen of 300 frames.\n",
    "\n",
    "Let's first input declare our values:"
   ]
  },
  {
   "cell_type": "code",
   "execution_count": null,
   "metadata": {},
   "outputs": [],
   "source": [
    "duration=400\n",
    "period=100\n",
    "Nangles=8\n",
    "Ncycles=4"
   ]
  },
  {
   "cell_type": "markdown",
   "metadata": {},
   "source": [
    "Now we can calculate some imporant values that will help sort out the spikes relative to the stimulus times."
   ]
  },
  {
   "cell_type": "code",
   "execution_count": null,
   "metadata": {},
   "outputs": [],
   "source": [
    "angles=np.linspace(0,2*np.pi,num=8,endpoint=False) # the angles of the drifting grating in radians\n",
    "NanglePulses=int(np.floor(duration/period))-1\n",
    "NcyclePulses=NanglePulses*Nangles\n",
    "NstimPulses=NcyclePulses*Ncycles\n",
    "pulseTimes=stimulus[0:int(NstimPulses)]\n",
    "pulseTimes=np.reshape(pulseTimes,(Ncycles,Nangles,NanglePulses))\n",
    "periodDuration=np.mean(np.diff(pulseTimes,n=1,axis=2))"
   ]
  },
  {
   "cell_type": "markdown",
   "metadata": {},
   "source": [
    "Having set up the stimulus times, now we can count spikes! Let's write a function that loads the spikes of an example cell:"
   ]
  },
  {
   "cell_type": "code",
   "execution_count": null,
   "metadata": {},
   "outputs": [],
   "source": [
    "def calculateSpikeCounts(pulseTimes,spikeTimes):\n",
    "    periodDuration=np.mean(np.diff(pulseTimes,n=1,axis=2)) # get period duration\n",
    "    pulseTimesShape=np.shape(pulseTimes)\n",
    "    spikeCounts=np.zeros(pulseTimesShape[:2]) # pre-allocate the array\n",
    "    \n",
    "    for iCycle in range(0,pulseTimesShape[0]):\n",
    "        for iDirection in range(0,pulseTimesShape[1]):\n",
    "            dirSpikes=spikeTimes[spikeTimes>=pulseTimes[iCycle,iDirection,0]]\n",
    "            dirSpikes=dirSpikes[dirSpikes<pulseTimes[iCycle,iDirection,-1]+periodDuration]\n",
    "            spikeCounts[iCycle,iDirection]=np.size(dirSpikes)\n",
    "    return spikeCounts"
   ]
  },
  {
   "cell_type": "markdown",
   "metadata": {},
   "source": [
    "Let's test our function below. Our goal to to reach to a matrix Ntrials x Ndirections, which we will use for most of our calculations..."
   ]
  },
  {
   "cell_type": "code",
   "execution_count": null,
   "metadata": {},
   "outputs": [],
   "source": [
    "exampleSpikeTimes=np.loadtxt('data_drifting_grating/5_SP_C3601.txt')\n",
    "exampleSpikeCounts=calculateSpikeCounts(pulseTimes,exampleSpikeTimes)\n",
    "print(exampleSpikeCounts)"
   ]
  },
  {
   "cell_type": "markdown",
   "metadata": {},
   "source": [
    "The first thing we can do is plot a tuning curve. We plot the spike count vs the direction"
   ]
  },
  {
   "cell_type": "code",
   "execution_count": null,
   "metadata": {
    "scrolled": true
   },
   "outputs": [],
   "source": [
    "tuningCurve=np.mean(exampleSpikeCounts,axis=0)\n",
    "plt.plot(np.rad2deg(angles),tuningCurve)\n",
    "plt.title('Tuning Curve')\n",
    "plt.ylabel('Spike count');\n",
    "plt.xlabel('Direction (deg)');"
   ]
  },
  {
   "cell_type": "markdown",
   "metadata": {},
   "source": [
    "It is also customary to plot tuning curve in a polar plot."
   ]
  },
  {
   "cell_type": "markdown",
   "metadata": {},
   "source": [
    "**Exercise:** Plot the tuning curve in a polar plot by filling in ```plotTuningCurvePolar(angles, responses)```. Consider using ```plt.polar```, and try to make your plot pretty.\n",
    "\n",
    "*Hint*: Make sure that your final curve is closed!"
   ]
  },
  {
   "cell_type": "code",
   "execution_count": null,
   "metadata": {},
   "outputs": [],
   "source": [
    "def plotTuningCurvePolar(angles,responses):\n",
    "    '''\n",
    "    Inputs:\n",
    "            angles: Ndirections np array\n",
    "            responses: Ntrials x Ndirections np array\n",
    "    '''\n",
    "    \n",
    "    ### START CODE HERE ### (approx. 1-2 lines)\n",
    "    plt.polar(np.append(angles,angles[0]),np.append(responses,responses[0]),linewidth=2)\n",
    "    ### END CODE HERE ###"
   ]
  },
  {
   "cell_type": "code",
   "execution_count": null,
   "metadata": {},
   "outputs": [],
   "source": [
    "plotTuningCurvePolar(angles,tuningCurve)"
   ]
  },
  {
   "cell_type": "markdown",
   "metadata": {},
   "source": [
    "We want now to look in all of our data. We will now load the spike trains of all cells in the dataset in a list, and you will have to figure out how to properly get structured spike counts for all cells now."
   ]
  },
  {
   "cell_type": "code",
   "execution_count": null,
   "metadata": {},
   "outputs": [],
   "source": [
    "filenames = [i.name for i in Path(datapath).glob('5_SP_C*.txt')]\n",
    "allSpikeTrains=[np.loadtxt(Path(datapath,fpath)) for fpath in filenames] # list of spike trains"
   ]
  },
  {
   "cell_type": "markdown",
   "metadata": {},
   "source": [
    "**Exercise:** Let's now calculate the tuning curves for all cells in our dataset. First, we need to sort the spikes of all cells in spike counts. Fill in the function that does that:\n",
    "\n",
    "*Hint:* You can iterate over cells using the function ```calculateSpikeCounts```, but you can also start over!"
   ]
  },
  {
   "cell_type": "code",
   "execution_count": null,
   "metadata": {},
   "outputs": [],
   "source": [
    "def calculateAllSpikeCounts(pulseTimes,allSpikeTimes):\n",
    "    '''\n",
    "    Inputs:\n",
    "            angles: list of strings\n",
    "            allSpikeTimes: list of spike trains (in np arrays)\n",
    "    Outputs:\n",
    "            allSpikeCounts:\n",
    "    '''\n",
    "    \n",
    "    ### START CODE HERE ### (approx. 5-10 lines)\n",
    "    Ncells=len(allSpikeTimes)\n",
    "    Ncycles,Ndirs,_=np.shape(pulseTimes)\n",
    "    allSpikeCounts=np.zeros((Ncells,Ncycles,Ndirs)) # pre-allocate the array  \n",
    "    periodDuration=np.mean(np.diff(pulseTimes,n=1,axis=2)) # get period duration\n",
    "\n",
    "    for iCycle in range(0,Ncycles):\n",
    "        for iDirection in range(0,Ndirs):\n",
    "            for iCell in range(0,Ncells):\n",
    "                spikeTimes=allSpikeTimes[iCell]\n",
    "                dirSpikes=spikeTimes[spikeTimes>=pulseTimes[iCycle,iDirection,0]]\n",
    "                dirSpikes=dirSpikes[dirSpikes<pulseTimes[iCycle,iDirection,-1]+periodDuration]\n",
    "                allSpikeCounts[iCell,iCycle,iDirection]=np.size(dirSpikes)\n",
    "    ### END CODE HERE ###\n",
    "    \n",
    "    return allSpikeCounts"
   ]
  },
  {
   "cell_type": "code",
   "execution_count": null,
   "metadata": {},
   "outputs": [],
   "source": [
    "allSpikeCounts=calculateAllSpikeCounts(pulseTimes,allSpikeTrains)\n",
    "print(allSpikeCounts[3,:,:])"
   ]
  },
  {
   "cell_type": "markdown",
   "metadata": {},
   "source": [
    "Expected output:"
   ]
  },
  {
   "cell_type": "markdown",
   "metadata": {},
   "source": [
    "Ok, now use the ```np.mean``` function in the right dimension, to get all the tuning curves!"
   ]
  },
  {
   "cell_type": "code",
   "execution_count": null,
   "metadata": {
    "scrolled": true
   },
   "outputs": [],
   "source": [
    "allTuningCurves=np.mean(allSpikeCounts,axis=1)"
   ]
  },
  {
   "cell_type": "markdown",
   "metadata": {},
   "source": [
    "By running the following cell, you can examine the tuning curve of the second cell. Change the indices to examine the tuning curves for different cells. Can you understand what all of them mean?"
   ]
  },
  {
   "cell_type": "code",
   "execution_count": null,
   "metadata": {},
   "outputs": [],
   "source": [
    "plotTuningCurvePolar(angles,allTuningCurves[13,:])"
   ]
  },
  {
   "cell_type": "markdown",
   "metadata": {},
   "source": [
    "## 2 - Quantification of direction selectivity"
   ]
  },
  {
   "cell_type": "markdown",
   "metadata": {},
   "source": [
    "### The direction selectivity index (DSI)"
   ]
  },
  {
   "cell_type": "markdown",
   "metadata": {},
   "source": [
    "The direction selectivity index (DSI) is a common quantification of direction tuning. One of the ways to calculate it is the following:"
   ]
  },
  {
   "cell_type": "markdown",
   "metadata": {},
   "source": [
    "$$ DSI = \\frac{1}{\\sum_{k=1}^{N}{r_{k}}} \\left|\\sum_{k=1}^{N}{r_{k}e^{i\\phi_{k}}}\\right|$$"
   ]
  },
  {
   "cell_type": "markdown",
   "metadata": {},
   "source": [
    "**Exercise:** Fill in ```calculateDSI(angles,responses)```. To help you, a complex number is given as 1j, 2j, 3j... You can calculated the maginude of a complex number with ```np.absolute()```."
   ]
  },
  {
   "cell_type": "code",
   "execution_count": null,
   "metadata": {},
   "outputs": [],
   "source": [
    "def calculateDSI(angles,responses):\n",
    "    '''\n",
    "    Inputs:\n",
    "            angles: np array of angles in radians\n",
    "            responses: \n",
    "    '''\n",
    "    \n",
    "    ### START CODE HERE ### (approx. 1-2 lines)\n",
    "    vsum=np.sum(responses*np.exp(1j*angles))/np.sum(responses)\n",
    "    dsi=np.absolute(vsum)\n",
    "    ### END CODE HERE ###\n",
    "\n",
    "    return dsi"
   ]
  },
  {
   "cell_type": "code",
   "execution_count": null,
   "metadata": {
    "scrolled": true
   },
   "outputs": [],
   "source": [
    "print('DSI = ' + str(calculateDSI(angles, tuningCurve)))"
   ]
  },
  {
   "cell_type": "markdown",
   "metadata": {},
   "source": [
    "Expected output: 0.31383540910149094"
   ]
  },
  {
   "cell_type": "markdown",
   "metadata": {},
   "source": [
    "Good job! Now let's try to find the DSI values for all the cells we provided for you."
   ]
  },
  {
   "cell_type": "markdown",
   "metadata": {},
   "source": [
    "**Exercise:** Calculate the DSIs for all cells provided. Then run the cell below, and examine the histogram. \n",
    "\n",
    "*Hint:* Instead of using a for loop, you can use linear algebra to calculate the responses for all cells simultaneously!"
   ]
  },
  {
   "cell_type": "code",
   "execution_count": null,
   "metadata": {},
   "outputs": [],
   "source": [
    "def calculateDSIall(angles,multiTuningCurve):\n",
    "    '''\n",
    "    Inputs:\n",
    "            angles: np array of angles in radians\n",
    "            multiTuningCurve: Ncells x Nangles np array\n",
    "    Outputs:\n",
    "            dsiAll: Ncells x 1 np array of dsi values for each cell\n",
    "    '''\n",
    "    \n",
    "    ### START CODE HERE ### (approx. 1-2 lines)\n",
    "    vsums=(multiTuningCurve@np.exp(1j*angles))/np.sum(multiTuningCurve,axis=1)\n",
    "    dsiAll=np.absolute(vsums)\n",
    "    ### END CODE HERE ###\n",
    "\n",
    "    return dsiAll"
   ]
  },
  {
   "cell_type": "code",
   "execution_count": null,
   "metadata": {},
   "outputs": [],
   "source": [
    "plt.hist(calculateDSIall(angles,allTuningCurves),8);"
   ]
  },
  {
   "cell_type": "markdown",
   "metadata": {},
   "source": [
    "### Monte Carlo permutation for creating DSI confidence intervals"
   ]
  },
  {
   "cell_type": "markdown",
   "metadata": {},
   "source": [
    "Examine the tuning curve of the following cell. What about its DSI value?"
   ]
  },
  {
   "cell_type": "code",
   "execution_count": null,
   "metadata": {},
   "outputs": [],
   "source": [
    "plotTuningCurvePolar(angles,allTuningCurves[11,:])\n",
    "print('DSI is ' + str(calculateDSI(angles,allTuningCurves[11,:])))"
   ]
  },
  {
   "cell_type": "markdown",
   "metadata": {},
   "source": [
    "Although the DSI value is above 0.2, the cell barely responded to the stimulus"
   ]
  },
  {
   "cell_type": "markdown",
   "metadata": {},
   "source": [
    "**Exercise:** Calculate a permutation distribution of dsis for cell 1. Now, the vectorized version of ```calculateDSI()``` will be definitely useful!"
   ]
  },
  {
   "cell_type": "code",
   "execution_count": null,
   "metadata": {},
   "outputs": [],
   "source": [
    "spikeCounts=allSpikeCounts[11,:,:]\n"
   ]
  },
  {
   "cell_type": "code",
   "execution_count": null,
   "metadata": {},
   "outputs": [],
   "source": [
    "def calculatePval(angles,spikeCounts,Npermutations):\n",
    "    '''\n",
    "    Inputs:\n",
    "            angles: np array of angles in radians\n",
    "            multiTuningCurve: Ncells x Nangles np array\n",
    "    Outputs:\n",
    "            dsiAll: Ncells x 1 np array of dsi values for each cell\n",
    "    '''\n",
    "    \n",
    "    ### START CODE HERE ### (approx. 1-2 lines)\n",
    "    trueDSI=calculateDSI(angles,spikeCounts)\n",
    "    \n",
    "    randDSI=np.zeros(Npermutations)\n",
    "    for iperm in range(Npermutations):\n",
    "        randCounts=np.random.permutation(np.hstack(spikeCounts))\n",
    "        randCounts=np.reshape(randCounts,np.shape(spikeCounts))\n",
    "        randDSI[iperm]=calculateDSI(angles,randCounts)\n",
    "    pval=1-np.sum(trueDSI>np.sort(randDSI))/Npermutations\n",
    "    if pval==0:\n",
    "        pval=1/Npermutations\n",
    "    ### END CODE HERE ###\n",
    "\n",
    "    return pval"
   ]
  },
  {
   "cell_type": "code",
   "execution_count": null,
   "metadata": {},
   "outputs": [],
   "source": [
    "calculatePval(angles,allSpikeCounts[11,:,:],1000)"
   ]
  },
  {
   "cell_type": "markdown",
   "metadata": {},
   "source": [
    "Calculate the p-values of all DSIs observed, and plot them versus the DSI value:"
   ]
  },
  {
   "cell_type": "code",
   "execution_count": null,
   "metadata": {},
   "outputs": [],
   "source": [
    "def calculatePvalAll(angles,spikeCountsAll,Npermutations):\n",
    "    '''\n",
    "    Inputs:\n",
    "            angles: np array of angles in radians\n",
    "            multiTuningCurve: Ncells x Nangles np array\n",
    "    Outputs:\n",
    "            dsiAll: Ncells x 1 np array of dsi values for each cell\n",
    "    '''\n",
    "    \n",
    "    ### START CODE HERE ### (approx. 1-2 lines)\n",
    "    Ncells=np.size(spikeCountsAll,0)\n",
    "    pvalAll=np.zeros(Ncells)\n",
    "    \n",
    "    for iCell in range(Ncells):\n",
    "        pvalAll[iCell]=calculatePval(angles,spikeCountsAll[iCell,:,:],Npermutations)\n",
    "    ### END CODE HERE ###\n",
    "\n",
    "    return pvalAll"
   ]
  },
  {
   "cell_type": "code",
   "execution_count": null,
   "metadata": {},
   "outputs": [],
   "source": [
    "allpvals=calculatePvalAll(angles,allSpikeCounts,1000)\n",
    "alldsis=calculateDSIall(angles,allTuningCurves)\n",
    "plt.plot(alldsis,np.log10(allpvals),'o')"
   ]
  },
  {
   "cell_type": "markdown",
   "metadata": {},
   "source": [
    "## 3 - Comparing direction selectivity between different stimuli"
   ]
  },
  {
   "cell_type": "markdown",
   "metadata": {},
   "source": [
    "The data we gave you contain gratings with different parameters as well."
   ]
  },
  {
   "cell_type": "code",
   "execution_count": null,
   "metadata": {},
   "outputs": [],
   "source": [
    "duration=\n",
    "period=\n",
    "Nangles=8\n",
    "Ncycles=4"
   ]
  },
  {
   "cell_type": "markdown",
   "metadata": {},
   "source": [
    "Instead of a paired t-test, that assumes normality of the underlying data, we will perform a Wilcoxon signed-rank test."
   ]
  },
  {
   "cell_type": "code",
   "execution_count": null,
   "metadata": {},
   "outputs": [],
   "source": [
    "stats.wilcoxon(dsi1,dsi2)"
   ]
  }
 ],
 "metadata": {
  "kernelspec": {
   "display_name": "Python 3",
   "language": "python",
   "name": "python3"
  },
  "language_info": {
   "codemirror_mode": {
    "name": "ipython",
    "version": 3
   },
   "file_extension": ".py",
   "mimetype": "text/x-python",
   "name": "python",
   "nbconvert_exporter": "python",
   "pygments_lexer": "ipython3",
   "version": "3.7.1"
  }
 },
 "nbformat": 4,
 "nbformat_minor": 2
}
