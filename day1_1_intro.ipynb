{
 "cells": [
  {
   "cell_type": "markdown",
   "metadata": {
    "tags": []
   },
   "source": [
    "# Introduction to Python\n",
    "\n",
    "We will look at the basic structure and commands of Python.\n",
    "\n",
    "1\\. How to use JupyterLab\n",
    "\n",
    "2\\. Basic calculations with Python\n",
    "\n",
    "3\\. Data types\n",
    "\n",
    "4\\. Loops\n",
    "\n",
    "5\\. Conditionals\n",
    "\n",
    "6\\. Functions\n",
    "\n",
    "7\\. Using Packages\n"
   ]
  },
  {
   "cell_type": "markdown",
   "metadata": {},
   "source": [
    "# 1. How to use JupyterLab"
   ]
  },
  {
   "cell_type": "markdown",
   "metadata": {},
   "source": [
    "To use JupyterLab, start Anaconda and launch JupyterLab (or start JupyterLab directly).\n",
    "\n",
    "On the left, navigate to the folder with the course material and double click on 'day1_1_intro.ipynb' to open this notebook.\n",
    "\n",
    "You can run a cell by pressing `Ctrl + Enter`. You can run and move onto the next cell with `Shift + Enter`.\n",
    "\n",
    "To add a new cell, click the \"Insert Cell\" button on the toolbar (`+` icon) or press `b`. Make sure \"Code\" is selected in the drop-down menu. To delete a cell, right-click and select \"Delete Cells\" or press `d` twice."
   ]
  },
  {
   "cell_type": "markdown",
   "metadata": {},
   "source": [
    "# 2. Basic calculations with Python"
   ]
  },
  {
   "cell_type": "markdown",
   "metadata": {},
   "source": [
    "Python can be used as a simple calculator. "
   ]
  },
  {
   "cell_type": "code",
   "execution_count": null,
   "metadata": {},
   "outputs": [],
   "source": [
    "(15 - 7) / 4"
   ]
  },
  {
   "cell_type": "markdown",
   "metadata": {},
   "source": [
    "You need to mind the order of operations. The following expression is different from the previous one."
   ]
  },
  {
   "cell_type": "code",
   "execution_count": null,
   "metadata": {},
   "outputs": [],
   "source": [
    "15 - 7 / 4"
   ]
  },
  {
   "cell_type": "markdown",
   "metadata": {},
   "source": [
    "The operation order for basic operations, from high to low priority, are as follows:\n",
    "\n",
    "\n",
    "\n",
    "|Exponentiation|Multiplication, Division|Addition, Subtraction|\n",
    "|--------------|------------------------|---------------------|\n",
    "|`      **    `|`     *` ,` /          `|`      +`,` -       `|"
   ]
  },
  {
   "cell_type": "markdown",
   "metadata": {},
   "source": [
    "You can use parantheses to make sure the operations are carried out in the order you want."
   ]
  },
  {
   "cell_type": "markdown",
   "metadata": {},
   "source": [
    "**Exercise:**\n",
    "\n",
    "Calculate the following expression\n",
    "\n",
    "$$ \\left( \\frac{2^{4}+2}{10-2^{2}} \\right) ^{4}$$"
   ]
  },
  {
   "cell_type": "code",
   "execution_count": null,
   "metadata": {},
   "outputs": [],
   "source": [
    "# Enter your solution below:\n",
    "# FIXME\n",
    "((2 ** 4 + 2) / (10 - 2 ** 2)) ** 4\n"
   ]
  },
  {
   "cell_type": "markdown",
   "metadata": {},
   "source": [
    "**Expected output:**\n",
    "\n",
    "`81.0`"
   ]
  },
  {
   "cell_type": "markdown",
   "metadata": {},
   "source": [
    "You can use the hash character `#` for comments. Everything in a line after `#` will be ignored. This is useful for adding explanations within your code."
   ]
  },
  {
   "cell_type": "markdown",
   "metadata": {},
   "source": [
    "### Don't be afraid of errors!"
   ]
  },
  {
   "cell_type": "markdown",
   "metadata": {},
   "source": [
    "What happens when you make a mistake?"
   ]
  },
  {
   "cell_type": "code",
   "execution_count": null,
   "metadata": {},
   "outputs": [],
   "source": [
    "15 / (7 - 5"
   ]
  },
  {
   "cell_type": "markdown",
   "metadata": {},
   "source": [
    "Well, we get an error! Errors are there to help you fix the problem; they will tell you the kind of mistake and where it is.\n",
    "\n",
    "You can always correct the error and re-run the cell with `Ctrl + Enter`."
   ]
  },
  {
   "cell_type": "markdown",
   "metadata": {},
   "source": [
    "### Variables"
   ]
  },
  {
   "cell_type": "markdown",
   "metadata": {},
   "source": [
    "We can assign names to the values we are working with."
   ]
  },
  {
   "cell_type": "code",
   "execution_count": null,
   "metadata": {},
   "outputs": [],
   "source": [
    "a = 7\n",
    "b = 10"
   ]
  },
  {
   "cell_type": "code",
   "execution_count": null,
   "metadata": {},
   "outputs": [],
   "source": [
    "a"
   ]
  },
  {
   "cell_type": "markdown",
   "metadata": {},
   "source": [
    "Variable names in Python:\n",
    "- can contain letters, numbers and underscores\n",
    "- cannot start with a number\n",
    "- are case sensitive (i.e. `my_variable` and `My_Variable` would be different)\n",
    "\n",
    "For the introduction, we will use simple variable names like `a` and `b`, but in general\n",
    "it is a good idea to have more descriptive variable names like `spiketimes` or `experiment_date`."
   ]
  },
  {
   "cell_type": "markdown",
   "metadata": {},
   "source": [
    "_Quick note on semicolons:_ Some programming languages require every line to have a `;` at the end, this is not the case for Python."
   ]
  },
  {
   "cell_type": "markdown",
   "metadata": {},
   "source": [
    "We can use the variables from before:"
   ]
  },
  {
   "cell_type": "code",
   "execution_count": null,
   "metadata": {},
   "outputs": [],
   "source": [
    "b - a"
   ]
  },
  {
   "cell_type": "markdown",
   "metadata": {},
   "source": [
    "You can have more than one calculation in a cell, but by default only the result of the last one will be shown."
   ]
  },
  {
   "cell_type": "code",
   "execution_count": null,
   "metadata": {},
   "outputs": [],
   "source": [
    "a ** 2\n",
    "b ** 3"
   ]
  },
  {
   "cell_type": "markdown",
   "metadata": {},
   "source": [
    "We can use the function `print` to see both results. `print` is a function that takes an _argument_ and displays it."
   ]
  },
  {
   "cell_type": "code",
   "execution_count": null,
   "metadata": {},
   "outputs": [],
   "source": [
    "print(a ** 2)\n",
    "print(b ** 3)"
   ]
  },
  {
   "cell_type": "markdown",
   "metadata": {},
   "source": [
    "`print` can also be used to display text."
   ]
  },
  {
   "cell_type": "code",
   "execution_count": null,
   "metadata": {},
   "outputs": [],
   "source": [
    "print(\"Hello world!\")"
   ]
  },
  {
   "cell_type": "markdown",
   "metadata": {},
   "source": [
    "To print both text and variables, use f-strings."
   ]
  },
  {
   "cell_type": "code",
   "execution_count": null,
   "metadata": {},
   "outputs": [],
   "source": [
    "print(f\"Variable a stores {a}.\")"
   ]
  },
  {
   "cell_type": "markdown",
   "metadata": {},
   "source": [
    "# 3. Data types"
   ]
  },
  {
   "cell_type": "markdown",
   "metadata": {},
   "source": [
    "We mostly used integers so far, but there are many more types of data we might want to work with."
   ]
  },
  {
   "cell_type": "markdown",
   "metadata": {},
   "source": [
    "- booleans (True or False)\n",
    "- integers (whole numbers)\n",
    "- floats (real numbers)\n",
    "- strings (text)\n",
    "- lists (contains many elements, which can be a mix of types)\n",
    "- dictionaries (key:value pairs, useful for storing parameters)"
   ]
  },
  {
   "cell_type": "markdown",
   "metadata": {},
   "source": [
    "### Booleans"
   ]
  },
  {
   "cell_type": "markdown",
   "metadata": {},
   "source": [
    "Booleans are truth values. They store if an expression is `True` or `False`."
   ]
  },
  {
   "cell_type": "code",
   "execution_count": null,
   "metadata": {},
   "outputs": [],
   "source": [
    "a < b"
   ]
  },
  {
   "cell_type": "code",
   "execution_count": null,
   "metadata": {},
   "outputs": [],
   "source": [
    "c = (a < b)"
   ]
  },
  {
   "cell_type": "markdown",
   "metadata": {},
   "source": [
    "`c` is now a boolean with value `True`."
   ]
  },
  {
   "cell_type": "markdown",
   "metadata": {},
   "source": [
    "Other operators that we might encounter:"
   ]
  },
  {
   "cell_type": "markdown",
   "metadata": {},
   "source": [
    "|Symbol|Operation|\n",
    "|--|--|\n",
    "|`<`, `<=`| less than, or equal to \n",
    "|`>`, `>=`| greater than, or equal to \n",
    "|`==`, `!=`| equal, not equal to\n",
    "|`%`| modulo (remainder)\n",
    "|`and`, `or`, `not`| |"
   ]
  },
  {
   "cell_type": "markdown",
   "metadata": {},
   "source": [
    "**Exercise:**\n",
    "\n",
    "Check if both `a` is divisible by 2 _and_ `b` is divisible by 2."
   ]
  },
  {
   "cell_type": "code",
   "execution_count": null,
   "metadata": {},
   "outputs": [],
   "source": [
    "# Enter your solution below:\n",
    "# FIXME\n",
    "(a%2 == 0) and (b%2 == 0)"
   ]
  },
  {
   "cell_type": "markdown",
   "metadata": {},
   "source": [
    "**Expected output:**\n",
    "\n",
    "`False`"
   ]
  },
  {
   "cell_type": "markdown",
   "metadata": {},
   "source": [
    "### Integers, floats and strings"
   ]
  },
  {
   "cell_type": "code",
   "execution_count": null,
   "metadata": {},
   "outputs": [],
   "source": [
    "integer = 3 # This is an integer\n",
    "\n",
    "flt = 4.5 # This is a floating point number, or float\n",
    "\n",
    "text = \"Hello world\" # A string\n",
    "another_text = 'Hello world' # Also a string, both double and single quotes can be used for strings."
   ]
  },
  {
   "cell_type": "markdown",
   "metadata": {},
   "source": [
    "In general, there is no need to explicitly define the type of data you are assigning. However, you should know that the type is a fundamental property of data in Python."
   ]
  },
  {
   "cell_type": "markdown",
   "metadata": {},
   "source": [
    "### Converting types\n",
    "We can convert types to each other, when this makes sense."
   ]
  },
  {
   "cell_type": "code",
   "execution_count": null,
   "metadata": {},
   "outputs": [],
   "source": [
    "int(flt)"
   ]
  },
  {
   "cell_type": "code",
   "execution_count": null,
   "metadata": {},
   "outputs": [],
   "source": [
    "str(flt)"
   ]
  },
  {
   "cell_type": "code",
   "execution_count": null,
   "metadata": {},
   "outputs": [],
   "source": [
    "float(integer)"
   ]
  },
  {
   "cell_type": "code",
   "execution_count": null,
   "metadata": {},
   "outputs": [],
   "source": [
    "int(text)"
   ]
  },
  {
   "cell_type": "markdown",
   "metadata": {},
   "source": [
    "It is possible to check the type of a given variable with the `type` function."
   ]
  },
  {
   "cell_type": "code",
   "execution_count": null,
   "metadata": {},
   "outputs": [],
   "source": [
    "type(text)"
   ]
  },
  {
   "cell_type": "markdown",
   "metadata": {},
   "source": [
    "If you loose track of all the variables you have defined, you can use the command `whos` to see a summary of them."
   ]
  },
  {
   "cell_type": "code",
   "execution_count": null,
   "metadata": {
    "tags": []
   },
   "outputs": [],
   "source": [
    "whos"
   ]
  },
  {
   "cell_type": "markdown",
   "metadata": {},
   "source": [
    "### Lists"
   ]
  },
  {
   "cell_type": "markdown",
   "metadata": {},
   "source": [
    "Lists can be used to store and access multiple things at a time. The list is surrounded with square brackets and each element is separated with a comma."
   ]
  },
  {
   "cell_type": "code",
   "execution_count": null,
   "metadata": {},
   "outputs": [],
   "source": [
    "numbers = [1, 2, 3, 4, 5, 6]"
   ]
  },
  {
   "cell_type": "markdown",
   "metadata": {},
   "source": [
    "The `len` function can be used to check the length of a list."
   ]
  },
  {
   "cell_type": "code",
   "execution_count": null,
   "metadata": {},
   "outputs": [],
   "source": [
    "len(numbers)"
   ]
  },
  {
   "cell_type": "markdown",
   "metadata": {},
   "source": [
    "If you don't feel like typing the whole word `numbers`, you can type part of it and auto-complete by pressing `TAB`.\n",
    "\n",
    "Try it below by writing `num` and pressing `TAB`."
   ]
  },
  {
   "cell_type": "code",
   "execution_count": null,
   "metadata": {},
   "outputs": [],
   "source": [
    "len()"
   ]
  },
  {
   "cell_type": "markdown",
   "metadata": {},
   "source": [
    "We can use **indexing** to access elements of a list.\n",
    "\n",
    "An index is given in square brackets. Note that this the same symbol for defining a list; but used in a different way. Indexes appear next to the name of the variable."
   ]
  },
  {
   "cell_type": "markdown",
   "metadata": {},
   "source": [
    "Python starts counting **from zero**. So the first element in a list has the index `0`."
   ]
  },
  {
   "cell_type": "code",
   "execution_count": null,
   "metadata": {},
   "outputs": [],
   "source": [
    "numbers[0]"
   ]
  },
  {
   "cell_type": "code",
   "execution_count": null,
   "metadata": {},
   "outputs": [],
   "source": [
    "print(numbers[1])\n",
    "print(numbers[4])"
   ]
  },
  {
   "cell_type": "markdown",
   "metadata": {},
   "source": [
    "We can use negative numbers to index from the end. The last element of a list has the index `-1`."
   ]
  },
  {
   "cell_type": "code",
   "execution_count": null,
   "metadata": {},
   "outputs": [],
   "source": [
    "print(numbers[-1])"
   ]
  },
  {
   "cell_type": "markdown",
   "metadata": {},
   "source": [
    "Putting it together, you can index individual elements of `numbers` like this:"
   ]
  },
  {
   "cell_type": "markdown",
   "metadata": {},
   "source": [
    "```\n",
    "       [1, 2, 3, 4, 5, 6]\n",
    "                         \n",
    "index:  0  1  2  3  4  5\n",
    "\n",
    "also:  -6 -5 -4 -3 -2 -1\n",
    "```"
   ]
  },
  {
   "cell_type": "markdown",
   "metadata": {},
   "source": [
    "It is possible to use indexing to address multiple elements at once:"
   ]
  },
  {
   "cell_type": "markdown",
   "metadata": {},
   "source": [
    "```\n",
    "list[   start   :   end   :   increment]\n",
    "      inclusive   exclusive\n",
    "```"
   ]
  },
  {
   "cell_type": "code",
   "execution_count": null,
   "metadata": {},
   "outputs": [],
   "source": [
    "print(numbers)"
   ]
  },
  {
   "cell_type": "code",
   "execution_count": null,
   "metadata": {},
   "outputs": [],
   "source": [
    "print(numbers[2:])      # Starting from index 2, until the end"
   ]
  },
  {
   "cell_type": "code",
   "execution_count": null,
   "metadata": {},
   "outputs": [],
   "source": [
    "print(numbers[:-2])     # Until the second-to-last element"
   ]
  },
  {
   "cell_type": "code",
   "execution_count": null,
   "metadata": {},
   "outputs": [],
   "source": [
    "print(numbers[4:-1])    # From fifth to last element"
   ]
  },
  {
   "cell_type": "code",
   "execution_count": null,
   "metadata": {},
   "outputs": [],
   "source": [
    "print(numbers[::2])     # Every second element"
   ]
  },
  {
   "cell_type": "code",
   "execution_count": null,
   "metadata": {},
   "outputs": [],
   "source": [
    "print(numbers[::-1])    # Inverse order"
   ]
  },
  {
   "cell_type": "markdown",
   "metadata": {},
   "source": [
    "Individual characters in a string can be indexed in a very similar way."
   ]
  },
  {
   "cell_type": "code",
   "execution_count": null,
   "metadata": {},
   "outputs": [],
   "source": [
    "text = \"Hello\"\n",
    "print(text[1:4])"
   ]
  },
  {
   "cell_type": "markdown",
   "metadata": {},
   "source": [
    "**Exercise:**\n",
    "\n",
    "Starting from the string `Santiago Ramón y Cajal`,\n",
    "\n",
    "Try to generate each of the following using indexing."
   ]
  },
  {
   "cell_type": "markdown",
   "metadata": {},
   "source": [
    "```\n",
    "Santiago Ramón y Cajal\n",
    "Santiago Ramón y C\n",
    "Ramón \n",
    "lajaC y nómaR ogaitnaS\n",
    "StgRóyal\n",
    "lCnRaa \n",
    "```\n"
   ]
  },
  {
   "cell_type": "markdown",
   "metadata": {},
   "source": [
    "<img src=\"images/cajal.png\" align=\"left\">"
   ]
  },
  {
   "cell_type": "code",
   "execution_count": null,
   "metadata": {},
   "outputs": [],
   "source": [
    "a = \"Santiago Ramón y Cajal\"\n",
    "# Your answer below\n",
    "# FIXME\n",
    "print(a)\n",
    "print(a[:-4])\n",
    "print(a[9:15])\n",
    "print(a[::-1])\n",
    "print(a[::3])\n",
    "print(a[::-4])"
   ]
  },
  {
   "cell_type": "markdown",
   "metadata": {},
   "source": [
    "### Manipulating lists"
   ]
  },
  {
   "cell_type": "markdown",
   "metadata": {},
   "source": [
    "Let's say we would like to keep track of the books in the library. We can use a list to store their names."
   ]
  },
  {
   "cell_type": "code",
   "execution_count": null,
   "metadata": {},
   "outputs": [],
   "source": [
    "mybooks = [\"Lord of the Rings\", \"The Hitchhiker's Guide to the Galaxy\", \"Harry Potter\"]\n",
    "print(mybooks)"
   ]
  },
  {
   "cell_type": "markdown",
   "metadata": {},
   "source": [
    "When we get a new book, we need to add this to the list."
   ]
  },
  {
   "cell_type": "code",
   "execution_count": null,
   "metadata": {},
   "outputs": [],
   "source": [
    "mybooks = mybooks + [\"Intro to Python\"]\n",
    "print(mybooks)"
   ]
  },
  {
   "cell_type": "markdown",
   "metadata": {},
   "source": [
    "There are also other ways of doing the same. We can use a **method** to do this. You can think of this as a function attached to the list."
   ]
  },
  {
   "cell_type": "code",
   "execution_count": null,
   "metadata": {},
   "outputs": [],
   "source": [
    "mybooks.append(\"A Song of Ice and Fire\")\n",
    "print(mybooks)"
   ]
  },
  {
   "cell_type": "markdown",
   "metadata": {},
   "source": [
    "Note that we are using a dot to access the method\n",
    "\n",
    "`<list>.<method>`\n",
    "\n",
    "Every data type has their own methods; all lists will have the same methods which would be different from string methods.\n",
    "\n",
    "To inspect all the methods of lists, you can try typing\n",
    "`mybooks.` and press `TAB`.\n",
    "\n",
    "To learn more about a specific method, you can select it with `Enter` and press `Shift + TAB` to bring up the help dialog."
   ]
  },
  {
   "cell_type": "markdown",
   "metadata": {},
   "source": [
    "**Exercise:**\n",
    "\n",
    "Find a method to remove a book, use it on a book of your choice and check that it is removed\n",
    "by printing the list."
   ]
  },
  {
   "cell_type": "code",
   "execution_count": null,
   "metadata": {},
   "outputs": [],
   "source": [
    "# Your code here\n",
    "# FIXME\n",
    "mybooks.remove(\"Harry Potter\")\n",
    "print(mybooks)"
   ]
  },
  {
   "cell_type": "markdown",
   "metadata": {},
   "source": [
    "**Expected output:**\n",
    "\n",
    "`['Lord of the Rings', \"The Hitchhiker's Guide to the Galaxy\", 'Intro to Python', 'A Song of Ice and Fire']`"
   ]
  },
  {
   "cell_type": "markdown",
   "metadata": {},
   "source": [
    "We can directly access elements of a list and modify them by using their indices."
   ]
  },
  {
   "cell_type": "code",
   "execution_count": null,
   "metadata": {},
   "outputs": [],
   "source": [
    "mybooks[0] = \"LotR\"\n",
    "print(mybooks)"
   ]
  },
  {
   "cell_type": "markdown",
   "metadata": {},
   "source": [
    "Lists can also contain elements of different datatypes."
   ]
  },
  {
   "cell_type": "code",
   "execution_count": null,
   "metadata": {},
   "outputs": [],
   "source": [
    "mybooks.append(1984)\n",
    "print(mybooks)"
   ]
  },
  {
   "cell_type": "markdown",
   "metadata": {},
   "source": [
    "# 4. Loops\n",
    "\n",
    "Sometimes, we need to run a set of instructions multiple times, for example to apply the same anaylsis to multiple cells. We can use a `for` loop for this purpose.\n",
    "\n",
    "The variable `i` indexes the loop. The `range` function allows iterating until a given number."
   ]
  },
  {
   "cell_type": "code",
   "execution_count": null,
   "metadata": {},
   "outputs": [],
   "source": [
    "for i in range(0, 10):\n",
    "    print(i)"
   ]
  },
  {
   "cell_type": "markdown",
   "metadata": {},
   "source": [
    "In Python,\n",
    "end of a block is determined based on the indentation of the lines. One level of indentation is always 4 spaces."
   ]
  },
  {
   "cell_type": "code",
   "execution_count": null,
   "metadata": {},
   "outputs": [],
   "source": [
    "for i in range(0, 3):\n",
    "    print(i)\n",
    "    print(\"We are in the loop\")"
   ]
  },
  {
   "cell_type": "code",
   "execution_count": null,
   "metadata": {},
   "outputs": [],
   "source": [
    "for i in range(0, 3):\n",
    "    print(i)\n",
    "print(\"We are outside the loop\")"
   ]
  },
  {
   "cell_type": "markdown",
   "metadata": {},
   "source": [
    "The `range` function is not doing anything fancy, it just generates sequential numbers. "
   ]
  },
  {
   "cell_type": "code",
   "execution_count": null,
   "metadata": {},
   "outputs": [],
   "source": [
    "list(range(0, 10))"
   ]
  },
  {
   "cell_type": "markdown",
   "metadata": {},
   "source": [
    "You don't need to specifiy the start of `range`, by default it will start at 0."
   ]
  },
  {
   "cell_type": "code",
   "execution_count": null,
   "metadata": {},
   "outputs": [],
   "source": [
    "list(range(10))"
   ]
  },
  {
   "cell_type": "markdown",
   "metadata": {},
   "source": [
    "We can use a loop to print the summed squares of numbers until 10."
   ]
  },
  {
   "cell_type": "code",
   "execution_count": null,
   "metadata": {},
   "outputs": [],
   "source": [
    "summed = 0\n",
    "for i in range(10):\n",
    "    summed = summed + i**2\n",
    "    print(f\"{i}, {i**2}, {summed}\")\n"
   ]
  },
  {
   "cell_type": "markdown",
   "metadata": {},
   "source": [
    "**Exercise:**\n",
    "\n",
    "Starting from zero, print the cube of every third number until 20 (excluding).\n",
    "\n",
    "_Hint_ : The `range` function has an additional parameter called `step` that you can use to specify \"every third number\". To see the documentation of the function, type `range(` and press `Shift + Tab`. If you specifiy `step`, you also have to specifiy `start`."
   ]
  },
  {
   "cell_type": "code",
   "execution_count": null,
   "metadata": {},
   "outputs": [],
   "source": [
    "# Your code here\n",
    "# FIXME\n",
    "for i in range(0, 20, 3):\n",
    "    print(i**3)"
   ]
  },
  {
   "cell_type": "markdown",
   "metadata": {},
   "source": [
    "**Expected output:**\n",
    "\n",
    "```0\n",
    "27\n",
    "216\n",
    "729\n",
    "1728\n",
    "3375\n",
    "5832```"
   ]
  },
  {
   "cell_type": "markdown",
   "metadata": {},
   "source": [
    "**Exercise:**\n",
    "\n",
    "It could be useful to collect these numbers in a list. Using the same loop, collect the cubes in a list and print the list at the end."
   ]
  },
  {
   "cell_type": "code",
   "execution_count": null,
   "metadata": {},
   "outputs": [],
   "source": [
    "cubes = []\n",
    "# Your answer here\n",
    "# FIXME\n",
    "for i in range(0, 20, 3):\n",
    "    cubes.append(i**3)\n",
    "    #cubes = cubes + [i**3]\n",
    "print(cubes)"
   ]
  },
  {
   "cell_type": "markdown",
   "metadata": {},
   "source": [
    "**Expected output:**\n",
    "\n",
    "`[0, 27, 216, 729, 1728, 3375, 5832]`"
   ]
  },
  {
   "cell_type": "markdown",
   "metadata": {},
   "source": [
    "For the more advanced: Loops in Python are slow. Python uses an interpreter, not ahead-of-time compilation like c++. Using a list comprehension, we can replace a `for` loop with a single line."
   ]
  },
  {
   "cell_type": "code",
   "execution_count": null,
   "metadata": {},
   "outputs": [],
   "source": [
    "[i**3 for i in range(0, 20, 3)]"
   ]
  },
  {
   "cell_type": "markdown",
   "metadata": {},
   "source": [
    "## `while` loops"
   ]
  },
  {
   "cell_type": "markdown",
   "metadata": {},
   "source": [
    "A more general form of loops is the `while` loop. It continues _while_ the condition is satisfied."
   ]
  },
  {
   "cell_type": "code",
   "execution_count": null,
   "metadata": {},
   "outputs": [],
   "source": [
    "text = \"no\"\n",
    "while text != \"yes\":\n",
    "    text = input(\"Would you like me to stop asking this question?\")"
   ]
  },
  {
   "cell_type": "markdown",
   "metadata": {},
   "source": [
    "Use with caution! It's very easy to get stuck in an infinite loop if you are not careful. You can stop the loop by `Kernel>Interrupt` or by pressing `I` twice."
   ]
  },
  {
   "cell_type": "markdown",
   "metadata": {},
   "source": [
    "# 5. Conditionals"
   ]
  },
  {
   "cell_type": "markdown",
   "metadata": {},
   "source": [
    "If you want to run a piece of code only under certain conditions, use the `if` clause."
   ]
  },
  {
   "cell_type": "code",
   "execution_count": null,
   "metadata": {},
   "outputs": [],
   "source": [
    "today = \"Wed\"\n",
    "\n",
    "if (today == \"Sat\") or (today == \"Sun\"):\n",
    "    print(\"Have a nice weekend!\")"
   ]
  },
  {
   "cell_type": "markdown",
   "metadata": {},
   "source": [
    "If you want to do something else if the condition is not met, use the `if ... else` construction."
   ]
  },
  {
   "cell_type": "code",
   "execution_count": null,
   "metadata": {},
   "outputs": [],
   "source": [
    "today = \"Wed\"\n",
    "\n",
    "if (today == \"Sat\") or (today == \"Sun\"):\n",
    "    print(\"Have a nice weekend!\")\n",
    "else:\n",
    "    print(\"Let's get this work done!\")"
   ]
  },
  {
   "cell_type": "markdown",
   "metadata": {},
   "source": [
    "If there are more than two options, use `elif`. Conditions are evaluated in order, whenever one of them is reached the rest are not evaluated."
   ]
  },
  {
   "cell_type": "code",
   "execution_count": null,
   "metadata": {},
   "outputs": [],
   "source": [
    "age = 17\n",
    "\n",
    "if age < 16:\n",
    "    print(\"Not allowed to drink\")\n",
    "elif age < 18: # When this condition is being evaluated, the age is above 16 so we don't have to check for that explicitly\n",
    "    print(\"Can drink beer and wine in Germany\")\n",
    "elif age < 21:\n",
    "    print(\"Go wild! (Anywhere except US)\")\n",
    "else:\n",
    "    print(\"Party in the U.S.A\")"
   ]
  },
  {
   "cell_type": "markdown",
   "metadata": {},
   "source": [
    "You can also use Booleans directly."
   ]
  },
  {
   "cell_type": "code",
   "execution_count": null,
   "metadata": {},
   "outputs": [],
   "source": [
    "speaks_spanish = False\n",
    "\n",
    "if speaks_spanish:\n",
    "    print(\"¡Hola!\")\n",
    "else:\n",
    "    print(\"Hello!\")"
   ]
  },
  {
   "cell_type": "markdown",
   "metadata": {},
   "source": [
    "We can combine loops and conditionals to do more complicated things."
   ]
  },
  {
   "cell_type": "code",
   "execution_count": null,
   "metadata": {},
   "outputs": [],
   "source": [
    "for i in range(20):\n",
    "    if i%5 == 0:\n",
    "        print(f\"{i} is a multiple of five.\")"
   ]
  },
  {
   "cell_type": "markdown",
   "metadata": {},
   "source": [
    "Note that 20 is not in the list because `range(20)` will generate numbers starting from `0` up to `19`."
   ]
  },
  {
   "cell_type": "markdown",
   "metadata": {},
   "source": [
    "**Exercise:**\n",
    "\n",
    "Write a program that prints numbers until 45 (including). If a number is a multiple of **3**, print `pine` instead of the number. If the number is a multiple of **5**, print `apple` instead. Print `pineapple` for multiples of both.\n",
    "\n",
    "_Hint:_ Think about in which order you should check the cases.\n",
    "\n",
    "_Followup exercise:_ Try to do the same without using the `and` operator."
   ]
  },
  {
   "cell_type": "code",
   "execution_count": null,
   "metadata": {},
   "outputs": [],
   "source": [
    "# Your code here\n",
    "\n",
    "# FIXME\n",
    "for i in range(1, 46):\n",
    "    if i % 3 == 0 and i % 5 == 0:\n",
    "        print(\"pineapple\")\n",
    "    elif i % 5 == 0:\n",
    "        print(\"apple\")\n",
    "    elif i % 3 == 0:\n",
    "        print(\"pine\")\n",
    "    else:\n",
    "        print(i)\n"
   ]
  },
  {
   "cell_type": "code",
   "execution_count": null,
   "metadata": {},
   "outputs": [],
   "source": [
    "# FIXME\n",
    "# Solution without and\n",
    "for i in range(1, 46):\n",
    "    t = \"\"\n",
    "    if i % 3 == 0:\n",
    "        t = \"pine\"\n",
    "    if i % 5 == 0:\n",
    "        t = t + \"apple\"\n",
    "    if t == \"\":\n",
    "        t = str(i)\n",
    "\n",
    "    print(t)"
   ]
  },
  {
   "cell_type": "markdown",
   "metadata": {},
   "source": [
    "**Expected output:**\n",
    "\n",
    "`\n",
    "1\n",
    "2\n",
    "pine\n",
    "4\n",
    "apple\n",
    "pine\n",
    "7\n",
    "8\n",
    "pine\n",
    "apple\n",
    "11\n",
    "pine\n",
    "13\n",
    "14\n",
    "pineapple\n",
    "`\n",
    "and so on ..."
   ]
  },
  {
   "cell_type": "markdown",
   "metadata": {},
   "source": [
    "# 6. Functions"
   ]
  },
  {
   "cell_type": "markdown",
   "metadata": {},
   "source": [
    "Functions are quite useful for organizing your code. Instead of copying the same lines, you can define a function."
   ]
  },
  {
   "cell_type": "code",
   "execution_count": null,
   "metadata": {},
   "outputs": [],
   "source": [
    "def greet(name):\n",
    "    print(f\"Hello {name}!\")"
   ]
  },
  {
   "cell_type": "markdown",
   "metadata": {},
   "source": [
    "Note that nothing happened, since we simply defined the function. To actually run the function, we need to call it."
   ]
  },
  {
   "cell_type": "code",
   "execution_count": null,
   "metadata": {},
   "outputs": [],
   "source": [
    "greet(\"Tim\")"
   ]
  },
  {
   "cell_type": "markdown",
   "metadata": {},
   "source": [
    "We can take an argument, do something with it and return the result."
   ]
  },
  {
   "cell_type": "code",
   "execution_count": null,
   "metadata": {},
   "outputs": [],
   "source": [
    "def fourthpower(a):\n",
    "    result = a ** 4\n",
    "    return result\n",
    "\n",
    "fp3 = fourthpower(3)\n",
    "print(fp3)"
   ]
  },
  {
   "cell_type": "markdown",
   "metadata": {},
   "source": [
    "We can have multiple arguments as well."
   ]
  },
  {
   "cell_type": "code",
   "execution_count": null,
   "metadata": {},
   "outputs": [],
   "source": [
    "def multiply(a, b):\n",
    "    return a*b"
   ]
  },
  {
   "cell_type": "code",
   "execution_count": null,
   "metadata": {},
   "outputs": [],
   "source": [
    "print(multiply(10, 10))\n",
    "print(multiply(9, 5))"
   ]
  },
  {
   "cell_type": "markdown",
   "metadata": {},
   "source": [
    "Functions operate on local variables by default. Despite the fact that the definition of `multiply` uses `a` and `b`, we can still use a and b without problems."
   ]
  },
  {
   "cell_type": "code",
   "execution_count": null,
   "metadata": {},
   "outputs": [],
   "source": [
    "a = 7\n",
    "b = 2\n",
    "\n",
    "print(f\"3 by 6 is {multiply(3, 6)}\")\n",
    "\n",
    "print(f\"a: {a}, b: {b}\")"
   ]
  },
  {
   "cell_type": "markdown",
   "metadata": {},
   "source": [
    "**Exercise:**\n",
    "\n",
    "Define a function called `pythagoras` that takes two numbers and returns the sum of their squares. Then calculate the result for 3 and 4.\n"
   ]
  },
  {
   "cell_type": "code",
   "execution_count": null,
   "metadata": {},
   "outputs": [],
   "source": [
    "# Your code here\n",
    "# FIXME\n",
    "def pythagoras(a, b):\n",
    "    return a**2 + b**2\n",
    "\n",
    "pythagoras(3, 4)\n"
   ]
  },
  {
   "cell_type": "markdown",
   "metadata": {},
   "source": [
    "**Expected output:**\n",
    "\n",
    "`25`"
   ]
  },
  {
   "cell_type": "markdown",
   "metadata": {},
   "source": [
    "# 7. Using packages\n",
    "\n",
    "One of the most powerful features of Python is the ease of use of external libraries (called \"packages\"). Instead of having to write all functions ourselves, we can use the libraries written (and constantly updated) by others.\n",
    "\n",
    "There are standard libraries that come with Python, like `math` for most mathematical operations or `os` for accessing files.\n",
    "\n",
    "There are thousands of Python packages online. The most commonly used packages for scientific applications are installed here."
   ]
  },
  {
   "cell_type": "markdown",
   "metadata": {},
   "source": [
    "Let's calculate the mean of a list of numbers."
   ]
  },
  {
   "cell_type": "code",
   "execution_count": null,
   "metadata": {},
   "outputs": [],
   "source": [
    "fib_list = [1, 1, 2, 3, 5, 8, 13, 21]\n",
    "\n",
    "sum(fib_list)/len(fib_list)"
   ]
  },
  {
   "cell_type": "markdown",
   "metadata": {},
   "source": [
    "We can also do this (and much more!) using numpy, a powerful numerical computing library."
   ]
  },
  {
   "cell_type": "markdown",
   "metadata": {},
   "source": [
    "First, we need to `import` a package to be able to use the functionality offered by it. "
   ]
  },
  {
   "cell_type": "code",
   "execution_count": null,
   "metadata": {},
   "outputs": [],
   "source": [
    "import numpy as np"
   ]
  },
  {
   "cell_type": "code",
   "execution_count": null,
   "metadata": {},
   "outputs": [],
   "source": [
    "np.mean(fib_list)"
   ]
  },
  {
   "cell_type": "markdown",
   "metadata": {},
   "source": [
    "Here we see the dot notation again. However, this is different from methods that we saw before. Now we are calling the `mean` function from numpy library. This is similar to finding a file in a directory."
   ]
  },
  {
   "cell_type": "markdown",
   "metadata": {},
   "source": [
    "Let's convert our list into a numpy array, which is the basic data type that numpy uses. `np.array` will return a value, so let's assign it to a new variable"
   ]
  },
  {
   "cell_type": "code",
   "execution_count": null,
   "metadata": {},
   "outputs": [],
   "source": [
    "fib_array = np.array(fib_list)"
   ]
  },
  {
   "cell_type": "markdown",
   "metadata": {},
   "source": [
    "We can now use methods of the numpy array data type."
   ]
  },
  {
   "cell_type": "code",
   "execution_count": null,
   "metadata": {},
   "outputs": [],
   "source": [
    "fib_array.mean()"
   ]
  },
  {
   "cell_type": "code",
   "execution_count": null,
   "metadata": {},
   "outputs": [],
   "source": [
    "print(fib_array.cumsum())"
   ]
  },
  {
   "cell_type": "code",
   "execution_count": null,
   "metadata": {},
   "outputs": [],
   "source": [
    "print(fib_array.cumprod())"
   ]
  },
  {
   "cell_type": "markdown",
   "metadata": {},
   "source": [
    "Note that numpy's mean is available both as a function (`np.mean()`) and as an array method (`array.mean()`). Unfortunately, not all functions are available as methods and vice versa. Try to stay consistent where possible."
   ]
  },
  {
   "cell_type": "markdown",
   "metadata": {},
   "source": [
    "Numpy has a lot of functionality. You can take a look by using `TAB` after typing `np.`. Usually you can find what you need by googling. The online documentation for numpy is quite extensive."
   ]
  },
  {
   "cell_type": "markdown",
   "metadata": {},
   "source": [
    "Let's create some random numbers."
   ]
  },
  {
   "cell_type": "code",
   "execution_count": null,
   "metadata": {},
   "outputs": [],
   "source": [
    "rng = np.random.default_rng()\n",
    "a = rng.integers(10, size=15)\n",
    "print(a)"
   ]
  },
  {
   "cell_type": "markdown",
   "metadata": {},
   "source": [
    "Notice that some arguments are in the format `size=None`, these named arguments are optional. You can supply your own values by including `size=15`. Alternatively you can enter them without the name, in which case you need to follow the order in the documentation."
   ]
  },
  {
   "cell_type": "code",
   "execution_count": null,
   "metadata": {},
   "outputs": [],
   "source": [
    "print(f\"Sum: {np.sum(a)}\")\n",
    "print(f\"Mean: {np.mean(a)}\")\n",
    "print(f\"Standard dev.: {np.std(a)}\")\n"
   ]
  },
  {
   "cell_type": "markdown",
   "metadata": {},
   "source": [
    "Similar to the `range` function, numpy has `arange` which produces consecutive numbers."
   ]
  },
  {
   "cell_type": "code",
   "execution_count": null,
   "metadata": {},
   "outputs": [],
   "source": [
    "a = np.arange(20)\n",
    "print(a)"
   ]
  },
  {
   "cell_type": "markdown",
   "metadata": {},
   "source": [
    "We can apply element-wise operations to numpy arrays."
   ]
  },
  {
   "cell_type": "code",
   "execution_count": null,
   "metadata": {},
   "outputs": [],
   "source": [
    "a**2"
   ]
  },
  {
   "cell_type": "markdown",
   "metadata": {},
   "source": [
    "Element-wise logical operations are also possible."
   ]
  },
  {
   "cell_type": "code",
   "execution_count": null,
   "metadata": {},
   "outputs": [],
   "source": [
    "a%6 == 0"
   ]
  },
  {
   "cell_type": "markdown",
   "metadata": {},
   "source": [
    "We can also index with logical arrays to filter the data."
   ]
  },
  {
   "cell_type": "code",
   "execution_count": null,
   "metadata": {},
   "outputs": [],
   "source": [
    "a[a%6 == 0]"
   ]
  },
  {
   "cell_type": "markdown",
   "metadata": {},
   "source": [
    "**Exercise:**\n",
    "\n",
    "Generate an array of 15 random integers between -10 and 10 (both including). Then print the sums of negative and positive numbers separately.\n",
    "\n",
    "_Hint:_ Use `Shift+Tab` or google to check the parameters of np.random.randint."
   ]
  },
  {
   "cell_type": "code",
   "execution_count": null,
   "metadata": {},
   "outputs": [],
   "source": [
    "# Your code here\n",
    "# FIXME\n",
    "a = rng.integers(-10, 11, 15)\n",
    "\n",
    "print(a)\n",
    "print(np.sum(a[a>0]))\n",
    "print(np.sum(a[a<0]))\n"
   ]
  },
  {
   "cell_type": "markdown",
   "metadata": {},
   "source": [
    "**Expected output:** - of course your random numbers will be different :)\n",
    "\n",
    "`[  5 -10   8   1  -5   0   3   5  -9  -5  -8   0   0  -1   3]`\n",
    "\n",
    "`25`\n",
    "\n",
    "`-38`"
   ]
  },
  {
   "cell_type": "markdown",
   "metadata": {},
   "source": [
    "Numpy arrays can also be multidimensional, like matrices."
   ]
  },
  {
   "cell_type": "code",
   "execution_count": null,
   "metadata": {},
   "outputs": [],
   "source": [
    "two_d = np.arange(20)\n",
    "two_d = np.reshape(two_d, (2, 10))\n",
    "print(two_d)"
   ]
  },
  {
   "cell_type": "markdown",
   "metadata": {},
   "source": [
    "You can get a better idea of what the array looks like by using the `shape` property."
   ]
  },
  {
   "cell_type": "code",
   "execution_count": null,
   "metadata": {},
   "outputs": [],
   "source": [
    "two_d.shape"
   ]
  },
  {
   "cell_type": "markdown",
   "metadata": {},
   "source": [
    "**Exercise:**\n",
    "\n",
    "Create 24 consecutive numbers and reshape them so that they have 3 rows. Then calculate the mean along the rows and columns separately, using the `axis` option."
   ]
  },
  {
   "cell_type": "code",
   "execution_count": null,
   "metadata": {},
   "outputs": [],
   "source": [
    "# Your code here\n",
    "# FIXME\n",
    "a = np.arange(24)\n",
    "a = np.reshape(a, (3, 8))\n",
    "print(np.mean(a, axis=0))\n",
    "print(np.mean(a, axis=1))\n"
   ]
  },
  {
   "cell_type": "markdown",
   "metadata": {},
   "source": [
    "**Expected output:**\n",
    "```\n",
    "[ 8.  9. 10. 11. 12. 13. 14. 15.]\n",
    "[ 3.5 11.5 19.5]\n",
    "```"
   ]
  },
  {
   "cell_type": "markdown",
   "metadata": {},
   "source": [
    "## Matplotlib"
   ]
  },
  {
   "cell_type": "markdown",
   "metadata": {},
   "source": [
    "Another useful package is `matplotlib` which allows you to visualize your data."
   ]
  },
  {
   "cell_type": "code",
   "execution_count": null,
   "metadata": {},
   "outputs": [],
   "source": [
    "import matplotlib.pyplot as plt\n",
    "\n",
    "x = np.arange(20)\n",
    "\n",
    "plt.plot(x, x**2)\n",
    "plt.show()"
   ]
  },
  {
   "cell_type": "markdown",
   "metadata": {},
   "source": [
    "We'll see more detailed uses of both matplotlib and numpy in the following tutorials."
   ]
  }
 ],
 "metadata": {
  "kernelspec": {
   "display_name": "Python 3 (ipykernel)",
   "language": "python",
   "name": "python3"
  },
  "language_info": {
   "codemirror_mode": {
    "name": "ipython",
    "version": 3
   },
   "file_extension": ".py",
   "mimetype": "text/x-python",
   "name": "python",
   "nbconvert_exporter": "python",
   "pygments_lexer": "ipython3",
   "version": "3.7.10"
  }
 },
 "nbformat": 4,
 "nbformat_minor": 4
}
