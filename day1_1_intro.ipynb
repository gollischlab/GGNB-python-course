{
 "cells": [
  {
   "cell_type": "markdown",
   "metadata": {},
   "source": [
    "# Introduction to Python\n",
    "\n",
    "We will look at the basic structure and commands of Python.\n",
    "\n",
    "0. How to use iPython Notebook\n",
    "1. Data types\n",
    "2. Loops, conditionals\n",
    "3. Functions\n",
    "4. Importing Packages\n"
   ]
  },
  {
   "cell_type": "markdown",
   "metadata": {},
   "source": [
    "# 0. How to use iPython Notebook"
   ]
  },
  {
   "cell_type": "markdown",
   "metadata": {},
   "source": [
    "To run this notebook, run `jupyter notebook` in the terminal or Anaconda Prompt. This will open your web browser. Navigate to the directory where you downloaded the course repository and open `day_1_1_into.ipynb`.\n",
    "\n",
    "You can run a cell by pressing `Ctrl + Enter`, you can run and move onto the next cell with `Shift + Enter`. Press `H` for a full list of shortcuts.\n",
    "\n",
    "To add a new cell to try code on your own, click the plus button on the toolbar and make sure Code is selected in the drop-down menu."
   ]
  },
  {
   "cell_type": "markdown",
   "metadata": {},
   "source": [
    "# 1. Data types"
   ]
  },
  {
   "cell_type": "markdown",
   "metadata": {},
   "source": [
    "Data type is a very important property of variables. Let's start by defining two variables`a` and `b`."
   ]
  },
  {
   "cell_type": "code",
   "execution_count": null,
   "metadata": {},
   "outputs": [],
   "source": [
    "a = 3\n",
    "b = '3'\n",
    "print(a)\n",
    "print(b)"
   ]
  },
  {
   "cell_type": "markdown",
   "metadata": {},
   "source": [
    "They look similar, but they are very different!"
   ]
  },
  {
   "cell_type": "code",
   "execution_count": null,
   "metadata": {},
   "outputs": [],
   "source": [
    "a + a"
   ]
  },
  {
   "cell_type": "code",
   "execution_count": null,
   "metadata": {},
   "outputs": [],
   "source": [
    "b + b"
   ]
  },
  {
   "cell_type": "code",
   "execution_count": null,
   "metadata": {},
   "outputs": [],
   "source": [
    "a + b"
   ]
  },
  {
   "cell_type": "code",
   "execution_count": null,
   "metadata": {},
   "outputs": [],
   "source": [
    "type(a)"
   ]
  },
  {
   "cell_type": "code",
   "execution_count": null,
   "metadata": {},
   "outputs": [],
   "source": [
    "type(b)"
   ]
  },
  {
   "cell_type": "code",
   "execution_count": null,
   "metadata": {},
   "outputs": [],
   "source": [
    "a/2"
   ]
  },
  {
   "cell_type": "code",
   "execution_count": null,
   "metadata": {},
   "outputs": [],
   "source": [
    "a = 2\n",
    "print(a+9) # <- this symbol denotes a comment, everything on this line after it will be ignored by Python"
   ]
  },
  {
   "cell_type": "code",
   "execution_count": null,
   "metadata": {},
   "outputs": [],
   "source": [
    "nrs = [1, 2, 3, 4, 5, 6] # This is a list\n",
    "print(nrs[1])\n",
    "print(nrs[4])\n",
    "print(nrs[-1])"
   ]
  },
  {
   "cell_type": "markdown",
   "metadata": {},
   "source": [
    "```\n",
    "       [1, 2, 3, 4, 5, 6]\n",
    "                         \n",
    "index:  0  1  2  3  4  5\n",
    "\n",
    "also:  -6 -5 -4 -3 -2 -1\n",
    "```"
   ]
  },
  {
   "cell_type": "markdown",
   "metadata": {},
   "source": [
    "Comma separated values in square brackets denotes a **list**, square brackets next to a variable name are **indexes**."
   ]
  },
  {
   "cell_type": "markdown",
   "metadata": {},
   "source": [
    "_Quick note on semicolons:_ Some programming languages require every line to have a `;` at the end, this is not the case for Python."
   ]
  },
  {
   "cell_type": "markdown",
   "metadata": {},
   "source": [
    "#### Indexing"
   ]
  },
  {
   "cell_type": "code",
   "execution_count": null,
   "metadata": {},
   "outputs": [],
   "source": [
    "print(nrs)\n",
    "print(nrs[2:])      # Starting from index 2, until the end\n",
    "print(nrs[:-2])     # until the second-to-last element\n",
    "print(nrs[4:-1])    # from fourth to last element\n",
    "print(nrs[::2])     # every second element\n",
    "print(nrs[::-1])    # inverse order"
   ]
  },
  {
   "cell_type": "markdown",
   "metadata": {},
   "source": [
    "```\n",
    "list[   start   :   end   :   increment]\n",
    "      inclusive   exclusive\n",
    "```"
   ]
  },
  {
   "cell_type": "markdown",
   "metadata": {},
   "source": [
    "_**Exercise**_\n",
    "\n",
    "Starting from the string `Santiago Ramón y Cajal`,\n",
    "\n",
    "Generate the following using indexing. You can index individual characters in a string just like elements in a list above."
   ]
  },
  {
   "cell_type": "markdown",
   "metadata": {},
   "source": [
    "`\n",
    "Santiago Ramón y Cajal\n",
    "Santiago Ramón y \n",
    "Ramón \n",
    "lajaC y nómaR ogaitnaS\n",
    "StgRóyal\n",
    "lCnRaa \n",
    "`\n"
   ]
  },
  {
   "cell_type": "code",
   "execution_count": null,
   "metadata": {},
   "outputs": [],
   "source": [
    "# Your answer here\n",
    "a = 'Santiago Ramón y Cajal'"
   ]
  },
  {
   "cell_type": "code",
   "execution_count": null,
   "metadata": {},
   "outputs": [],
   "source": [
    "# Solution\n",
    "# FIXME\n",
    "a = 'Santiago Ramón y Cajal'\n",
    "print(a)\n",
    "print(a[:-5])\n",
    "print(a[9:15])\n",
    "print(a[::-1])\n",
    "print(a[::3])\n",
    "print(a[::-4])"
   ]
  },
  {
   "cell_type": "markdown",
   "metadata": {},
   "source": [
    "### The most commonly encountered data types are"
   ]
  },
  {
   "cell_type": "markdown",
   "metadata": {},
   "source": [
    "\n",
    "- integers\n",
    "- floats\n",
    "- strings\n",
    "- lists\n",
    "- dictionaries\n",
    "- booleans"
   ]
  },
  {
   "cell_type": "code",
   "execution_count": null,
   "metadata": {},
   "outputs": [],
   "source": [
    "mybooks = ['lotr', 'hgtg', 'hp']\n",
    "print(mybooks)\n",
    "\n",
    "mybooks.append('intro to python')\n",
    "print(mybooks)"
   ]
  },
  {
   "cell_type": "markdown",
   "metadata": {},
   "source": [
    "##### Hint: pressing `TAB` while writing a command or variable's name will autocomplete it. Try len(mybo `TAB`"
   ]
  },
  {
   "cell_type": "code",
   "execution_count": null,
   "metadata": {},
   "outputs": [],
   "source": [
    "len(mybooks)"
   ]
  },
  {
   "cell_type": "markdown",
   "metadata": {},
   "source": [
    "_**Exercise**_\n",
    "\n",
    "Find a list method (like `append`) that will insert the missing element to the following list:"
   ]
  },
  {
   "cell_type": "code",
   "execution_count": null,
   "metadata": {},
   "outputs": [],
   "source": [
    "nrs = [0, 1, 3, 4, 6, 7]"
   ]
  },
  {
   "cell_type": "code",
   "execution_count": null,
   "metadata": {},
   "outputs": [],
   "source": [
    "nrs.insert(2, 2)\n",
    "print(nrs)"
   ]
  },
  {
   "cell_type": "markdown",
   "metadata": {},
   "source": [
    "We can directly access elements and modify them by using their indices."
   ]
  },
  {
   "cell_type": "code",
   "execution_count": null,
   "metadata": {},
   "outputs": [],
   "source": [
    "mybooks[0] = 'lord of the rings'\n",
    "print(mybooks)\n",
    "\n",
    "for book in mybooks:\n",
    "    print(book)\n",
    "    \n"
   ]
  },
  {
   "cell_type": "code",
   "execution_count": null,
   "metadata": {},
   "outputs": [],
   "source": [
    "'hp' in mybooks"
   ]
  },
  {
   "cell_type": "code",
   "execution_count": null,
   "metadata": {},
   "outputs": [],
   "source": [
    "mybooks.push('a')"
   ]
  },
  {
   "cell_type": "markdown",
   "metadata": {},
   "source": [
    "### Operators"
   ]
  },
  {
   "cell_type": "markdown",
   "metadata": {},
   "source": [
    "`+`, `-`, `*`, `/`\n",
    "\n",
    "`<`, `>`,`<=`, `>=`, `==`\n",
    "\n",
    "`**`, `%`\n",
    "\n",
    "`and`, `or`"
   ]
  },
  {
   "cell_type": "markdown",
   "metadata": {},
   "source": [
    "# Loops"
   ]
  },
  {
   "cell_type": "code",
   "execution_count": null,
   "metadata": {},
   "outputs": [],
   "source": [
    "for i in range(10):\n",
    "    print(i)"
   ]
  },
  {
   "cell_type": "code",
   "execution_count": null,
   "metadata": {},
   "outputs": [],
   "source": [
    "sum = 0\n",
    "for i in range(10):\n",
    "    sum += i**2\n",
    "    print(i**2, sum)\n"
   ]
  },
  {
   "cell_type": "markdown",
   "metadata": {},
   "source": [
    "You don't have to use indexes, you also can iterate over the lists directly."
   ]
  },
  {
   "cell_type": "code",
   "execution_count": null,
   "metadata": {},
   "outputs": [],
   "source": [
    "mylist = [1, 1, 2, 3, 5, 8, 13]\n",
    "\n",
    "for element in mylist:\n",
    "    print(element)"
   ]
  },
  {
   "cell_type": "markdown",
   "metadata": {},
   "source": [
    "## `while` loops"
   ]
  },
  {
   "cell_type": "markdown",
   "metadata": {},
   "source": [
    "A more general form of loops is the `while` loop. It continues _while_ the condition is satisfied."
   ]
  },
  {
   "cell_type": "code",
   "execution_count": null,
   "metadata": {},
   "outputs": [],
   "source": [
    "mynr = 0\n",
    "text = 'no'\n",
    "while text != 'yes':\n",
    "    text = input('Would you like me to stop asking this question? ')"
   ]
  },
  {
   "cell_type": "markdown",
   "metadata": {},
   "source": [
    "Use with caution! It's very easy to get stuck in an infinite loop if you are not careful. You can stop the loop by `Kernel>Interrupt` or by pressing `I` twice."
   ]
  },
  {
   "cell_type": "markdown",
   "metadata": {},
   "source": [
    "Actually, a for loop is just a fancy while loop!"
   ]
  },
  {
   "cell_type": "code",
   "execution_count": null,
   "metadata": {},
   "outputs": [],
   "source": [
    "start = 0\n",
    "end = 10\n",
    "index = start\n",
    "while index<end:\n",
    "    #do things\n",
    "    print(index)\n",
    "    index = index + 1\n",
    "    "
   ]
  },
  {
   "cell_type": "markdown",
   "metadata": {},
   "source": [
    "# Conditionals"
   ]
  },
  {
   "cell_type": "code",
   "execution_count": null,
   "metadata": {},
   "outputs": [],
   "source": [
    "age = 14\n",
    "\n",
    "if age < 16:\n",
    "    print('not allowed to drink in Germany')\n",
    "elif age < 18:\n",
    "    print('can drink beer and wine in Germany')\n",
    "elif age < 21:\n",
    "    print('party time (anywhere except US)')\n",
    "else:\n",
    "    print('')"
   ]
  },
  {
   "cell_type": "markdown",
   "metadata": {},
   "source": [
    "Booleans can be used directly."
   ]
  },
  {
   "cell_type": "code",
   "execution_count": null,
   "metadata": {},
   "outputs": [],
   "source": [
    "speaks_spanish = False\n",
    "\n",
    "if speaks_spanish:\n",
    "    print('¡Hola!')\n",
    "else:\n",
    "    print('Hello!')"
   ]
  },
  {
   "cell_type": "markdown",
   "metadata": {},
   "source": [
    "We can combine loops and conditionals to do more useful things."
   ]
  },
  {
   "cell_type": "code",
   "execution_count": null,
   "metadata": {},
   "outputs": [],
   "source": [
    "for i in range(20):\n",
    "    if i % 5 == 0:\n",
    "        print(i, ' is a multiple of five.')"
   ]
  },
  {
   "cell_type": "markdown",
   "metadata": {},
   "source": [
    "Note that 20 is not in the list because `range(20)` will generate numbers starting from `0` up to `19`."
   ]
  },
  {
   "cell_type": "markdown",
   "metadata": {},
   "source": [
    "_**Exercise**_\n",
    "\n",
    "Write a program that prints numbers until 45. If a number is a multiple of **3**, print `fizz` instead of the number and `buzz` for multiples of **5**. Print `fizzbuzz` for multiples of both.\n",
    "\n",
    "_If you're done before everyone else, try to do it without explicitly checking for `fizzbuzz`_"
   ]
  },
  {
   "cell_type": "code",
   "execution_count": null,
   "metadata": {},
   "outputs": [],
   "source": [
    "# Your code goes here:\n",
    "\n",
    "# FIXME\n",
    "for i in range(1, 46):\n",
    "    t = ''\n",
    "    if i % 3 == 0:\n",
    "        t = t+'fizz'\n",
    "    if i % 5 == 0:\n",
    "        t = t+'buzz'\n",
    "    if t=='':\n",
    "        t=i\n",
    "\n",
    "    print(t)"
   ]
  },
  {
   "cell_type": "markdown",
   "metadata": {},
   "source": [
    "Your output should start like this:\n",
    "\n",
    "`\n",
    "1\n",
    "2\n",
    "fizz\n",
    "4\n",
    "buzz\n",
    "fizz\n",
    "7\n",
    "8\n",
    "fizz\n",
    "buzz\n",
    "11\n",
    "fizz\n",
    "13\n",
    "14\n",
    "fizzbuzz\n",
    "`"
   ]
  },
  {
   "cell_type": "markdown",
   "metadata": {},
   "source": [
    "## Functions"
   ]
  },
  {
   "cell_type": "markdown",
   "metadata": {},
   "source": [
    "Functions are quite useful for organizing your code; instead of copying the same lines, you can define a function."
   ]
  },
  {
   "cell_type": "code",
   "execution_count": null,
   "metadata": {},
   "outputs": [],
   "source": [
    "def greet(name):\n",
    "    print('Hello', name, '!')\n"
   ]
  },
  {
   "cell_type": "code",
   "execution_count": null,
   "metadata": {},
   "outputs": [],
   "source": [
    "greet('Tim')"
   ]
  },
  {
   "cell_type": "code",
   "execution_count": null,
   "metadata": {},
   "outputs": [],
   "source": [
    "def multiply(a, b):\n",
    "    return a*b"
   ]
  },
  {
   "cell_type": "code",
   "execution_count": null,
   "metadata": {},
   "outputs": [],
   "source": [
    "print(multiply(10, 10))\n",
    "print(multiply(9, 5))"
   ]
  },
  {
   "cell_type": "markdown",
   "metadata": {},
   "source": [
    "Functions operate on local variables by default."
   ]
  },
  {
   "cell_type": "code",
   "execution_count": null,
   "metadata": {},
   "outputs": [],
   "source": [
    "a = 7\n",
    "b = 2\n",
    "\n",
    "multiply(3, 6)"
   ]
  },
  {
   "cell_type": "markdown",
   "metadata": {},
   "source": [
    "# Using packages\n",
    "\n",
    "One of the most powerful features of Python is the ease of use of external libraries (called \"packages\").\n",
    "\n",
    "There are thousands of Python packages online. The most commonly used packages for scientific applications are installed by Anaconda by default.\n",
    "\n",
    "To install a new package, `conda install <package name>` should work in general.\n",
    "\n",
    "We need to `import` a package to be able to use the functionality offered by them. Let's start with `numpy`, a powerful numerical computing library. It should be already on your computer if you used Anaconda to install Python."
   ]
  },
  {
   "cell_type": "code",
   "execution_count": null,
   "metadata": {},
   "outputs": [],
   "source": [
    "import numpy as np\n",
    "a = np.random.randint(10, size=10)\n",
    "print(a)\n"
   ]
  },
  {
   "cell_type": "code",
   "execution_count": null,
   "metadata": {},
   "outputs": [],
   "source": [
    "print('Sum: ', np.sum(a))\n",
    "print('Mean: ', np.mean(a))\n",
    "print('Standard dev.: ', np.std(a))"
   ]
  },
  {
   "cell_type": "code",
   "execution_count": null,
   "metadata": {},
   "outputs": [],
   "source": [
    "np.arange(10)**2"
   ]
  },
  {
   "cell_type": "code",
   "execution_count": null,
   "metadata": {},
   "outputs": [],
   "source": [
    "a = np.arange(20)\n",
    "a % 6"
   ]
  },
  {
   "cell_type": "code",
   "execution_count": null,
   "metadata": {},
   "outputs": [],
   "source": [
    "a % 6 == 0"
   ]
  },
  {
   "cell_type": "code",
   "execution_count": null,
   "metadata": {},
   "outputs": [],
   "source": [
    "a[a % 6 == 0]"
   ]
  },
  {
   "cell_type": "markdown",
   "metadata": {},
   "source": [
    "_**Exercise**_\n",
    "\n",
    "Generate an array of 15 random integers between -10 and 10 and print the sums of negative and positive numbers separately.\n",
    "\n",
    "_Hint_: Use `Shift+Tab` to check the parameters of np.random.randint."
   ]
  },
  {
   "cell_type": "code",
   "execution_count": null,
   "metadata": {},
   "outputs": [],
   "source": [
    "# Your code here\n",
    "a = np.random.randint(-10, 10, 15)\n",
    "\n",
    "print(a)\n",
    "print(np.sum(a[a>0]))\n",
    "print(np.sum(a[a<0]))\n"
   ]
  },
  {
   "cell_type": "markdown",
   "metadata": {},
   "source": [
    "**Expected output** (of course your random numbers will be different :))\n",
    "\n",
    "```[  5 -10   8   1  -5   0   3   5  -9  -5  -8   0   0  -1   3]\n",
    "25\n",
    "-38```"
   ]
  },
  {
   "cell_type": "markdown",
   "metadata": {},
   "source": [
    "Another useful package is `matplotlib` which allows you to visualize your data."
   ]
  },
  {
   "cell_type": "code",
   "execution_count": null,
   "metadata": {},
   "outputs": [],
   "source": [
    "import matplotlib.pyplot as plt\n",
    "\n",
    "%matplotlib inline\n",
    "plt.rcParams['figure.figsize'] = (15.0, 6.0) # set default size of plots\n",
    "\n",
    "x = np.arange(20)\n",
    "\n",
    "\n",
    "ax1 = plt.subplot(121)\n",
    "ax1.plot(x, x**2)\n",
    "ax2 = plt.subplot(122)\n",
    "ax2.plot(np.random.random(200))\n",
    "ax2.set_title('Random')\n",
    "\n",
    "plt.show()"
   ]
  }
 ],
 "metadata": {
  "kernelspec": {
   "display_name": "Python3.6",
   "language": "python",
   "name": "base"
  },
  "language_info": {
   "codemirror_mode": {
    "name": "ipython",
    "version": 3
   },
   "file_extension": ".py",
   "mimetype": "text/x-python",
   "name": "python",
   "nbconvert_exporter": "python",
   "pygments_lexer": "ipython3",
   "version": "3.6.7"
  }
 },
 "nbformat": 4,
 "nbformat_minor": 2
}
