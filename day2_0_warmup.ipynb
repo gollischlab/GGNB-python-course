{
 "cells": [
  {
   "cell_type": "markdown",
   "metadata": {},
   "source": [
    "# Warm up\n",
    "1. Open a new Jupyter notebook.\n",
    "2. Create a numpy array with the numbers from 0 to 99 (100 elements).\n",
    "3. Reshape the array to the dimensions 25 x 4.\n",
    "4. Print all multiples of five in the array.\n",
    "5. Print all values above 30 in the array.\n",
    "6. Print the combination of 4. and 5., i.e. satisfy both. You might need intermediate steps."
   ]
  },
  {
   "metadata": {},
   "cell_type": "markdown",
   "source": "# Solutions"
  }
 ],
 "metadata": {
  "kernelspec": {
   "display_name": "Python 3 (ipykernel)",
   "language": "python",
   "name": "python3"
  },
  "language_info": {
   "codemirror_mode": {
    "name": "ipython",
    "version": 3
   },
   "file_extension": ".py",
   "mimetype": "text/x-python",
   "name": "python",
   "nbconvert_exporter": "python",
   "pygments_lexer": "ipython3",
   "version": "3.8.12"
  }
 },
 "nbformat": 4,
 "nbformat_minor": 4
}
