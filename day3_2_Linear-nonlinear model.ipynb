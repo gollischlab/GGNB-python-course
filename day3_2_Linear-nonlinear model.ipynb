{
 "cells": [
  {
   "cell_type": "markdown",
   "id": "c96cb94b",
   "metadata": {},
   "source": [
    "# **Linear-Nonlinear (LN) Model**\n",
    "\n",
    "We have already looked into how to handle and analyze spike trains recorded under visual stimulation and also calculate the spike-triggered average. We will now turn to a very common modelling tool used in sensory system neuroscience, the linear-nonlinear model.\n",
    "\n",
    "**It consists of:**\n",
    " - Spike-triggered average (STA)\n",
    " - Nonlinearity function\n",
    "\n",
    "These two components summarise the computation done by a neuron when presented a stimuli. Our ultimate goal is to predict the responses of a neuron to a given stimuli and thus we can use our understanding of the computation done by the neuron for this. \n",
    "\n",
    "Here, you will learn to:\n",
    "\n",
    "- Filter the stimuli using the spike-trigerred average (STA)\n",
    "- Build the nonlinearity function\n",
    "- Predict responses of the neuron to a given stimuli\n",
    "\n",
    "Let's start by importing relevant packages."
   ]
  },
  {
   "cell_type": "code",
   "execution_count": 1,
   "id": "9c7c03d9",
   "metadata": {},
   "outputs": [],
   "source": [
    "%matplotlib inline\n",
    "%config InlineBackend.rc={'figure.figsize': (12, 6), 'font.size': 14 }\n",
    "from matplotlib import pyplot as plt\n",
    "import numpy as np\n",
    "from numpy import load\n",
    "from pathlib import Path\n",
    "import math"
   ]
  },
  {
   "cell_type": "markdown",
   "id": "eacae8f4",
   "metadata": {},
   "source": [
    "# **1. Loading the data**\n",
    "\n",
    "Let us load the pulses and the stimulus values again along with spike times from an example cell."
   ]
  },
  {
   "cell_type": "code",
   "execution_count": 2,
   "id": "17b9236a",
   "metadata": {},
   "outputs": [],
   "source": [
    "## Loading pulses \n",
    "filepath='data_LN_model/frametimes_fullfieldnoise.txt'\n",
    "pulses=np.loadtxt(filepath)"
   ]
  },
  {
   "cell_type": "code",
   "execution_count": 3,
   "id": "aaec0452",
   "metadata": {},
   "outputs": [],
   "source": [
    "## Loading stimulus values\n",
    "filepath='data_LN_model/stimulus_fullfieldnoise.txt'\n",
    "stimulus=np.loadtxt(filepath)"
   ]
  },
  {
   "cell_type": "code",
   "execution_count": 4,
   "id": "b914bc06",
   "metadata": {},
   "outputs": [],
   "source": [
    "## Loading spike times for one example cell\n",
    "filepath='data_LN_model/fullfieldnoise_C1.txt'\n",
    "spike_times=np.loadtxt(filepath)"
   ]
  },
  {
   "cell_type": "markdown",
   "id": "a9eb0fe5",
   "metadata": {},
   "source": [
    "As we learnt previously, we have to organise `pulses`,`stimulus` and `spike_times` into **training set** and **test set**. \n",
    "To save time, let us copy our functions and calculations from the previous notebbok and paste it here."
   ]
  },
  {
   "cell_type": "markdown",
   "id": "0f7e3c35",
   "metadata": {},
   "source": [
    "**Exercise:** Copy the relevant functions and code from the previous notebook (day3_1_STA) to organise `pulses`,`stimulus` and `spike_times` into training set and test set."
   ]
  },
  {
   "cell_type": "code",
   "execution_count": 5,
   "id": "89b6e838",
   "metadata": {},
   "outputs": [],
   "source": [
    "# 1. Reshaping pulses and stimulus into trials\n",
    "\n",
    "## START CODE HERE ##\n",
    "\n",
    "nframes_training=1800\n",
    "nframes_test=600\n",
    "\n",
    "# Making sure stimulus and pulses have same length\n",
    "stimulus=stimulus[:len(pulses)]\n",
    "\n",
    "# Calculating number of trials and reshaping pulses according to it.\n",
    "trialframes=nframes_training+nframes_test\n",
    "num_trials=math.floor(len(pulses)/trialframes)\n",
    "\n",
    "pulses=pulses[:num_trials*trialframes]\n",
    "pulses=np.reshape(pulses,(num_trials,trialframes))\n",
    "\n",
    "stimulus=stimulus[:num_trials*trialframes]\n",
    "stimulus=np.reshape(stimulus,(num_trials,trialframes))\n",
    "\n",
    "## END CODE HERE ##"
   ]
  },
  {
   "cell_type": "code",
   "execution_count": 6,
   "id": "fc8ad0a0",
   "metadata": {},
   "outputs": [],
   "source": [
    "# 2. Arranging pulses and stimulus into training and test set\n",
    "\n",
    "## START CODE HERE ##\n",
    "\n",
    "pulses_training=pulses[:,:nframes_training]\n",
    "pulses_test=pulses[:,nframes_training:]\n",
    "\n",
    "stimulus_training=stimulus[:,:nframes_training,]\n",
    "stimulus_test=stimulus[:,nframes_training:]\n",
    "\n",
    "## END CODE GERE ##"
   ]
  },
  {
   "cell_type": "code",
   "execution_count": 7,
   "id": "f077cd09",
   "metadata": {},
   "outputs": [],
   "source": [
    "# 3. Arranging spike times into training and test set\n",
    "\n",
    "## START YOUR CODE HERE ##\n",
    "\n",
    "def get_spikes_training(spikes, training_pulses):\n",
    "    \n",
    "    numtrials=np.shape(training_pulses)[0]\n",
    "    spikes_training=[]\n",
    "    for k in range(numtrials):\n",
    "        tr=spikes[\n",
    "            (spikes > training_pulses[k, 0]) & \n",
    "            (spikes < training_pulses[k, -1])\n",
    "        ]\n",
    "        spikes_training.append(tr)\n",
    "\n",
    "    return spikes_training\n",
    "\n",
    "\n",
    "def get_spikes_test(spikes,test_pulses):\n",
    "\n",
    "    numtrials=np.shape(test_pulses)[0]\n",
    "    spikes_test=[]\n",
    "    for k in range(numtrials):\n",
    "        tr=spikes[\n",
    "            (spikes > test_pulses[k, 0]) & \n",
    "            (spikes < test_pulses[k, -1])\n",
    "        ]\n",
    "        spikes_test.append(tr)\n",
    "\n",
    "    return spikes_test\n",
    "\n",
    "## END YOUR CODE HERE ##\n",
    "\n",
    "spikes_training=get_spikes_training(spike_times, pulses_training)\n",
    "spikes_test=get_spikes_test(spike_times, pulses_test)"
   ]
  },
  {
   "cell_type": "markdown",
   "id": "f26db90f",
   "metadata": {},
   "source": [
    "# **2. Filtering of stimulus using spike-triggered average**\n",
    "\n",
    "In order to save you some time (and assuming you successfully managed to calculate the STA in the previous task 😊), we have provided STAs for all cells as text files in the data folder.\n",
    "\n",
    "Let us now load the STA of the example cell."
   ]
  },
  {
   "cell_type": "code",
   "execution_count": 9,
   "id": "8203ca92",
   "metadata": {},
   "outputs": [],
   "source": [
    "## Loading STA of the example cell\n",
    "filepath='data_LN_model/STA_C1.txt'\n",
    "STA=np.loadtxt(filepath)"
   ]
  },
  {
   "cell_type": "code",
   "execution_count": 10,
   "id": "f578b3bb",
   "metadata": {},
   "outputs": [
    {
     "data": {
      "text/plain": [
       "[<matplotlib.lines.Line2D at 0x28b73a9ce50>]"
      ]
     },
     "execution_count": 10,
     "metadata": {},
     "output_type": "execute_result"
    },
    {
     "data": {
      "image/png": "[encoded data removed]",
      "text/plain": [
       "<Figure size 432x288 with 1 Axes>"
      ]
     },
     "metadata": {
      "needs_background": "light"
     },
     "output_type": "display_data"
    }
   ],
   "source": [
    "plt.plot(STA)"
   ]
  }
 ],
 "metadata": {
  "kernelspec": {
   "display_name": "Python 3 (ipykernel)",
   "language": "python",
   "name": "python3"
  },
  "language_info": {
   "codemirror_mode": {
    "name": "ipython",
    "version": 3
   },
   "file_extension": ".py",
   "mimetype": "text/x-python",
   "name": "python",
   "nbconvert_exporter": "python",
   "pygments_lexer": "ipython3",
   "version": "3.9.7"
  }
 },
 "nbformat": 4,
 "nbformat_minor": 5
}
