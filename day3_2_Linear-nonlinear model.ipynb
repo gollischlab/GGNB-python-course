{
 "cells": [
  {
   "cell_type": "markdown",
   "id": "c96cb94b",
   "metadata": {},
   "source": [
    "# **Linear-Nonlinear (LN) Model**\n",
    "\n",
    "We have already looked into how to handle and analyze spike trains recorded under visual stimulation. We will now turn to a very common modelling tool used in sensory system neuroscience, the linear-nonlinear model.\n",
    "\n",
    "**It consists of:**\n",
    " - Spike-triggered average (STA)\n",
    " - Nonlinearity function\n",
    "\n",
    "Our ultimate goal is to predict the responses of a neuron to a given stimuli. \n",
    "\n",
    "Let's start by importing relevant packages.\n"
   ]
  },
  {
   "cell_type": "code",
   "execution_count": null,
   "id": "9c7c03d9",
   "metadata": {},
   "outputs": [],
   "source": [
    "%matplotlib inline\n",
    "%config InlineBackend.rc={'figure.figsize': (12, 6), 'font.size': 14 }\n",
    "from matplotlib import pyplot as plt\n",
    "import numpy as np\n",
    "from numpy import load\n",
    "from pathlib import Path"
   ]
  },
  {
   "cell_type": "markdown",
   "id": "eacae8f4",
   "metadata": {},
   "source": [
    "# **1. Loading the data**\n",
    "\n",
    "Let us once again load the relevant spike times, pulses and stimulus times."
   ]
  },
  {
   "cell_type": "code",
   "execution_count": null,
   "id": "17b9236a",
   "metadata": {},
   "outputs": [],
   "source": [
    "## Loading pulses from training set\n",
    "filepath=\n",
    "training_pulses=np.load(filepath)"
   ]
  },
  {
   "cell_type": "code",
   "execution_count": null,
   "id": "b6c82e42",
   "metadata": {},
   "outputs": [],
   "source": [
    "## Loading pulses from the test set (which we will use soon)\n",
    "filepath=\n",
    "test_pulses=np.load(filepath)"
   ]
  },
  {
   "cell_type": "code",
   "execution_count": null,
   "id": "aaec0452",
   "metadata": {},
   "outputs": [],
   "source": [
    "## Loading stimulus values from training set\n",
    "filepath=\n",
    "training_stimulus=np.load(filepath)"
   ]
  },
  {
   "cell_type": "code",
   "execution_count": null,
   "id": "0dce95d2",
   "metadata": {},
   "outputs": [],
   "source": [
    "## Loading stimulus values from test set (which we will use soon)\n",
    "filepath=\n",
    "test_stimulus=np.load(filepath)"
   ]
  },
  {
   "cell_type": "code",
   "execution_count": null,
   "id": "b914bc06",
   "metadata": {},
   "outputs": [],
   "source": [
    "## Loading spike times for one example cell\n",
    "filepath=\n",
    "spike_times=np.load(filepath)"
   ]
  },
  {
   "cell_type": "markdown",
   "id": "f26db90f",
   "metadata": {},
   "source": [
    "# **2. Spike-triggered average (STA)**\n",
    "\n",
    "Since we already learnt how to compute an STA, let us repeat the step using the function `compute_STA`.\n",
    "\n",
    "If you have your own function from the previous exercise of computing the STA, you can also copy it here and use it."
   ]
  },
  {
   "cell_type": "code",
   "execution_count": null,
   "id": "e23decf0",
   "metadata": {},
   "outputs": [],
   "source": [
    "## You can use your own STA function here. ##\n",
    "##START CODE HERE##\n",
    "\n",
    "\n",
    "\n",
    "##END CODE HERE ##\n",
    "\n",
    "## OR USE THE BELOW FUNCTION ##"
   ]
  },
  {
   "cell_type": "code",
   "execution_count": null,
   "id": "e94add30",
   "metadata": {},
   "outputs": [],
   "source": [
    "def compute_STA()\n",
    "return"
   ]
  }
 ],
 "metadata": {
  "kernelspec": {
   "display_name": "Python 3 (ipykernel)",
   "language": "python",
   "name": "python3"
  },
  "language_info": {
   "codemirror_mode": {
    "name": "ipython",
    "version": 3
   },
   "file_extension": ".py",
   "mimetype": "text/x-python",
   "name": "python",
   "nbconvert_exporter": "python",
   "pygments_lexer": "ipython3",
   "version": "3.9.7"
  }
 },
 "nbformat": 4,
 "nbformat_minor": 5
}
