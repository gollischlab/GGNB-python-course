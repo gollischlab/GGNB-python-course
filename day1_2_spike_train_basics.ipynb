{
 "cells": [
  {
   "cell_type": "markdown",
   "metadata": {},
   "source": [
    "# Basics of spike train analysis\n",
    "\n",
    "We will get you started on analysing spike trains.\n",
    "\n",
    "1\\. Loading and plotting spike trains\n",
    "\n",
    "2\\. Calculating firing rates\n",
    "\n",
    "3\\. Interspike interval"
   ]
  },
  {
   "cell_type": "markdown",
   "metadata": {},
   "source": [
    "Let's first import the packages we are going to use, and set up some plotting parameters."
   ]
  },
  {
   "cell_type": "code",
   "execution_count": null,
   "metadata": {},
   "outputs": [],
   "source": [
    "%matplotlib inline\n",
    "%config InlineBackend.rc={'figure.figsize': (12, 6), 'font.size': 14 }\n",
    "import matplotlib.pyplot as plt\n",
    "import numpy as np"
   ]
  },
  {
   "cell_type": "markdown",
   "metadata": {},
   "source": [
    "## 1. Loading and plotting spike trains"
   ]
  },
  {
   "cell_type": "markdown",
   "metadata": {},
   "source": [
    "Action potentials are very short. We can discard their duration and assign each action potential a time of occurence: the spike time.\n",
    "\n",
    "The set of spike times of a single neuron is called a spike train."
   ]
  },
  {
   "cell_type": "markdown",
   "metadata": {},
   "source": [
    "We will begin by loading the spike train of an example neuron. We will then try to visualize it."
   ]
  },
  {
   "cell_type": "markdown",
   "metadata": {},
   "source": [
    "### Loading and plotting a single spike train"
   ]
  },
  {
   "cell_type": "markdown",
   "metadata": {},
   "source": [
    "Let's first take a look at the data file. Open `data_spike_trains` and then `example_spikes.txt` via the left panel."
   ]
  },
  {
   "cell_type": "markdown",
   "metadata": {},
   "source": [
    "Numpy offers a very easy way to load such a file into the memory."
   ]
  },
  {
   "cell_type": "code",
   "execution_count": null,
   "metadata": {},
   "outputs": [],
   "source": [
    "example_spike_times = np.loadtxt(\"data_spike_trains/example_spikes.txt\")\n",
    "print(example_spike_times)"
   ]
  },
  {
   "cell_type": "markdown",
   "metadata": {},
   "source": [
    "Note, how the comment at the start of the file was ignored."
   ]
  },
  {
   "cell_type": "markdown",
   "metadata": {},
   "source": [
    "**Exercise:**\n",
    "\n",
    "Print the shape of `example_spike_times`. What does the result mean? Print the time of the 10th spike in milliseconds."
   ]
  },
  {
   "cell_type": "code",
   "execution_count": null,
   "metadata": {},
   "outputs": [],
   "source": [
    "# Start your code here\n",
    "# FIXME\n",
    "print(example_spike_times.shape)\n",
    "print(example_spike_times[9] * 1000)"
   ]
  },
  {
   "cell_type": "markdown",
   "metadata": {},
   "source": [
    "**Expected output:**\n",
    "```\n",
    "(5391,)\n",
    "1634.5\n",
    "```"
   ]
  },
  {
   "cell_type": "markdown",
   "metadata": {},
   "source": [
    "Let's start visualizing our data with matplotlib. For creating raster plots, matplotlib offers the function `eventplot`."
   ]
  },
  {
   "cell_type": "code",
   "execution_count": null,
   "metadata": {},
   "outputs": [],
   "source": [
    "plt.eventplot(example_spike_times);"
   ]
  },
  {
   "cell_type": "markdown",
   "metadata": {},
   "source": [
    "The semicolon only suppresses the output of the cell. It's not required."
   ]
  },
  {
   "cell_type": "markdown",
   "metadata": {},
   "source": [
    "There's too many lines in a small space. We can focus the view to a specific part using `xlim`."
   ]
  },
  {
   "cell_type": "code",
   "execution_count": null,
   "metadata": {},
   "outputs": [],
   "source": [
    "plt.eventplot(example_spike_times)\n",
    "plt.xlim((0, 10));"
   ]
  },
  {
   "cell_type": "markdown",
   "metadata": {},
   "source": [
    "We can use more Matplotlib functions to make our plot prettier and more informative."
   ]
  },
  {
   "cell_type": "code",
   "execution_count": null,
   "metadata": {},
   "outputs": [],
   "source": [
    "plt.eventplot(example_spike_times, colors=\"black\", linewidths=0.5)\n",
    "plt.xlim((0, 10))\n",
    "plt.xlabel(\"Time [s]\")\n",
    "plt.title(\"Raster plot\");"
   ]
  },
  {
   "cell_type": "markdown",
   "metadata": {},
   "source": [
    "### Intermezzo: Lists and arrays"
   ]
  },
  {
   "cell_type": "markdown",
   "metadata": {},
   "source": [
    "If we want to work with multiple neurons, we need data structures that can hold all that data, e.g. all spike trains. We could create one variable for each spike train, but that will get very tedious if we have many neurons. Instead, we want one variable for all spike trains."
   ]
  },
  {
   "cell_type": "markdown",
   "metadata": {},
   "source": [
    "Let's first remind ourselves of the pros and cons of lists and arrays:"
   ]
  },
  {
   "cell_type": "markdown",
   "metadata": {},
   "source": [
    "|Lists|Arrays|\n",
    "|--|--|\n",
    "|can contain multiple datatypes|can only contain one datatype|\n",
    "|indexing by slicing|indexing by slicing and boolean arrays|\n",
    "|only few methods/functions|fast and powerful computations using numpy|\n",
    "| |numpy functions work on/return arrays anyway|\n",
    "|only 1-dimensional|multiple dimensions possible|"
   ]
  },
  {
   "cell_type": "markdown",
   "metadata": {},
   "source": [
    "2-dimensional arrays are a great choice for e.g. parameters (mean firing rate etc.)! The first dimension (rows) can denote the cell, the second dimension (columns) can denote its parameter.\n",
    "\n",
    "To optimize memory allocation we often want to initialize an empty array before we begin our analysis. Let's say we have 20 cells and we want to calculate 3 different parameters for each cell."
   ]
  },
  {
   "cell_type": "code",
   "execution_count": null,
   "metadata": {},
   "outputs": [],
   "source": [
    "parameter_storage = np.empty((20, 3))"
   ]
  },
  {
   "cell_type": "markdown",
   "metadata": {},
   "source": [
    "During our analysis, we can store the results in this 2D array."
   ]
  },
  {
   "cell_type": "markdown",
   "metadata": {},
   "source": [
    "For spike trains, however, 2D arrays are not suited. This is because 2D arrays must be rectangular, i.e. each row has the same number of columns. Not all cells have the same number of spikes in their spike train, though.\n",
    "\n",
    "Instead, we could use arrays of arrays, lists of lists, or lists of arrays. All are fine, but we recommend lists of arrays.\n",
    "\n",
    "This means: All spike train data is stored in a list. The elements of the list are numpy arrays, one for each cell. Each array contains the spike train of that cell. "
   ]
  },
  {
   "cell_type": "markdown",
   "metadata": {},
   "source": [
    "### Loading and plotting multiple spike trains"
   ]
  },
  {
   "cell_type": "markdown",
   "metadata": {},
   "source": [
    "If we want to compare neurons, we need to load multiple spike trains. We can do this by calling `loadtxt` for each file separately, and then putting everything in a list."
   ]
  },
  {
   "cell_type": "code",
   "execution_count": null,
   "metadata": {},
   "outputs": [],
   "source": [
    "spikes_1 = np.loadtxt(\"data_spike_trains/18_SP_C101.txt\")\n",
    "spikes_2 = np.loadtxt(\"data_spike_trains/18_SP_C203.txt\")\n",
    "spikes_3 = np.loadtxt(\"data_spike_trains/18_SP_C603.txt\")\n",
    "\n",
    "spikes_list = [spikes_1, spikes_2, spikes_3]\n",
    "print(spikes_list)"
   ]
  },
  {
   "cell_type": "markdown",
   "metadata": {},
   "source": [
    "This will get very tedious if we want to load dozens of spike trains. Repeating code often is inefficient coding.\n",
    "\n",
    "But we know a better solution: for-loops!"
   ]
  },
  {
   "cell_type": "code",
   "execution_count": null,
   "metadata": {},
   "outputs": [],
   "source": [
    "path_list = [\"data_spike_trains/18_SP_C101.txt\", \"data_spike_trains/18_SP_C203.txt\", \"data_spike_trains/18_SP_C603.txt\"]\n",
    "\n",
    "spikes_list = []\n",
    "for i in range(len(path_list)):\n",
    "    spikes_list = spikes_list + [np.loadtxt(path_list[i])]\n",
    "\n",
    "print(spikes_list)"
   ]
  },
  {
   "cell_type": "markdown",
   "metadata": {},
   "source": [
    "**Exercise:**\n",
    "\n",
    "Write a function called `load_spike_trains_to_list`. As an argument, this function should take a list of filepaths called `list_of_paths`. It should return a list containing each neuron's spike times called `list_of_spikes`.\n",
    "\n",
    "_Followup exercise:_ You can also loop over a list directly, by doing `for element in list:`. Use that to make your code even nicer.\n",
    "\n",
    "_Followup exercise 2:_ Can you do the same with a list comprehension?"
   ]
  },
  {
   "cell_type": "code",
   "execution_count": null,
   "metadata": {},
   "outputs": [],
   "source": [
    "# Start your code here\n",
    "# FIXME\n",
    "def load_spike_trains_to_list(list_of_paths):\n",
    "    \n",
    "    list_of_spikes = []\n",
    "    for i in range(len(list_of_paths)):\n",
    "        list_of_spikes = list_of_spikes + [np.loadtxt(list_of_paths[i])]\n",
    "    \n",
    "    return list_of_spikes\n",
    "\n",
    "\n",
    "def load_spike_trains_to_list(list_of_paths):\n",
    "    \n",
    "    list_of_spikes = []\n",
    "    for path in list_of_paths:\n",
    "        list_of_spikes = list_of_spikes + [np.loadtxt(path)]\n",
    "    \n",
    "    return list_of_spikes\n",
    "\n",
    "\n",
    "def load_spike_trains_to_list(list_of_paths):\n",
    "    \n",
    "    list_of_spikes = [np.loadtxt(path) for path in list_of_paths]\n",
    "    \n",
    "    return list_of_spikes\n",
    "\n",
    "\n",
    "# End your code here\n",
    "# The next line is to test your function\n",
    "print(load_spike_trains_to_list(path_list)[1])"
   ]
  },
  {
   "cell_type": "markdown",
   "metadata": {},
   "source": [
    "**Expected output:**\n",
    "```\n",
    "[  0.5766   2.8239   4.5523 ... 481.387  482.4371 482.4677]\n",
    "```"
   ]
  },
  {
   "cell_type": "markdown",
   "metadata": {},
   "source": [
    "How does one get a list of all the paths efficiently?"
   ]
  },
  {
   "cell_type": "markdown",
   "metadata": {},
   "source": [
    "We can get the paths of all files we need using `Path` from the package `pathlib`."
   ]
  },
  {
   "cell_type": "code",
   "execution_count": null,
   "metadata": {},
   "outputs": [],
   "source": [
    "from pathlib import Path\n",
    "all_paths = sorted(Path(\"data_spike_trains\").glob(\"18_SP_C*\"))\n",
    "print(all_paths)"
   ]
  },
  {
   "cell_type": "markdown",
   "metadata": {},
   "source": [
    "Posix is the filesystem standard for non-windows operating systems. On windows, you'd get a list of `WindowsPath`. Luckily, `loadtxt` also works with `PosixPath` and `WindowsPath`."
   ]
  },
  {
   "cell_type": "code",
   "execution_count": null,
   "metadata": {},
   "outputs": [],
   "source": [
    "all_spike_trains = load_spike_trains_to_list(all_paths)"
   ]
  },
  {
   "cell_type": "markdown",
   "metadata": {},
   "source": [
    "Now we have all our spike trains loaded in memory, in the list `all_spike_trains`. We can now use `eventplot` to plot all the spike trains in a raster plot."
   ]
  },
  {
   "cell_type": "code",
   "execution_count": null,
   "metadata": {},
   "outputs": [],
   "source": [
    "plt.eventplot(all_spike_trains, colors=\"black\", linelengths=0.8, linewidths=0.5)\n",
    "\n",
    "plt.xlim((0,32))\n",
    "plt.title(\"Raster plot\")\n",
    "plt.xlabel(\"Time (s)\")\n",
    "plt.ylabel(\"Neuron ID\");"
   ]
  },
  {
   "cell_type": "markdown",
   "metadata": {},
   "source": [
    "**Exercise:**\n",
    "\n",
    "Let's focus on some neurons that have similar spike trains. Specifically, plot the first 32 seconds of the spike trains of the 1st, 12th, 13th, 14th, and 19th neurons in `all_spike_trains`, but not the rest."
   ]
  },
  {
   "cell_type": "code",
   "execution_count": null,
   "metadata": {},
   "outputs": [],
   "source": [
    "# Start your code here\n",
    "# FIXME\n",
    "ids = [0, 11, 12, 13, 18]\n",
    "some_spike_trains = [all_spike_trains[i] for i in ids]\n",
    "\n",
    "plt.eventplot(some_spike_trains, colors=\"black\", linelengths=0.8, linewidth=0.5);\n",
    "\n",
    "plt.xlim((0,32))\n",
    "plt.title(\"Raster plot\")\n",
    "plt.xlabel(\"Time (s)\")\n",
    "plt.ylabel(\"Neuron ID\");"
   ]
  },
  {
   "cell_type": "markdown",
   "metadata": {},
   "source": [
    "## 2 - Calculating firing rates"
   ]
  },
  {
   "cell_type": "markdown",
   "metadata": {},
   "source": [
    "The generation of spikes is inherently noisy. Therefore, it is often more informative to look at the spike rate, i.e. an average over time."
   ]
  },
  {
   "cell_type": "markdown",
   "metadata": {},
   "source": [
    "In this chapter, we will focus on the first 8 seconds of recording of the five neurons in the plot above. Let's first extract that data."
   ]
  },
  {
   "cell_type": "code",
   "execution_count": null,
   "metadata": {},
   "outputs": [],
   "source": [
    "ids = [0, 11, 12, 13, 18]\n",
    "short_spike_trains = []\n",
    "for i in ids:\n",
    "    current_spike_train = all_spike_trains[i]\n",
    "    current_spike_train = current_spike_train[current_spike_train < 8]\n",
    "    short_spike_trains = short_spike_trains + [current_spike_train]"
   ]
  },
  {
   "cell_type": "markdown",
   "metadata": {},
   "source": [
    "Numpy provides the function `histogram` to calculate histograms. We'll start by analyzing the first of the five neurons."
   ]
  },
  {
   "cell_type": "code",
   "execution_count": null,
   "metadata": {},
   "outputs": [],
   "source": [
    "spikes_per_bin, bin_edges = np.histogram(short_spike_trains[0], bins=50, range=(0, 8))"
   ]
  },
  {
   "cell_type": "markdown",
   "metadata": {},
   "source": [
    "You can specificy the number of bins the histogram should have via the parameter `bins` and the extent of the histogram with `range`. The function will return the number of occurences (spikes) in each bin and the edges of the bins."
   ]
  },
  {
   "cell_type": "markdown",
   "metadata": {},
   "source": [
    "We would rather like to know the centers of the bins, but they are easy to calculate. Note that there is one more bin edge than bins."
   ]
  },
  {
   "cell_type": "code",
   "execution_count": null,
   "metadata": {},
   "outputs": [],
   "source": [
    "bin_size = bin_edges[1] - bin_edges[0]\n",
    "bin_centers = bin_edges[:-1] + bin_size/2"
   ]
  },
  {
   "cell_type": "markdown",
   "metadata": {},
   "source": [
    "Now we can plot the histogram as a curve."
   ]
  },
  {
   "cell_type": "code",
   "execution_count": null,
   "metadata": {},
   "outputs": [],
   "source": [
    "plt.plot(bin_centers, spikes_per_bin, lw=5)\n",
    "\n",
    "plt.title(\"Spike count histogram\")\n",
    "plt.xlabel(\"Time [s]\")\n",
    "plt.ylabel(\"Number of spikes\");"
   ]
  },
  {
   "cell_type": "markdown",
   "metadata": {},
   "source": [
    "The number of spikes on the y-axis depends, of course, on the size of the bins (try it by changing the parameter `bins` in `np.histogram`). The spike rate / firing rate would be more convenient."
   ]
  },
  {
   "cell_type": "code",
   "execution_count": null,
   "metadata": {},
   "outputs": [],
   "source": [
    "firing_rate = spikes_per_bin / bin_size\n",
    "\n",
    "plt.plot(bin_centers, firing_rate, lw=5)\n",
    "\n",
    "plt.title(\"Firing rate histogram\")\n",
    "plt.xlabel(\"Time [s]\")\n",
    "plt.ylabel(\"Firing rate [Hz]\");"
   ]
  },
  {
   "cell_type": "markdown",
   "metadata": {},
   "source": [
    "Compared to the eventplot, we can now see the dynamics of the spike train much better."
   ]
  },
  {
   "cell_type": "markdown",
   "metadata": {},
   "source": [
    "In the next three exercises, your goal will be to create a plot that shows the firing rates of all five neurons, so that we can compare them better."
   ]
  },
  {
   "cell_type": "markdown",
   "metadata": {},
   "source": [
    "**Exercise:**\n",
    "\n",
    "Write a function called `firing_rate_histogram` that calculates the firing rate histogram from a spike train. As an argument, this function should take a spike train called `spike_train`. It should return two variables: First, the firing rate in each bin of the histogram, called `hist_firing_rate`. Second, the centers of the corresponding bins, called `hist_bin_centers`. The histogram should have 50 bins in the range from 0 to 8.\n",
    "\n",
    "_Hint:_ You can return multiple results from a function by writing `return result_1, result_2`."
   ]
  },
  {
   "cell_type": "code",
   "execution_count": null,
   "metadata": {},
   "outputs": [],
   "source": [
    "# Start your code here\n",
    "# FIXME\n",
    "def firing_rate_histogram(spike_train):\n",
    "    spikes_per_bin, bin_edges = np.histogram(spike_train, bins=50, range=(0, 8))\n",
    "    bin_size = bin_edges[1] - bin_edges[0]\n",
    "    hist_bin_centers = bin_edges[:-1] + bin_size/2\n",
    "    hist_firing_rate = spikes_per_bin / bin_size\n",
    "    return hist_firing_rate, hist_bin_centers\n",
    "\n",
    "# End your code here\n",
    "# The next lines are to test your function\n",
    "hist, bins = firing_rate_histogram(short_spike_trains[1])\n",
    "print(hist[30], bins[30])"
   ]
  },
  {
   "cell_type": "markdown",
   "metadata": {},
   "source": [
    "**Expected output:**\n",
    "\n",
    "```93.75 4.88```"
   ]
  },
  {
   "cell_type": "markdown",
   "metadata": {},
   "source": [
    "**Exercise:**\n",
    "\n",
    "Write another function called `multi_frate_histograms` that calculates a histogram for each of multiple spike trains. As an argument, this function should take a list of spike trains called `list_of_spike_trains`. It should return two variables: First, a list called `multi_hist_firing_rate` that contains for each given spike train the corresponding firing rates in a histogram. Second, the bin centers of these histograms, called `hist_bin_centers`.\n",
    "\n",
    "_Hint:_ Make use of a for-loop and the function you wrote above. Remember that the bin centers of all the histograms are the same, so you don't have to create a list for them. A single 1D array will suffice."
   ]
  },
  {
   "cell_type": "code",
   "execution_count": null,
   "metadata": {},
   "outputs": [],
   "source": [
    "# Start your code here\n",
    "# FIXME\n",
    "def multi_frate_histograms(list_of_spike_trains):\n",
    "    multi_hist_firing_rate = []\n",
    "    for spike_train in list_of_spike_trains:\n",
    "        hist_firing_rate, hist_bin_centers = firing_rate_histogram(spike_train)\n",
    "        multi_hist_firing_rate = multi_hist_firing_rate + [hist_firing_rate]\n",
    "    return multi_hist_firing_rate, hist_bin_centers\n",
    "\n",
    "# End your code here\n",
    "# The next lines are to test your function\n",
    "hist, bins = multi_frate_histograms(short_spike_trains)\n",
    "print(hist[2][30], bins[30])"
   ]
  },
  {
   "cell_type": "markdown",
   "metadata": {},
   "source": [
    "**Expected output:**\n",
    "\n",
    "```56.25 4.88```"
   ]
  },
  {
   "cell_type": "markdown",
   "metadata": {},
   "source": [
    "**Exercise:**\n",
    "\n",
    "Finally, create one plot that shows the histograms of the five neurons from the end of the last chapter (use `short_spike_trains`).\n",
    "\n",
    "_Hint:_ Use your function from above. You can plot multiple graphs in one plot by simple calling `plt.plot` multiple times."
   ]
  },
  {
   "cell_type": "code",
   "execution_count": null,
   "metadata": {},
   "outputs": [],
   "source": [
    "# Start your code here\n",
    "# FIXME\n",
    "frate_histogram_list, bin_centers = multi_frate_histograms(short_spike_trains)\n",
    "\n",
    "for histogram in frate_histogram_list:\n",
    "    plt.plot(bin_centers, histogram, lw=5);\n",
    "\n",
    "plt.title(\"Firing rate histogram\")\n",
    "plt.xlabel(\"Time [s]\")\n",
    "plt.ylabel(\"Firing rate [Hz]\");"
   ]
  },
  {
   "cell_type": "markdown",
   "metadata": {},
   "source": [
    "## 3 - Interspike interval"
   ]
  },
  {
   "cell_type": "markdown",
   "metadata": {},
   "source": [
    "Spike generation does not only depend on the stimulus, there are also internal statistics."
   ]
  },
  {
   "cell_type": "markdown",
   "metadata": {},
   "source": [
    "The interspike interval (ISI) is defined as the time between two consecutive spikes. The ISI histogram is a histogram of all these intervals of a spike train."
   ]
  },
  {
   "cell_type": "markdown",
   "metadata": {},
   "source": [
    "**Exercise:**\n",
    "\n",
    "Calculate the ISI histogram for the spike train `example_spike_times` that we loaded in the beginning. Choose a reasonable number of bins and focus on ISIs below 30ms. Then plot the histogram.\n",
    "\n",
    "_Hint:_ numpy provides a function `diff` that will come in handy. Open the documentation (`shift + tab`) or google it to find out how it works."
   ]
  },
  {
   "cell_type": "code",
   "execution_count": null,
   "metadata": {},
   "outputs": [],
   "source": [
    "# Start your code here\n",
    "# FIXME\n",
    "isi = np.diff(example_spike_times)\n",
    "isi_hist, bin_edges = np.histogram(isi, bins=50, range=(0, 0.03))\n",
    "bin_size = bin_edges[1] - bin_edges[0]\n",
    "bin_centers = bin_edges[:-1] + bin_size/2\n",
    "\n",
    "plt.plot(bin_centers, isi_hist)\n",
    "plt.title(\"Interspike interval histogram\")\n",
    "plt.xlabel(\"Interspike interval [s]\")\n",
    "plt.ylabel(\"Number of occurences\");"
   ]
  },
  {
   "cell_type": "markdown",
   "metadata": {},
   "source": [
    "What does this mean? Why are there so few intervals below ~3ms?"
   ]
  },
  {
   "cell_type": "markdown",
   "metadata": {},
   "source": [
    "So far, when using 'np.histogram', we have specified the number of bins of the histogram. This is the easiest way of using it, but we might also want to directly control the size of the bins. "
   ]
  },
  {
   "cell_type": "markdown",
   "metadata": {},
   "source": [
    "**Exercise:**\n",
    "\n",
    "Create the same plot as above, but now explicitly set the size of the bins to 0.1 ms. You can do so by creating the bin edges manually and passing them as the parameter `bins` to `np.histogram`. Take a look at the documentation!\n",
    "\n",
    "_Hint:_ To create the bin edges, you can use `np.arange` with the `step` parameter."
   ]
  },
  {
   "cell_type": "code",
   "execution_count": null,
   "metadata": {},
   "outputs": [],
   "source": [
    "# Start your code here\n",
    "# FIXME\n",
    "bin_size = 0.0001\n",
    "bin_edges = np.arange(0, 0.03 + bin_size, bin_size)\n",
    "bin_centers = bin_edges[:-1] + bin_size/2\n",
    "isi_hist, bin_edges = np.histogram(isi, bins=bin_edges)\n",
    "\n",
    "plt.plot(bin_centers, isi_hist)\n",
    "plt.title(\"Interspike interval histogram\")\n",
    "plt.xlabel(\"Interspike interval [s]\")\n",
    "plt.ylabel(\"Number of occurences\");"
   ]
  },
  {
   "cell_type": "markdown",
   "metadata": {},
   "source": [
    "**Exercise:**\n",
    "\n",
    "Try plotting a 'real' histogram using matplotlib's `hist` function. Whether you specify the number of bins or the bin edges is up to you."
   ]
  },
  {
   "cell_type": "code",
   "execution_count": null,
   "metadata": {},
   "outputs": [],
   "source": [
    "# Start your code here\n",
    "# FIXME\n",
    "plt.hist(isi, bins=50, range=(0, 0.03))\n",
    "plt.title(\"Interspike interval histogram\")\n",
    "plt.xlabel(\"Interspike interval [s]\")\n",
    "plt.ylabel(\"Number of occurences\");"
   ]
  }
 ],
 "metadata": {
  "kernelspec": {
   "display_name": "Python 3 (ipykernel)",
   "language": "python",
   "name": "python3"
  },
  "language_info": {
   "codemirror_mode": {
    "name": "ipython",
    "version": 3
   },
   "file_extension": ".py",
   "mimetype": "text/x-python",
   "name": "python",
   "nbconvert_exporter": "python",
   "pygments_lexer": "ipython3",
   "version": "3.7.10"
  }
 },
 "nbformat": 4,
 "nbformat_minor": 4
}
