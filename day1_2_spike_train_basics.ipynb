{
 "cells": [
  {
   "cell_type": "markdown",
   "metadata": {},
   "source": [
    "# Basics of spike train analysis\n",
    "\n",
    "This is the first part of the course. \n",
    "\n",
    "**You will learn how to:** \n",
    "- Load spiking data into NumPy arrays and plot spike rasters.\n",
    "- Calculate firing rates from spike trains.\n",
    "- Calculate and interpret: interspike interval histograms, auto- and cross-correlograms.\n",
    "\n",
    "Let's first import the packages we are going to use, and set up some plotting parameters."
   ]
  },
  {
   "cell_type": "code",
   "execution_count": null,
   "metadata": {},
   "outputs": [],
   "source": [
    "# import packages\n",
    "import numpy as np\n",
    "import matplotlib.pyplot as plt\n",
    "from os import listdir\n",
    "from os.path import isfile, join\n",
    "\n",
    "%matplotlib inline\n",
    "plt.rcParams['figure.figsize'] = (16.0, 6.0) # set default size of plots"
   ]
  },
  {
   "cell_type": "markdown",
   "metadata": {},
   "source": [
    "## 1 - Loading and plotting spike trains"
   ]
  },
  {
   "cell_type": "markdown",
   "metadata": {},
   "source": [
    "A spike train of a single neuron can be defined as a set of spike times. \n",
    "\n",
    "We will beging by learning how to load the spike times of a single (or multiple) neurons in a numpy arrays."
   ]
  },
  {
   "cell_type": "markdown",
   "metadata": {},
   "source": [
    "### Loading single and multiple spike trains"
   ]
  },
  {
   "cell_type": "code",
   "execution_count": null,
   "metadata": {},
   "outputs": [],
   "source": [
    "exampleSpikesPath='example_spikes.txt' #path of spike train in working folder\n",
    "exampleSpikeTimes = np.loadtxt(exampleSpikesPath) #load using the function"
   ]
  },
  {
   "cell_type": "markdown",
   "metadata": {},
   "source": [
    "The file above contains the spike train of a single neuron in seconds."
   ]
  },
  {
   "cell_type": "code",
   "execution_count": null,
   "metadata": {
    "scrolled": true
   },
   "outputs": [],
   "source": [
    "print(exampleSpikeTimes)"
   ]
  },
  {
   "cell_type": "markdown",
   "metadata": {},
   "source": [
    "**Exercise:** Since you will often have to load of spike trains, you should really understand how to do it. This exercise should also test your basic understanding of passing arguments to functions. Try to fill `loadSpikeTrain()`:"
   ]
  },
  {
   "cell_type": "code",
   "execution_count": null,
   "metadata": {},
   "outputs": [],
   "source": [
    "def loadSpikeTrain(pathToSpikeTrain):\n",
    "    '''\n",
    "    Inputs:\n",
    "            pathToSpikeTrain: string\n",
    "    Outputs: \n",
    "            spikeTimes: numpy array\n",
    "    '''\n",
    "    \n",
    "    ### START CODE HERE ### (approx. 1 line)\n",
    "    spikeTimes = np.loadtxt(pathToSpikeTrain)\n",
    "    ### END CODE HERE ###\n",
    "    \n",
    "    return spikeTimes"
   ]
  },
  {
   "cell_type": "code",
   "execution_count": null,
   "metadata": {},
   "outputs": [],
   "source": [
    "print(loadSpikeTrain('data_spike_trains/18_SP_C203.txt'))"
   ]
  },
  {
   "cell_type": "markdown",
   "metadata": {},
   "source": [
    "Expected output: \n",
    "[  0.5766   2.8239   4.5523 ... 481.387  482.4371 482.4677]"
   ]
  },
  {
   "cell_type": "markdown",
   "metadata": {},
   "source": [
    "**Exercise:** It is also useful to load multiple spike trains in our workspace. We would like to stack them in a list. Think of what should happen if the input is just a single spike train!\n",
    "\n",
    "*Hint:* Make use of `np.loadtxt()` that we used above!"
   ]
  },
  {
   "cell_type": "code",
   "execution_count": null,
   "metadata": {},
   "outputs": [],
   "source": [
    "def loadSpikeTrainsToList(pathList):\n",
    "    '''\n",
    "    Inputs:\n",
    "            list_of_paths: list of strings\n",
    "    Outputs: \n",
    "            list_of_spikes: numpy array\n",
    "    '''\n",
    "    \n",
    "    ### START CODE HERE ### (approx. 1-3 lines)\n",
    "    spikeTrainList=[np.loadtxt(spath) for spath in pathList]\n",
    "    ### END CODE HERE ###\n",
    "    \n",
    "    return spikeTrainList"
   ]
  },
  {
   "cell_type": "code",
   "execution_count": null,
   "metadata": {},
   "outputs": [],
   "source": [
    "mypath='data_spike_trains/'\n",
    "onlyfiles = [join(mypath, f) for f in listdir(mypath) if isfile(join(mypath, f))]\n",
    "print(loadSpikeTrainsToList(onlyfiles)[2])"
   ]
  },
  {
   "cell_type": "markdown",
   "metadata": {},
   "source": [
    "Expected output:\n",
    "\n",
    "[3.710000e-02 5.223000e-01 5.517000e-01 ... 4.816942e+02 4.818235e+02\n",
    " 4.832769e+02]"
   ]
  },
  {
   "cell_type": "markdown",
   "metadata": {},
   "source": [
    "### Raster plots for spike train visualization"
   ]
  },
  {
   "cell_type": "markdown",
   "metadata": {},
   "source": [
    "An useful function for plotting spike trains is eventplot. Let's try plotting our example spikes:"
   ]
  },
  {
   "cell_type": "code",
   "execution_count": null,
   "metadata": {},
   "outputs": [],
   "source": [
    "plt.eventplot(exampleSpikeTimes, colors='k')\n",
    "plt.xlim([0,15])\n",
    "plt.xlabel('Time (s)')\n",
    "plt.yticks([1]);"
   ]
  },
  {
   "cell_type": "markdown",
   "metadata": {},
   "source": [
    "Have you seen this plot before? Can you understand it?"
   ]
  },
  {
   "cell_type": "markdown",
   "metadata": {},
   "source": [
    "It is possible to use eventplot to stack spike trains on top of one another. "
   ]
  },
  {
   "cell_type": "code",
   "execution_count": null,
   "metadata": {
    "scrolled": false
   },
   "outputs": [],
   "source": [
    "mypath='data_spike_trains/'\n",
    "onlyfiles = [join(mypath, f) for f in listdir(mypath) if isfile(join(mypath, f))]\n",
    "allSpikeTrains=loadSpikeTrainsToList(onlyfiles)\n",
    "plt.eventplot(allSpikeTrains,colors='k',linelengths=0.8)\n",
    "plt.xlim([0,32]);"
   ]
  },
  {
   "cell_type": "markdown",
   "metadata": {},
   "source": [
    "This took quite some time. The problem is that we first plotted the whole spike trains (up to 600 seconds), and then focused on the first 32 seconds. We can use logical indexing to shorten our spike trains just before plotting..."
   ]
  },
  {
   "cell_type": "code",
   "execution_count": null,
   "metadata": {},
   "outputs": [],
   "source": [
    "trainsToPlot=[allSpikeTrains[ii][allSpikeTrains[ii]<32] for ii in range(0,len(allSpikeTrains))]\n",
    "import time\n",
    "startTime=time.time()\n",
    "plt.eventplot(trainsToPlot,colors='k',linelengths=0.8)\n",
    "endTime=time.time()\n",
    "print('Short spike trains took ' + str(endTime-startTime) + ' seconds')\n",
    "\n",
    "startTime=time.time()\n",
    "plt.eventplot(allSpikeTrains,colors='k',linelengths=0.8)\n",
    "plt.xlim([0,32])\n",
    "endTime=time.time();\n",
    "print('Long spike trains took ' + str(endTime-startTime) + ' seconds')"
   ]
  },
  {
   "cell_type": "markdown",
   "metadata": {},
   "source": [
    "**Exercise:** Let's test the basics. Can you plot the spike trains of five neurons from ```allSpikeTrains```? Specifically, 1st, 12th, 13th, 14th and 19th neurons...\n",
    "\n",
    "*Hint:* To match the raster above, focus on looking only at the first 32 seconds. You can use either of the two methods we showed!"
   ]
  },
  {
   "cell_type": "code",
   "execution_count": null,
   "metadata": {},
   "outputs": [],
   "source": [
    "Idx=[0, 11,12,13,18]\n",
    "newList=[allSpikeTrains[i][allSpikeTrains[i]<32] for i in Idx]\n",
    "plt.eventplot(newList,linelengths=0.8,colors='k');"
   ]
  },
  {
   "cell_type": "markdown",
   "metadata": {},
   "source": [
    "## 2 - Firing rate estimation by binning spike trains"
   ]
  },
  {
   "cell_type": "markdown",
   "metadata": {},
   "source": [
    "Spike trains almost never contain the same number of events. This fact makes their manipulation for plotting and analysis harder."
   ]
  },
  {
   "cell_type": "markdown",
   "metadata": {},
   "source": [
    "### Binning spike trains"
   ]
  },
  {
   "cell_type": "markdown",
   "metadata": {},
   "source": [
    "Let's first create our bins:"
   ]
  },
  {
   "cell_type": "code",
   "execution_count": null,
   "metadata": {},
   "outputs": [],
   "source": [
    "Tmin=0 # min time in seconds\n",
    "Tmax=16 # max time in seconds\n",
    "dt=0.01 # time bin in seconds\n",
    "binedges=np.arange(Tmin,Tmax,dt)\n",
    "bincenters=binedges[:-1]+dt/2 # get the centers of the bins"
   ]
  },
  {
   "cell_type": "markdown",
   "metadata": {},
   "source": [
    "And bin them using ```np.histogram```:"
   ]
  },
  {
   "cell_type": "code",
   "execution_count": null,
   "metadata": {
    "scrolled": false
   },
   "outputs": [],
   "source": [
    "frate,_= np.histogram(exampleSpikeTimes,binedges) # do binning\n",
    "frate = frate/dt # transform counts to rates\n",
    "# plot results\n",
    "plt.plot(bincenters,frate)\n",
    "plt.xlim([0,Tmax])\n",
    "plt.xlabel('Time (s)')\n",
    "plt.ylabel('Firing rate (Hz)');"
   ]
  },
  {
   "cell_type": "markdown",
   "metadata": {},
   "source": [
    "**Exercise:** Let's put what we have learned in the following function"
   ]
  },
  {
   "cell_type": "code",
   "execution_count": null,
   "metadata": {},
   "outputs": [],
   "source": [
    "def calculateFiringRate(spikeTimes,dt):\n",
    "    '''\n",
    "    Inputs:\n",
    "            spikeTimes:\n",
    "            dt:\n",
    "    Outputs: \n",
    "            frate: in Hz\n",
    "            bincenters: in s\n",
    "    '''\n",
    "    \n",
    "    ### START CODE HERE ### (approx. 5 lines)\n",
    "    Tmax=np.max(spikeTimes)\n",
    "    Tmin=0\n",
    "    binedges=np.arange(Tmin,Tmax,dt)\n",
    "    bincenters=binedges[:-1]+dt/2 # get the centers of the bins\n",
    "    frate,_= np.histogram(spikeTimes,binedges) # do binning\n",
    "    frate = frate/dt # transform counts to rates\n",
    "    ### END CODE HERE ###\n",
    "    \n",
    "    return frate, bincenters"
   ]
  },
  {
   "cell_type": "code",
   "execution_count": null,
   "metadata": {},
   "outputs": [],
   "source": [
    "tshowmax=10\n",
    "frate10,centers10=calculateFiringRate(exampleSpikeTimes[exampleSpikeTimes<tshowmax],0.01)\n",
    "frate50,centers50=calculateFiringRate(exampleSpikeTimes[exampleSpikeTimes<tshowmax],0.05)\n",
    "plt.plot(centers10,frate10,centers50,frate50)\n",
    "plt.xlim([0,tshowmax])\n",
    "plt.legend(('Bin 10 ms','Bin 50 ms'));"
   ]
  },
  {
   "cell_type": "markdown",
   "metadata": {},
   "source": [
    "Above, we plotted the firing rate estimated with two different bin sizes. Can you understand this?"
   ]
  },
  {
   "cell_type": "markdown",
   "metadata": {},
   "source": [
    "## 3 - Spike train statistics"
   ]
  },
  {
   "cell_type": "markdown",
   "metadata": {},
   "source": [
    "By looking at statistical properties of spike trains, we can extract useful information."
   ]
  },
  {
   "cell_type": "markdown",
   "metadata": {},
   "source": [
    "### Inter-spike interval histogram"
   ]
  },
  {
   "cell_type": "markdown",
   "metadata": {},
   "source": [
    "Below, you see the inter-spike interval histogram of a single neuron:"
   ]
  },
  {
   "cell_type": "code",
   "execution_count": null,
   "metadata": {
    "scrolled": true
   },
   "outputs": [],
   "source": [
    "plt.hist(np.diff(exampleSpikeTimes)*1e3,np.linspace(0,30,100))\n",
    "plt.xlabel('ISI duration (ms)')\n",
    "plt.ylabel('# ISIs')\n",
    "plt.title('Inter-spike interval (ISI) histogram');"
   ]
  },
  {
   "cell_type": "markdown",
   "metadata": {},
   "source": [
    "**Exercise:** Estimate the % of intervals that are below 2 ms by filling in `percentIntervals(spikeTimes, timeInterval)`"
   ]
  },
  {
   "cell_type": "code",
   "execution_count": null,
   "metadata": {},
   "outputs": [],
   "source": [
    "def percentIntervals(spikeTimes,timeInterval):\n",
    "    '''\n",
    "    Inputs:\n",
    "            spikeTimes:\n",
    "            timeInterval:\n",
    "    Outputs: \n",
    "            pint: percentage of ISIs below timeInterval\n",
    "    '''\n",
    "    \n",
    "    ### START CODE HERE ### (approx. 2 lines)\n",
    "    spdiffs=np.diff(spikeTimes)*1e3;\n",
    "    pint=np.sum(spdiffs<timeInterval)/np.size(spdiffs)\n",
    "    ### END CODE HERE ###\n",
    "    \n",
    "    return pint"
   ]
  },
  {
   "cell_type": "code",
   "execution_count": null,
   "metadata": {},
   "outputs": [],
   "source": [
    "print(\"ISIs below 2 ms are \" + str(100*percentIntervals(exampleSpikeTimes,2)) + \"%\")"
   ]
  },
  {
   "cell_type": "markdown",
   "metadata": {},
   "source": [
    "**Expected output:**\n",
    "1.15 %"
   ]
  },
  {
   "cell_type": "markdown",
   "metadata": {},
   "source": [
    "### Autocorrelogram"
   ]
  },
  {
   "cell_type": "markdown",
   "metadata": {},
   "source": [
    "In order to construct an auto-correlogram, we have to bin our spike times first. Since we are looking at individual spikes, one has to use a time resolution of <1 ms. Furthermore, we will look only at timescales relevant for spiking."
   ]
  },
  {
   "cell_type": "code",
   "execution_count": null,
   "metadata": {},
   "outputs": [],
   "source": [
    "t_res=0.5e-3\n",
    "Tlag=0.04\n",
    "Nlag=np.round(Tlag/t_res)\n",
    "bins=np.arange(0,600,t_res)\n",
    "binnedspikes,binbin=np.histogram(exampleSpikeTimes, bins)"
   ]
  },
  {
   "cell_type": "markdown",
   "metadata": {},
   "source": [
    "Because NumPy's functions are not the best for our purpose, we will import an external library"
   ]
  },
  {
   "cell_type": "code",
   "execution_count": null,
   "metadata": {},
   "outputs": [],
   "source": [
    "import pycorrelate as pyc"
   ]
  },
  {
   "cell_type": "markdown",
   "metadata": {},
   "source": [
    "Now we can use the function ```pyc.ucorrelate()``` to calculate the autocorrelogram"
   ]
  },
  {
   "cell_type": "code",
   "execution_count": null,
   "metadata": {},
   "outputs": [],
   "source": [
    "ac=pyc.ucorrelate(binnedspikes,binnedspikes,Nlag)\n",
    "ytoplot=np.hstack((np.flip(ac[1:]),0,ac[1:]))/ac[0] # normalized by maximum\n",
    "xtoplot=np.arange(1,Nlag)*t_res*1e3;\n",
    "xtoplot=np.hstack((-np.flip(xtoplot),0,xtoplot))\n",
    "plt.plot(xtoplot,ytoplot)\n",
    "#Setup plot appearance\n",
    "plt.title('Autocorrelogram')\n",
    "plt.xlabel('Time lag (ms)')\n",
    "plt.ylabel('Correlation (norm.)')\n",
    "plt.xlim((-Tlag*1e3,Tlag*1e3));"
   ]
  },
  {
   "cell_type": "markdown",
   "metadata": {},
   "source": [
    "In order to calculate the autocorrelogram, we had to call multiple functions. Often, it helps to define a new function that can do the calculation for us."
   ]
  },
  {
   "cell_type": "markdown",
   "metadata": {},
   "source": [
    "**Exercise:** Make the autocorrelogram calculation into a function! \n",
    "Bonus: think of how to add an extra option that plots the result as well..."
   ]
  },
  {
   "cell_type": "code",
   "execution_count": null,
   "metadata": {},
   "outputs": [],
   "source": [
    "def calculateAutoCorrelogram(spiketrain,timeResolution,timeLag):\n",
    "    '''\n",
    "    Inputs:\n",
    "            spiketrain: numpy array of spike times in seconds\n",
    "            timeResolution: resolution in seconds\n",
    "            timeLag: number of seconds of time lag\n",
    "    Outputs: \n",
    "            xvals: numpy array of times\n",
    "            yvals: numpy array of autocorrelogram values\n",
    "    '''\n",
    "    ### START CODE HERE ### (approx. 5-10 lines)\n",
    "    Nlag=np.round(timeLag/timeResolution)\n",
    "    bins=np.arange(0,np.max(spiketrain),timeResolution)\n",
    "    binnedspikes,binbin=np.histogram(spiketrain, bins)\n",
    "    ac=pyc.ucorrelate(binnedspikes,binnedspikes,Nlag)\n",
    "    yvals=np.hstack((np.flip(ac[1:]),0,ac[1:]))/ac[0]\n",
    "    xvals=np.arange(1,Nlag)*timeResolution;\n",
    "    xvals=np.hstack((-np.flip(xvals),0,xvals))\n",
    "    ### END CODE HERE ###\n",
    "    return yvals, xvals"
   ]
  },
  {
   "cell_type": "code",
   "execution_count": null,
   "metadata": {},
   "outputs": [],
   "source": [
    "py,px=calculateAutoCorrelogram(allSpikeTrains[2],1e-3,40e-3)\n",
    "print(py)\n",
    "plt.plot(px,py)\n",
    "plt.title('Autocorrelogram')\n",
    "plt.xlabel('Time lag (s)')\n",
    "plt.ylabel('Correlation (norm.)');"
   ]
  },
  {
   "cell_type": "markdown",
   "metadata": {},
   "source": [
    "**Expected output:** [0.05465071 0.06013122 0.0547279 ... 0.0547279  0.06013122 0.05465071]"
   ]
  },
  {
   "cell_type": "markdown",
   "metadata": {},
   "source": [
    "### Crosscorrelogram"
   ]
  },
  {
   "cell_type": "markdown",
   "metadata": {},
   "source": [
    "We can also correlate the spike trains of two different neurons. The resulting function is called the crosscorrelogram. By examing the crosscorrelogram, we can infer useful information."
   ]
  },
  {
   "cell_type": "markdown",
   "metadata": {},
   "source": [
    "We will now fill in the following function that calculates the crosscorrelogram between spike_train1 and spike_train2. It should be similar as the autocorrelogram above."
   ]
  },
  {
   "cell_type": "code",
   "execution_count": null,
   "metadata": {},
   "outputs": [],
   "source": [
    "def calculateCrossCorrelogram(spiketrain1,spiketrain2,timeResolution,timeLag):\n",
    "    ### START CODE HERE ### (approx. 2 lines)\n",
    "    Nlag=np.round(timeLag/timeResolution)\n",
    "    bins=np.arange(0,np.max((np.max(spiketrain1),np.max(spiketrain2))),timeResolution)\n",
    "    binnedspikes1,bb=np.histogram(spiketrain1, bins)\n",
    "    binnedspikes2,bb=np.histogram(spiketrain2, bins)\n",
    "    ac1=pyc.ucorrelate(binnedspikes1,binnedspikes2,Nlag)\n",
    "    ac2=pyc.ucorrelate(binnedspikes2,binnedspikes1,Nlag)\n",
    "    yvals=np.hstack((np.flip(ac2[1:]),ac1))\n",
    "    \n",
    "    xvals=np.arange(1,Nlag)*timeResolution;\n",
    "    xvals=np.hstack((-np.flip(xvals),0,xvals))\n",
    "    ### END CODE HERE ###\n",
    "    return yvals,xvals"
   ]
  },
  {
   "cell_type": "code",
   "execution_count": null,
   "metadata": {},
   "outputs": [],
   "source": [
    "py,px=calculateCrossCorrelogram(allSpikeTrains[0],allSpikeTrains[2],0.5e-3,60e-3)# pairs(0,2),\n",
    "plt.plot(px,py)\n",
    "plt.ylim([0,np.max(py)]);"
   ]
  },
  {
   "cell_type": "markdown",
   "metadata": {},
   "source": [
    "Expected output: "
   ]
  },
  {
   "cell_type": "markdown",
   "metadata": {},
   "source": [
    "Can we understand the cross-correlogram by looking at the spike trains?"
   ]
  },
  {
   "cell_type": "code",
   "execution_count": null,
   "metadata": {},
   "outputs": [],
   "source": [
    "Idx=[0, 2]\n",
    "newList=[allSpikeTrains[i][allSpikeTrains[i]<32] for i in Idx]\n",
    "plt.eventplot(newList,linelengths=0.8);"
   ]
  },
  {
   "cell_type": "markdown",
   "metadata": {},
   "source": [
    "**Exercise:** Using the function from above, calculate and plot the cross-correlogram between the 3rd and 4th spike trains of ```allSpikeTrains```. How do you interpret what you see?"
   ]
  },
  {
   "cell_type": "code",
   "execution_count": null,
   "metadata": {},
   "outputs": [],
   "source": [
    "### START CODE HERE ### (approx. 2 lines)\n",
    "\n",
    "### END CODE HERE ###"
   ]
  },
  {
   "cell_type": "markdown",
   "metadata": {},
   "source": [
    "Well done!"
   ]
  }
 ],
 "metadata": {
  "kernelspec": {
   "display_name": "Python 3",
   "language": "python",
   "name": "python3"
  },
  "language_info": {
   "codemirror_mode": {
    "name": "ipython",
    "version": 3
   },
   "file_extension": ".py",
   "mimetype": "text/x-python",
   "name": "python",
   "nbconvert_exporter": "python",
   "pygments_lexer": "ipython3",
   "version": "3.7.3"
  }
 },
 "nbformat": 4,
 "nbformat_minor": 2
}
