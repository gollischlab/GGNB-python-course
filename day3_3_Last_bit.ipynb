{
 "cells": [
  {
   "cell_type": "markdown",
   "id": "e8020051",
   "metadata": {},
   "source": [
    "# **Thanks for the course :) ... O.K., and now what?**"
   ]
  },
  {
   "cell_type": "markdown",
   "id": "60fc98a0",
   "metadata": {},
   "source": [
    "**1. Anaconda**\n",
    "\n",
    "Anaconda is an open-source Python and R distribution that bundles different applications for programming and data analysis together."
   ]
  },
  {
   "cell_type": "markdown",
   "id": "3331ea92",
   "metadata": {},
   "source": [
    "<img src=\"Anaconda_1.png\" width=\"600\">"
   ]
  },
  {
   "cell_type": "markdown",
   "id": "08058698",
   "metadata": {},
   "source": [
    "It is available for Windows, MacOS and Linux. Once you download and install the individual edition you can use the GUI Anaconda Navigator to access the different applications."
   ]
  },
  {
   "cell_type": "markdown",
   "id": "4ea288e0",
   "metadata": {},
   "source": [
    "<img src=\"Anaconda_2.png\" width=\"600\">"
   ]
  },
  {
   "cell_type": "markdown",
   "id": "a1150b61",
   "metadata": {},
   "source": [
    "Of particular interest for us –aside from Jupyter Notebook, which is also included– is Spyder. Spyder is a user-friendly IDE for Python, which is great in case you have no experience with setting up your own IDE."
   ]
  },
  {
   "cell_type": "markdown",
   "id": "7b97ca07",
   "metadata": {},
   "source": [
    "<img src=\"Spyder_1.png\" width=\"1000\">"
   ]
  },
  {
   "cell_type": "markdown",
   "id": "9a3225e4",
   "metadata": {},
   "source": [
    "The Anaconda distribution is oriented towards data analysis, which is why it already has a lot of Python packages preloaded, like numpy. However, should you need another one you can easily install it one of two ways. First, you can do it directly through the Anaconda Navigator."
   ]
  },
  {
   "cell_type": "markdown",
   "id": "7768de37",
   "metadata": {},
   "source": [
    "<img src=\"Anaconda_3.png\" width=\"1000\">"
   ]
  },
  {
   "cell_type": "code",
   "execution_count": null,
   "id": "4650d35e",
   "metadata": {},
   "outputs": [],
   "source": [
    "Or directly on your terminal:"
   ]
  },
  {
   "cell_type": "markdown",
   "id": "63b4b133",
   "metadata": {},
   "source": [
    "<img src=\"Spyder_2.png\" width=\"600\">, <img src=\"Spyder_3.png\" width=\"600\">"
   ]
  },
  {
   "cell_type": "markdown",
   "id": "a7e95cda",
   "metadata": {},
   "source": [
    "**2. Pandas**"
   ]
  },
  {
   "cell_type": "markdown",
   "id": "5d411610",
   "metadata": {},
   "source": [
    "<img src=\"Pandas_1.png\" width=\"600\">"
   ]
  },
  {
   "cell_type": "markdown",
   "id": "9e821b84",
   "metadata": {},
   "source": [
    "Pandas is"
   ]
  }
 ],
 "metadata": {
  "kernelspec": {
   "display_name": "Python 3",
   "language": "python",
   "name": "python3"
  },
  "language_info": {
   "codemirror_mode": {
    "name": "ipython",
    "version": 3
   },
   "file_extension": ".py",
   "mimetype": "text/x-python",
   "name": "python",
   "nbconvert_exporter": "python",
   "pygments_lexer": "ipython3",
   "version": "3.6.13"
  }
 },
 "nbformat": 4,
 "nbformat_minor": 5
}
