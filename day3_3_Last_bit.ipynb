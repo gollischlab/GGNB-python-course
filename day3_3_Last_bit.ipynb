{
 "cells": [
  {
   "cell_type": "markdown",
   "id": "e8020051",
   "metadata": {},
   "source": [
    "# **Thanks for the course :) ... O.K., and now what?**"
   ]
  },
  {
   "cell_type": "markdown",
   "id": "60fc98a0",
   "metadata": {},
   "source": [
    "**1. Anaconda**\n",
    "\n",
    "Anaconda is an open-source Python and R distribution that bundles different applications for programming and data analysis together."
   ]
  },
  {
   "cell_type": "markdown",
   "id": "3331ea92",
   "metadata": {},
   "source": [
    "<img src=\"images/Anaconda_1.png\" width=\"600\">"
   ]
  },
  {
   "cell_type": "markdown",
   "id": "08058698",
   "metadata": {},
   "source": [
    "It is available for Windows, MacOS and Linux. Once you download and install the individual edition you can use the GUI Anaconda Navigator to access the different applications."
   ]
  },
  {
   "cell_type": "markdown",
   "id": "4ea288e0",
   "metadata": {},
   "source": [
    "<img src=\"images/Anaconda_2.png\" width=\"600\">"
   ]
  },
  {
   "cell_type": "markdown",
   "id": "a1150b61",
   "metadata": {},
   "source": [
    "Of particular interest for us –aside from Jupyter Notebook, which is also included– is Spyder. Spyder is a user-friendly IDE for Python, which is great in case you have no experience with setting up your own IDE."
   ]
  },
  {
   "cell_type": "markdown",
   "id": "7b97ca07",
   "metadata": {},
   "source": [
    "<img src=\"images/Spyder_1.png\" width=\"1000\">"
   ]
  },
  {
   "cell_type": "markdown",
   "id": "9a3225e4",
   "metadata": {},
   "source": [
    "The Anaconda distribution is oriented towards data analysis, which is why it already has a lot of Python packages preloaded, like numpy. However, should you need another one you can easily install it one of two ways. First, you can do it directly through the Anaconda Navigator."
   ]
  },
  {
   "cell_type": "markdown",
   "id": "7768de37",
   "metadata": {},
   "source": [
    "<img src=\"images/Anaconda_3.png\" width=\"1000\">"
   ]
  },
  {
   "cell_type": "code",
   "execution_count": null,
   "id": "4650d35e",
   "metadata": {},
   "outputs": [],
   "source": [
    "Or directly on your terminal:"
   ]
  },
  {
   "cell_type": "markdown",
   "id": "63b4b133",
   "metadata": {},
   "source": [
    "<img src=\"images/Spyder_2.png\" width=\"600\">, <img src=\"images/Spyder_3.png\" width=\"600\">"
   ]
  },
  {
   "cell_type": "markdown",
   "id": "a7e95cda",
   "metadata": {},
   "source": [
    "**2. Pandas**"
   ]
  },
  {
   "cell_type": "markdown",
   "id": "5d411610",
   "metadata": {},
   "source": [
    "<img src=\"images/Pandas_1.png\" width=\"600\">"
   ]
  },
  {
   "cell_type": "markdown",
   "id": "9e821b84",
   "metadata": {},
   "source": [
    "Pandas is a Python library that offers versatile data structures and operations useful for handling time-stamped data (time series) and tabular data. The Series structure is a 1D object that can include many data types (integers, strings, Python objects, etc.), which you can index with any label (strings, numbers; by default integers starting with 0)."
   ]
  },
  {
   "cell_type": "markdown",
   "id": "93a70cc7",
   "metadata": {},
   "source": [
    "<img src=\"images/Pandas_2.png\" width=\"600\">"
   ]
  },
  {
   "cell_type": "markdown",
   "id": "c79bcc4a",
   "metadata": {},
   "source": [
    "A DataFrame, on the other hand, is basically a table. Again, it can contain many kinds of objects and you can use any kind of label you want for rows and columns. Using indexing with the labels, you can access any entry or group of entries within the DataFrama; there are functions to obtain quick statistic summary of the data in either dimension; and you can also dinamically modify the table as you want."
   ]
  },
  {
   "cell_type": "markdown",
   "id": "5ffeef09",
   "metadata": {},
   "source": [
    "<img src=\"images/Pandas_3.png\" width=\"600\">"
   ]
  },
  {
   "cell_type": "markdown",
   "id": "0e004c91",
   "metadata": {},
   "source": [
    "Particularly useful is the fact that you can loop through any set of files you have, extract the information you need, and add it on the run to a previously initialized table. \n",
    "\n",
    "Any Series or DataFrama can be saved in a number of formats (.txt, .csv, .pickle, .json, etc.), which makes the Panda objects readily available to work with in other software."
   ]
  }
 ],
 "metadata": {
  "kernelspec": {
   "display_name": "Python 3",
   "language": "python",
   "name": "python3"
  },
  "language_info": {
   "codemirror_mode": {
    "name": "ipython",
    "version": 3
   },
   "file_extension": ".py",
   "mimetype": "text/x-python",
   "name": "python",
   "nbconvert_exporter": "python",
   "pygments_lexer": "ipython3",
   "version": "3.6.13"
  }
 },
 "nbformat": 4,
 "nbformat_minor": 5
}
