{
 "cells": [
  {
   "cell_type": "markdown",
   "metadata": {},
   "source": [
    "# **Spike Triggered Average – STA**\n",
    "\n",
    "So far, we have familiarised ourselves with alligning of spike trains to stimulus, binning them and calculating the firing rate. Another interesting analysis we could do with the spike trains from a neuron is calculating the spike triggered average (STA).\n",
    "\n",
    "STA can be described as a 'memory' of the cell; the relevance of stimuli and the computation a cell can do in time (and space).\n"
   ]
  },
  {
   "cell_type": "markdown",
   "metadata": {},
   "source": [
    "**To compute the STA, you will learn to:**\n",
    "\n",
    "-  Collect the stimulus portions preceding each spike, given a certain time window.\n",
    "-  Find the average stimulus that evokes spiking.\n",
    "\n",
    "First, let's import relevant packages:"
   ]
  },
  {
   "cell_type": "code",
   "execution_count": 4,
   "metadata": {},
   "outputs": [],
   "source": [
    "%matplotlib inline\n",
    "%config InlineBackend.rc={'figure.figsize': (12, 6), 'font.size': 14 }\n",
    "from matplotlib import pyplot as plt\n",
    "import numpy as np\n",
    "from numpy import load\n",
    "from pathlib import Path\n",
    "import math"
   ]
  },
  {
   "cell_type": "markdown",
   "metadata": {},
   "source": [
    "# **1. The stimulus - Full-field flicker**\n",
    "\n",
    "The data you are going to work with comes from multielectrode-array recordings of retinal ganglion cells that were stimulated with a full-field flicker stimluli. The full-field flicker consists of a screen-wide presentation of contrast levels that change with a given frequency (here 75Hz). The contrast value of each presentation is calculated from a number that's been taken \"randomly\" from a Gaussian distribution of mean zero and standard deviation 0.3, with positive values representing brighter, negative values darker presentations.\n",
    "\n",
    "This is how it would look like:"
   ]
  },
  {
   "cell_type": "markdown",
   "metadata": {},
   "source": [
    "<img src=\"images/fff.gif\" width=\"200\">\n"
   ]
  },
  {
   "cell_type": "markdown",
   "metadata": {},
   "source": [
    "It is assumed that the stimulus presented just before the occurance of a spike is actually what caused it (based on the 'memory' of the cell). Hence, we are going to collect all the contrast values that were presented during a time window preceding **every single spike** and average them. The result of this will be the spike-triggered average, the average stimulus that elicits a spike."
   ]
  },
  {
   "cell_type": "markdown",
   "metadata": {},
   "source": [
    "<img src=\"images/sta.png\" width=\"600\">"
   ]
  },
  {
   "cell_type": "markdown",
   "metadata": {},
   "source": [
    "# **2. Loading the data**"
   ]
  },
  {
   "cell_type": "markdown",
   "metadata": {},
   "source": [
    "Let us first load the pulses (times of stimulus presentation), the stimulus values."
   ]
  },
  {
   "cell_type": "code",
   "execution_count": 5,
   "metadata": {},
   "outputs": [],
   "source": [
    "filepath='data_LN_model/frametimes_fullfieldnoise.txt'\n",
    "pulses=np.loadtxt(filepath)\n",
    "\n",
    "## Each pulse marks a change in stimulus presentation"
   ]
  },
  {
   "cell_type": "code",
   "execution_count": 6,
   "metadata": {},
   "outputs": [],
   "source": [
    "filepath='data_LN_model/stimulus_fullfieldnoise.txt'\n",
    "stimulus=np.loadtxt(filepath)\n",
    "\n",
    "## Each value is a contrast value of the screen."
   ]
  },
  {
   "cell_type": "markdown",
   "metadata": {},
   "source": [
    "Here, the `stimulus` is organised into **training set** and **test set** during presentation. The **training set** is used for building the model/training the model while the **test set** is used for testing the performance of the model towards predicting responses of the cell.\n",
    "\n",
    "The training set consists of randomly drawn contrast values from a Gaussian distribution (as mentioned before) and it **does not repeat in trials** whereas the test set is also randomly drawn contrast values but it is the **same in each trial**."
   ]
  },
  {
   "cell_type": "markdown",
   "metadata": {},
   "source": [
    "<p><center><img src=\"images/FFFstimstructure.png\" width=\"600\" height=\"400\"></center></p>"
   ]
  },
  {
   "cell_type": "markdown",
   "metadata": {},
   "source": [
    "The number of frames of training set in each trial is given by `nframes_training=1800` and the number of frames of test set is `nframes_test=600`. Now, our task is to organise the `pulses` and the `stimulus` into trials."
   ]
  },
  {
   "cell_type": "markdown",
   "metadata": {},
   "source": [
    "**Exercise:** Reshape the values in `pulses` and `stimulus` into trials.\n",
    "\n",
    "*Hint:* First make sure that `pulses` and `stimulus` have the same `length`. If not, remove extra elements from `stimulus` from the end."
   ]
  },
  {
   "cell_type": "code",
   "execution_count": 7,
   "metadata": {},
   "outputs": [],
   "source": [
    "nframes_training=1800\n",
    "nframes_test=600\n",
    "\n",
    "## START CODE HERE ##\n",
    "\n",
    "# Making sure stimulus and pulses have same length\n",
    "stimulus=stimulus[:len(pulses)]\n",
    "\n",
    "# Calculating number of trials and reshaping pulses according to it.\n",
    "trialframes=nframes_training+nframes_test\n",
    "num_trials=math.floor(len(pulses)/trialframes)\n",
    "\n",
    "pulses=pulses[:num_trials*trialframes]\n",
    "pulses=np.reshape(pulses,(num_trials,trialframes))\n",
    "\n",
    "stimulus=stimulus[:num_trials*trialframes]\n",
    "stimulus=np.reshape(stimulus,(num_trials,trialframes))\n",
    "\n",
    "## END CODE HERE ##"
   ]
  },
  {
   "cell_type": "markdown",
   "metadata": {},
   "source": [
    "Now let us check if your code is correct."
   ]
  },
  {
   "cell_type": "code",
   "execution_count": 5,
   "metadata": {},
   "outputs": [
    {
     "name": "stdout",
     "output_type": "stream",
     "text": [
      "(41, 2400)\n",
      "(41, 2400)\n"
     ]
    }
   ],
   "source": [
    "print(np.shape(pulses))\n",
    "print(np.shape(stimulus))"
   ]
  },
  {
   "cell_type": "markdown",
   "metadata": {},
   "source": [
    "**Expected output:**\n",
    "\n",
    "`(41, 2400)`\n",
    "`(41, 2400)`\n"
   ]
  },
  {
   "cell_type": "code",
   "execution_count": 6,
   "metadata": {},
   "outputs": [
    {
     "name": "stdout",
     "output_type": "stream",
     "text": [
      "[1.7499  1.76318 1.77658 1.78986 1.80322 1.81654 1.82986 1.84318 1.85658\n",
      " 1.8699 ]\n"
     ]
    }
   ],
   "source": [
    "print(pulses[0,:10])"
   ]
  },
  {
   "cell_type": "markdown",
   "metadata": {},
   "source": [
    "**Expected output:** `[1.7499  1.76318 1.77658 1.78986 1.80322 1.81654 1.82986 1.84318 1.85658\n",
    " 1.8699 ]`\n"
   ]
  },
  {
   "cell_type": "markdown",
   "metadata": {},
   "source": [
    "Just as an additional step, let us separate the training set and test set in both `pulses` and `stimulus`. \n",
    "This will help us in the future while calculating the STA."
   ]
  },
  {
   "cell_type": "code",
   "execution_count": 8,
   "metadata": {},
   "outputs": [
    {
     "name": "stdout",
     "output_type": "stream",
     "text": [
      "(41, 600)\n",
      "(41, 1800)\n"
     ]
    }
   ],
   "source": [
    "pulses_training=pulses[:,:nframes_training]\n",
    "pulses_test=pulses[:,nframes_training:]\n",
    "\n",
    "print(np.shape(pulses_test))\n",
    "print(np.shape(pulses_training))\n",
    "\n",
    "stimulus_training=stimulus[:,:nframes_training,]\n",
    "stimulus_test=stimulus[:,nframes_training:]"
   ]
  },
  {
   "cell_type": "markdown",
   "metadata": {},
   "source": [
    "# **3. Arranging spike times into trials**"
   ]
  },
  {
   "cell_type": "markdown",
   "metadata": {},
   "source": [
    "Now that we have organised the `pulses` and `stimulus` into training set and test set, it is time to repeat the process with the spike times. \n",
    "Let us load the spike times of one example cell as `spike_times`."
   ]
  },
  {
   "cell_type": "code",
   "execution_count": 9,
   "metadata": {},
   "outputs": [],
   "source": [
    "filepath='data_LN_model/fullfieldnoise_C1.txt'\n",
    "spike_times=np.loadtxt(filepath)"
   ]
  },
  {
   "cell_type": "markdown",
   "metadata": {},
   "source": [
    "**Exrercise**: Write a function called `get_spikes_training` which takes inputs `spike_times` and `pulses_training` and a second function called `get_spikes_test` with inputs `spike_times` and `pulses_test` to split the values in `spike_times` into `spikes_training` and `spikes_test`.\n",
    "\n",
    "*Hint:* Use a *for* loop to do it trial-by-trial and by making a list of lists."
   ]
  },
  {
   "cell_type": "code",
   "execution_count": 10,
   "metadata": {},
   "outputs": [],
   "source": [
    "def get_spikes_training(spikes, training_pulses):\n",
    "\n",
    "## START YOUR CODE HERE ##\n",
    "\n",
    "    numtrials=np.shape(training_pulses)[0]\n",
    "    spikes_training=[]\n",
    "    for k in range(numtrials):\n",
    "        tr=spikes[\n",
    "            (spikes > training_pulses[k, 0]) & \n",
    "            (spikes < training_pulses[k, -1])\n",
    "        ]\n",
    "        spikes_training.append(tr)\n",
    "\n",
    "## END YOUR CODE HERE ##\n",
    "\n",
    "    return spikes_training"
   ]
  },
  {
   "cell_type": "code",
   "execution_count": 11,
   "metadata": {},
   "outputs": [],
   "source": [
    "def get_spikes_test(spikes,test_pulses):\n",
    "\n",
    "## START YOUR CODE HERE ##\n",
    "\n",
    "    numtrials=np.shape(test_pulses)[0]\n",
    "    spikes_test=[]\n",
    "    for k in range(numtrials):\n",
    "        tr=spikes[\n",
    "            (spikes > test_pulses[k, 0]) & \n",
    "            (spikes < test_pulses[k, -1])\n",
    "        ]\n",
    "        spikes_test.append(tr)\n",
    "\n",
    "## END YOUR CODE HERE ##\n",
    "\n",
    "    return spikes_test"
   ]
  },
  {
   "cell_type": "markdown",
   "metadata": {},
   "source": [
    "Now let's check if your fucntions are correct."
   ]
  },
  {
   "cell_type": "code",
   "execution_count": 12,
   "metadata": {},
   "outputs": [
    {
     "data": {
      "text/plain": [
       "array([97.76608, 97.77152, 97.77712, 97.79796, 98.0726 , 98.29824,\n",
       "       98.34032, 98.34628, 98.36044, 98.37512])"
      ]
     },
     "execution_count": 12,
     "metadata": {},
     "output_type": "execute_result"
    }
   ],
   "source": [
    "spikes_training=get_spikes_training(spike_times, pulses_training)\n",
    "spikes_training[3][:10] "
   ]
  },
  {
   "cell_type": "markdown",
   "metadata": {},
   "source": [
    "**Expected output:** `array([97.76608, 97.77152, 97.77712, 97.79796, 98.0726 , 98.29824,\n",
    "       98.34032, 98.34628, 98.36044, 98.37512])`"
   ]
  },
  {
   "cell_type": "markdown",
   "metadata": {},
   "source": [
    "Similarly for `spikes_test`..."
   ]
  },
  {
   "cell_type": "code",
   "execution_count": 13,
   "metadata": {},
   "outputs": [
    {
     "data": {
      "text/plain": [
       "array([185.83464, 186.11328, 186.19344, 186.20028, 186.43476, 186.54352,\n",
       "       186.57872, 186.62796, 186.64208, 186.80132])"
      ]
     },
     "execution_count": 13,
     "metadata": {},
     "output_type": "execute_result"
    }
   ],
   "source": [
    "spikes_test=get_spikes_test(spike_times, pulses_test)\n",
    "spikes_test[5][:10]"
   ]
  },
  {
   "cell_type": "markdown",
   "metadata": {},
   "source": [
    "**Expected output:** `array([185.83464, 186.11328, 186.19344, 186.20028, 186.43476, 186.54352,\n",
    "       186.57872, 186.62796, 186.64208, 186.80132])`"
   ]
  },
  {
   "cell_type": "markdown",
   "metadata": {},
   "source": [
    "**NOTE:** From now on, we will only use `spikes_training` for calculation of **STA**."
   ]
  },
  {
   "cell_type": "markdown",
   "metadata": {},
   "source": [
    "# **4. Collecting stimulus before each spike**"
   ]
  },
  {
   "cell_type": "markdown",
   "metadata": {},
   "source": [
    "As you know by now, the spike-triggered average is calculated by collecting stimulus values before each spike and averaging them. But how long before the spike should we collect the stimulus values ? We have to chose a `time_window` to determine how far in the past we would go to collect the stimulus values.\n",
    "\n",
    "You can chose anywhere between 500ms to 1000ms. Usually, a `time_window` of 600ms is chosen based on the average activity of the cell.\n",
    "\n",
    "Let us assume the `time_window` of 600ms or 0.6s."
   ]
  },
  {
   "cell_type": "code",
   "execution_count": 14,
   "metadata": {},
   "outputs": [],
   "source": [
    "time_window=0.6"
   ]
  },
  {
   "cell_type": "markdown",
   "metadata": {},
   "source": [
    "What does this mean in terms of number of `pulses`? We know that the stimulus was presnted at a frequency of 75Hz and each prsentation was marked by a `pulse`. We now have to calculate the `durations` of each pulse and number of pulses in a `time_window`.\n",
    "\n",
    "Let us now convert our `time_window` from milliseconds or seconds to number of elements in `pulses`."
   ]
  },
  {
   "cell_type": "markdown",
   "metadata": {},
   "source": [
    "**Exercise**: Calculate `num_past_pulses` based on `time_window`.\n",
    "\n",
    "*Hint:* First calculate duration between two consequent `pulses`."
   ]
  },
  {
   "cell_type": "code",
   "execution_count": 15,
   "metadata": {},
   "outputs": [
    {
     "name": "stdout",
     "output_type": "stream",
     "text": [
      "45\n"
     ]
    }
   ],
   "source": [
    "## START CODE HERE##\n",
    "\n",
    "durations=np.mean(np.diff(pulses))\n",
    "num_past_pulses=round(time_window/durations)\n",
    "\n",
    "## END CODE HERE ##\n",
    "\n",
    "print(num_past_pulses)"
   ]
  },
  {
   "cell_type": "markdown",
   "metadata": {},
   "source": [
    "**Expected output:** `45`"
   ]
  },
  {
   "cell_type": "markdown",
   "metadata": {},
   "source": [
    "This means that we will have to go `45` frames/values back in time for each spike. However, for the very first spike, probably occuring in the first pulse duration itself, there are no stimulus values back in time. Similarly for all spikes occuring within the first few pulses, there are not enough stimulus values back in time for consideration.\n",
    "\n",
    "Thus, we will have to **ignore the first few spikes** for the calculation of STA. More specificially, we will have to **ignore all spikes occurring before first `num_past_pulses` pulses**.\n",
    "\n",
    "This has to be done for spikes in each trial !! "
   ]
  },
  {
   "cell_type": "code",
   "execution_count": 16,
   "metadata": {},
   "outputs": [],
   "source": [
    "def get_spikes_STA(training_spikes, training_pulses, num_pastpulses):\n",
    "    \n",
    "    spikes_STA=[]\n",
    "\n",
    "    for k in range(num_trials):\n",
    "        X=training_spikes[k]\n",
    "        newset=X [ X > training_pulses[k,num_pastpulses] ]\n",
    "        spikes_STA.append(newset)\n",
    "        \n",
    "    return spikes_STA"
   ]
  },
  {
   "cell_type": "code",
   "execution_count": 17,
   "metadata": {},
   "outputs": [],
   "source": [
    "spikes_STA=get_spikes_STA(spikes_training,pulses_training,num_past_pulses)"
   ]
  },
  {
   "cell_type": "markdown",
   "metadata": {},
   "source": [
    "# **5. Calculating the STA**"
   ]
  },
  {
   "cell_type": "markdown",
   "metadata": {},
   "source": [
    "Finally, we are ready to calculate the spike-triggered average!! Yohoo!!\n",
    "\n",
    "We have our `pulses_training`, `stimulus_training` and `spikes_STA` ready."
   ]
  },
  {
   "cell_type": "markdown",
   "metadata": {},
   "source": [
    "What we now need to do:\n",
    "\n",
    "1. Select each spike in `spikes_STA`.\n",
    "\n",
    "\n",
    "2. Check in which `pulses_training` does it occur and note the index of the element.\n",
    "\n",
    "\n",
    "3. Index the `stimulus_training`from the previously obtained index of `pulses_training` as they have same dimentions.\n",
    "\n",
    "\n",
    "4. Count `num_past_pulses` values back in time from the index of `stimulus_training`. You will then obtain an array ` \n",
    "STA_raw` of size `(1,45)`. \n",
    "\n",
    "\n",
    "5. Repeat the process for all spikes, average the `STA_raw` over number of spikes.\n",
    "\n",
    "Of course, many of these steps can be combined during programming. 😊"
   ]
  },
  {
   "cell_type": "markdown",
   "metadata": {},
   "source": [
    "**Exercise (hard)**: Fill in the function below to calculate the STA given the imputs `spikes_STA`, `stimulus_training`, `pulses_training` and `num_past_pulses`."
   ]
  },
  {
   "cell_type": "code",
   "execution_count": 20,
   "metadata": {},
   "outputs": [],
   "source": [
    "def calculate_STA(spikes_STA, pulses_training, stimulus_training, num_past_pulses):\n",
    "\n",
    "    ## Flattening the pulses and stimulus for easier indexing\n",
    "    STApulses=pulses_training.flatten(order='C')\n",
    "\n",
    "    ## Do the same for stimulus as well\n",
    "    STAstimulus=stimulus_training.flatten(order='C')\n",
    "\n",
    "    ## Starting a counter to keep track of iterations\n",
    "    counter=0\n",
    "    stim_vector=np.zeros((num_past_pulses, ))\n",
    "\n",
    "    ## Main loop for STA calculation\n",
    "\n",
    "    for i in range(num_trials):\n",
    "        currentspikes=spikes_STA[i]\n",
    "        counter += len(currentspikes)\n",
    "        \n",
    "        for spike in currentspikes:\n",
    "            stim_window=np.where(STApulses <= spike)[0][-num_past_pulses:] # indexing all 45 frames together\n",
    "            stim_vector += STAstimulus[stim_window]\n",
    "\n",
    "    STA=stim_vector/counter\n",
    "    \n",
    "    return STA"
   ]
  },
  {
   "cell_type": "markdown",
   "metadata": {},
   "source": [
    "Now let's see if our function worked by plotting the STA."
   ]
  },
  {
   "cell_type": "code",
   "execution_count": 22,
   "metadata": {},
   "outputs": [
    {
     "data": {
      "text/plain": [
       "[<matplotlib.lines.Line2D at 0x2c6b499d940>]"
      ]
     },
     "execution_count": 22,
     "metadata": {},
     "output_type": "execute_result"
    },
    {
     "data": {
      "image/png": "[encoded data removed]",
      "text/plain": [
       "<Figure size 432x288 with 1 Axes>"
      ]
     },
     "metadata": {
      "needs_background": "light"
     },
     "output_type": "display_data"
    }
   ],
   "source": [
    "STA=calculate_STA(spikes_STA,pulses_training,stimulus_training,num_past_pulses)\n",
    "plt.plot(STA)"
   ]
  },
  {
   "cell_type": "markdown",
   "metadata": {},
   "source": [
    "What do you see? Do you understand the plot?\n",
    "\n",
    "Let us plot it more accurately here."
   ]
  },
  {
   "cell_type": "code",
   "execution_count": null,
   "metadata": {},
   "outputs": [],
   "source": [
    "###START CODE HERE###- SHASH PLEASE DO THIS PART\n",
    "\n",
    "\"\"\"\n",
    "for adequate plotting, create a vector with values within the range of\n",
    "what is going to be the X-axis and plot the STA against it.\n",
    "\n",
    "\"\"\"\n",
    "\n",
    "past_time_limit = -avg_diff*window\n",
    "x_ax = np.linspace(past_time_limit, 0, num=len(sta))\n",
    "plt.plot(x_ax, sta)\n",
    "\n",
    "###END CODE HERE"
   ]
  },
  {
   "cell_type": "markdown",
   "metadata": {},
   "source": [
    "The STA is showing us what stimulus the cell \"prefers\" in the temporal domain. Depending on the data set you have, it might be that the cells prefers decrease and then increase in contrast before spiking; increase and then decrease in contrast; or just increase in contrast. "
   ]
  },
  {
   "cell_type": "markdown",
   "metadata": {},
   "source": [
    "# **6. Normalising the STA**"
   ]
  },
  {
   "cell_type": "markdown",
   "metadata": {},
   "source": [
    "You may notice that the STA is now in simulus space. i.e each value in STA is an average stimulus value. It is fine to keep it this way for comapring STAs amongst cells. However, if we want to use STAs for moedlling in the LN-model, we need to normalise it to remove biases from firing rate of each cell. This way, the STAs would be normalised/scaled to unit form and readily useable for the next step in the modelling.\n",
    "\n",
    "For this, we use **euclidean normalisation** as the shape of the STA (direction of vector) matters more than the amplitude of it (magnitude of vector).\n",
    "\n",
    "The equation for eucledian normalisation is given by:\n",
    "\n",
    "$$\n",
    "{x_{norm}} =\\frac{x_{i}}{\\sqrt{\\sum_{i=1}^{N}{x_{i}}^2}}\n",
    "$$\n",
    "\n",
    "where $x_i$ is an element in the STA and $N$ is total number of elements. \n",
    "\n"
   ]
  },
  {
   "cell_type": "markdown",
   "metadata": {},
   "source": [
    "**Exercise:** Write a function called `normalise_STA` which takes the STA as input and normalises it using euclidean normalisation."
   ]
  },
  {
   "cell_type": "code",
   "execution_count": 24,
   "metadata": {},
   "outputs": [],
   "source": [
    "def normalise_STA (STA_raw):\n",
    "    \n",
    "    ## START YOUR CODE HERE ##\n",
    "    \n",
    "    STA_norm=STA_raw/ math.sqrt(np.sum(STA_raw**2))  #can use'/' here instead of np.divide() as STA_raw is an np.array\n",
    "    \n",
    "    ## END YOUR CODE HERE ##\n",
    "    \n",
    "    return STA_norm"
   ]
  },
  {
   "cell_type": "markdown",
   "metadata": {},
   "source": [
    "# **7. Comparing multiple cells**"
   ]
  },
  {
   "cell_type": "markdown",
   "metadata": {},
   "source": [
    "So far, we calculated the STA of one example cell. Different cells can have very diverse STAs. The shape of the STA usually depends on the cell-type specification of the neuron (ON-cell, OFF-cell etc.).\n",
    "\n",
    "Let us look at a few more cells and compare their STAs. For this, we will have to repeat the above steps for each cell.\n",
    "\n",
    "We already have `pulses_training` and ` stimulus_training`. We now need to load spike times from all cells repeat the steps above."
   ]
  },
  {
   "cell_type": "markdown",
   "metadata": {},
   "source": [
    "**Exercise:** Fill the code below with the correct variables and functions to obtain STA for multiple cells."
   ]
  },
  {
   "cell_type": "code",
   "execution_count": 27,
   "metadata": {},
   "outputs": [],
   "source": [
    "#This will store the STAs for all cells\n",
    "multiSTA=[]\n",
    "\n",
    "# Generate a list of the spike files of all cells\n",
    "filepaths = sorted(Path('data_LN_model').glob('fullfieldnoise*.txt'))\n",
    "\n",
    "#Iterate over all files\n",
    "for filepath in filepaths:\n",
    "    \n",
    "    # 1. Load spike times from file\n",
    "    spike_times = np.loadtxt(filepath)\n",
    "\n",
    "    # 2. Split the spike times into test set and training set\n",
    "    spikes_training=get_spikes_training(spike_times,pulses_training)\n",
    "    \n",
    "    # 3. Ignore spikes which do not have corresponding stimulus values in the past\n",
    "    spikes_STA=get_spikes_STA(spikes_training,pulses_training,num_past_pulses)\n",
    "    \n",
    "    # 4. Calculate the STA\n",
    "    STA=calculate_STA(spikes_STA, pulses_training, stimulus_training, num_past_pulses)\n",
    "    \n",
    "    # 5. Normalise the STA using euclidean normalisation\n",
    "    final_STA=normalise_STA(STA)\n",
    "    \n",
    "    # 6. Append it to the list of STAs for multiple cells\n",
    "    multiSTA.append(final_STA)\n",
    "    \n",
    "multiSTA=np.array(multiSTA) # To make it easier for plotting"
   ]
  },
  {
   "cell_type": "markdown",
   "metadata": {},
   "source": [
    "Let's check if your code is correct."
   ]
  },
  {
   "cell_type": "code",
   "execution_count": 50,
   "metadata": {},
   "outputs": [
    {
     "name": "stdout",
     "output_type": "stream",
     "text": [
      "(8, 45)\n",
      "[0.04619592 0.04298558 0.02613613 0.03903669 0.03489258 0.02845812\n",
      " 0.02332268 0.01184162 0.02100312 0.0091886 ]\n"
     ]
    }
   ],
   "source": [
    "print(np.shape(multiSTA))\n",
    "print(multiSTA[2,:10])"
   ]
  },
  {
   "cell_type": "markdown",
   "metadata": {},
   "source": [
    "**Expected output:** ```(8, 45)```\n",
    "```[0.04619592 0.04298558 0.02613613 0.03903669 0.03489258 0.02845812\n",
    " 0.02332268 0.01184162 0.02100312 0.0091886 ] ```"
   ]
  },
  {
   "cell_type": "markdown",
   "metadata": {},
   "source": [
    "Now let us plot STAs from all the cells."
   ]
  },
  {
   "cell_type": "code",
   "execution_count": null,
   "metadata": {},
   "outputs": [],
   "source": [
    "### SHASH PLEASE FILL THIS ###"
   ]
  }
 ],
 "metadata": {
  "kernelspec": {
   "display_name": "Python 3 (ipykernel)",
   "language": "python",
   "name": "python3"
  },
  "language_info": {
   "codemirror_mode": {
    "name": "ipython",
    "version": 3
   },
   "file_extension": ".py",
   "mimetype": "text/x-python",
   "name": "python",
   "nbconvert_exporter": "python",
   "pygments_lexer": "ipython3",
   "version": "3.9.7"
  }
 },
 "nbformat": 4,
 "nbformat_minor": 2
}
