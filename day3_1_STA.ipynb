{
 "cells": [
  {
   "cell_type": "markdown",
   "metadata": {},
   "source": [
    "# **Spike Triggered Average – STA**\n",
    "\n",
    "We have already looked into how to handle and analyze spike trains recorded under visual stimulation. We will now turn to a very common tool in systems neuroscience, the spike triggered average. \n",
    "\n",
    "**(here goes the theory, if not in a separate presentation)**\n"
   ]
  },
  {
   "cell_type": "markdown",
   "metadata": {},
   "source": [
    "**You will learn to:**\n",
    "-  Match the signal from the stimulus generator to the actual presentation of the stimulus.\n",
    "-  Collect the stimulus portions preceding each spike, given a certain time window.\n",
    "-  Find the average stimulus that evokes spiking.\n",
    "-  **(simulation, fitting, shuffle analysis?)**\n",
    "\n",
    "First, let's import relevant packages:"
   ]
  },
  {
   "cell_type": "code",
   "execution_count": null,
   "metadata": {},
   "outputs": [],
   "source": [
    "%matplotlib inline\n",
    "%config InlineBackend.rc={'figure.figsize': (12, 6), 'font.size': 14 }\n",
    "from matplotlib import pyplot as plt\n",
    "import numpy as np\n",
    "from numpy import load\n",
    "from pathlib import Path"
   ]
  },
  {
   "cell_type": "markdown",
   "metadata": {},
   "source": [
    "# **1. Full-field flicker stimulus**\n",
    "\n",
    "The data you are going to work with comes from extracellular recording of a retinal ganglion cell while stimulated with a full-field flicker, a stimulus consisting of a screen-wide presentation of contrast levels that changed with a given frequency. The contrast value of each presentation is calculated from a number that's been taken \"randomly\" from a (...)."
   ]
  },
  {
   "cell_type": "markdown",
   "metadata": {},
   "source": [
    "# **2. Loading the data**"
   ]
  },
  {
   "cell_type": "code",
   "execution_count": null,
   "metadata": {},
   "outputs": [],
   "source": [
    "filepath = Path(\"/home/juand/\")\n",
    "\n",
    "data = load(filepath)\n"
   ]
  },
  {
   "cell_type": "markdown",
   "metadata": {},
   "source": [
    "Now, the file just loaded has a number of variables stored, whose names can be retrieved in a list so:"
   ]
  },
  {
   "cell_type": "code",
   "execution_count": null,
   "metadata": {},
   "outputs": [],
   "source": [
    "data.files"
   ]
  },
  {
   "cell_type": "markdown",
   "metadata": {},
   "source": [
    "For us to be able to have access to and manipulate these variables, we have to add them to the local variables of the current workspace:"
   ]
  },
  {
   "cell_type": "code",
   "execution_count": null,
   "metadata": {},
   "outputs": [],
   "source": [
    "locals().update(data)"
   ]
  },
  {
   "cell_type": "markdown",
   "metadata": {},
   "source": [
    "Out of these variables, only three are of interest to us, namely, volts, spikes and ttls. Let us beging with volts. As its name suggests, it is the actual voltage recording, i.e., a list of numbers corresponding to volt values throughout the recording. To visualize the voltage trace, plot this variable."
   ]
  },
  {
   "cell_type": "code",
   "execution_count": null,
   "metadata": {},
   "outputs": [],
   "source": [
    "plt.plot(volts)"
   ]
  },
  {
   "cell_type": "markdown",
   "metadata": {},
   "source": [
    "You might not be able to make much out of this graph. It is because the spikes, which are of course part of the voltage trace, are so many that you can not tell them appart. To see them better, make a new variable that is only a fraction of \"volts\" and plot it again."
   ]
  },
  {
   "cell_type": "code",
   "execution_count": null,
   "metadata": {},
   "outputs": [],
   "source": [
    "volts_1=volts[:x]\n",
    "plt.plot(volts_1)"
   ]
  },
  {
   "cell_type": "markdown",
   "metadata": {},
   "source": [
    "We won't be working further with the volts variable and will now focus on \"spikes\" and \"ttls\" and \"stim_rand_nums\". \"spikes\" is a list of numbers representing timestamps –in seconds– for each occurrence of a spike. \"ttls\" is a list of timestamps of pulses that are generated to signal the presentation of the stimulus, so \"ttls\" is a list of the time points when the stimulus changed. \"stim_rand_nums\" is the sequence of \"random\" numbers that determined the contrast of each stimulus presentation."
   ]
  },
  {
   "cell_type": "markdown",
   "metadata": {},
   "source": [
    "Remember that we are going to collect the stimulus section preceding each spike. How long are these sections going to be, i.e, how further back into the past are we going to look? It depends, for different cells integrate information over different stretches of time, so we have to try with different time windows. The first thing we need to do is to find the index of the first spike that occured so long after the stimulus presentation began, that we can already collect the first stimulus portion of the desired size."
   ]
  },
  {
   "cell_type": "code",
   "execution_count": null,
   "metadata": {},
   "outputs": [],
   "source": [
    "###START CODE HERE###\n",
    "window = 15   \n",
    "i = 0\n",
    "while True:\n",
    "    index = np.searchsorted(ttls_adjusted, spikes_adjusted[i])\n",
    "    if index <= window:\n",
    "        i += 1\n",
    "    else:\n",
    "        break\n",
    "###FINISH CODE HERE"
   ]
  },
  {
   "cell_type": "markdown",
   "metadata": {},
   "source": [
    "Now that we know with which spike to begin with, let's initialize the variable that will store the stimulus portions preceding each spike:"
   ]
  },
  {
   "cell_type": "code",
   "execution_count": null,
   "metadata": {},
   "outputs": [],
   "source": [
    "stim_matrix = []"
   ]
  },
  {
   "cell_type": "markdown",
   "metadata": {},
   "source": [
    "We are going to take all the spikes one by one (i.e., their timestamps) and take the corresponding stimulus portion preceding it, starting with the stimulus value at the instant immediately before the occurrence of the spike and stretching back by the value of the window previously defined:"
   ]
  },
  {
   "cell_type": "code",
   "execution_count": null,
   "metadata": {},
   "outputs": [],
   "source": [
    "while i < len(spikes_adjusted):\n",
    "    stim_vect = stim_rand_nums[np.searchsorted(ttls_adjusted, spikes_adjusted[i]) - window: \n",
    "                               np.searchsorted(ttls_adjusted, spikes_adjusted[i])]\n",
    "    stim_matrix.append(stim_vect)\n",
    "    i += 1\n",
    "    \n",
    "stim_matrix = np.asarray(stim_matrix)"
   ]
  },
  {
   "cell_type": "markdown",
   "metadata": {},
   "source": [
    "We calculate the STA:"
   ]
  },
  {
   "cell_type": "code",
   "execution_count": null,
   "metadata": {},
   "outputs": [],
   "source": [
    "average_stim = np.sum(stim_matrix, axis = 0)\n",
    "sta = average_stim/len(stim_matrix)\n",
    "x_ax = np.linspace(-(ttls_adjusted[2] - ttls_adjusted[1])*window, 0, num = len(sta))"
   ]
  },
  {
   "cell_type": "markdown",
   "metadata": {},
   "source": [
    "And finally we plot it:"
   ]
  },
  {
   "cell_type": "code",
   "execution_count": null,
   "metadata": {},
   "outputs": [],
   "source": [
    "plt.plot(x_ax,sta)\n",
    "plt.xlabel('Time (s)')\n",
    "plt.ylabel('Contrast')"
   ]
  }
 ],
 "metadata": {
  "kernelspec": {
   "display_name": "Python 3",
   "language": "python",
   "name": "python3"
  },
  "language_info": {
   "codemirror_mode": {
    "name": "ipython",
    "version": 3
   },
   "file_extension": ".py",
   "mimetype": "text/x-python",
   "name": "python",
   "nbconvert_exporter": "python",
   "pygments_lexer": "ipython3",
   "version": "3.6.8"
  }
 },
 "nbformat": 4,
 "nbformat_minor": 2
}
